{
 "cells": [
  {
   "cell_type": "markdown",
   "id": "5aeecf33-a11d-4cd9-a45b-31710a251e12",
   "metadata": {},
   "source": [
    "# Wstęp\n",
    "\n",
    "Język obiektowy, wspierający różne paradygmaty programowania. O szerokich zastosowaniach. Interpretowany. Z dużą społecznością. Bardzo popularny.\n",
    "\n",
    "Python to popularny język programowania wysokiego poziomu, który po raz pierwszy został wydany w 1991 roku przez Guido van Rossuma, \n",
    "holenderskiego programistę komputerowego. Oto krótka historia Pythona:\n",
    "Van Rossum rozpoczął pracę nad Pythonem w grudniu 1989 roku, kiedy pracował w Narodowym Instytucie Badawczym Matematyki i Informatyki w Holandii. Zainspirował go szereg innych języków programowania, w tym ABC, Modula-3 i C.\n",
    "\n",
    "Python został oficjalnie wydany 20 lutego 1991 roku. Jego nazwa została zainspirowana brytyjską grupą komediową Monty Python.\n",
    "\n",
    "Na początku lat 90. Python był używany głównie do zadań związanych z administrowaniem systemem oraz jako język skryptowy dla większych projektów programistycznych.\n",
    "\n",
    "Pod koniec lat 90. Python zyskał popularność jako język programowania ogólnego przeznaczenia i zaczął być używany w wielu zastosowaniach, w tym w obliczeniach naukowych, analizie danych i tworzeniu stron internetowych.\n",
    "\n",
    "W 2000 roku wydano Python 2.0, który wprowadził szereg nowych funkcji, w tym obsługę Unicode i system wyrzucania elementów bezużytecznych.\n",
    "\n",
    "W 2008 roku wydano Python 3.0, który wprowadził istotne zmiany w składni języka i standardowej bibliotece. Python 3.0 nie był wstecznie kompatybilny z wcześniejszymi wersjami Pythona, co spowodowało pewne zamieszanie wśród użytkowników i spowolniło jego wdrażanie.\n",
    "\n",
    "Obecnie Python jest jednym z najpopularniejszych języków programowania na świecie i jest używany w wielu dziedzinach, w tym w tworzeniu stron internetowych, nauce o danych, uczeniu maszynowym i obliczeniach naukowych.\n",
    "\n",
    "\n",
    "# Section 1: Computer Programming and Python Fundamentals \n",
    "\n",
    "## PCEP-30-02 1.1 – Understand fundamental terms and definitions\n",
    "\n",
    "### interpreting and the interpreter, compilation and the compiler\n",
    "\n",
    "*Interpretacja*: W przypadku interpretacji, kod źródłowy jest czytany i wykonywany linijka po linijce przez interpreter. Interpreter analizuje i tłumaczy kod na bieżąco, co oznacza, że ​​nie ma konieczności wcześniejszego przekształcenia go w postać wykonywalną. Ten proces jest często bardziej elastyczny i pozwala na natychmiastową identyfikację błędów w kodzie, ponieważ interpreter zatrzymuje wykonanie programu w momencie napotkania błędu. Jednym z popularnych języków programowania, który korzysta z tego podejścia, jest Python.\n",
    "\n",
    "*Kompilacja*: W przeciwieństwie do interpretacji, proces kompilacji polega na przekształceniu kodu źródłowego w postać wykonywalną, znaną jako kod maszynowy, przed jego uruchomieniem. Kompilator analizuje cały kod źródłowy i przekształca go na instrukcje zrozumiałe dla komputera. Wynikiem tego procesu jest plik wykonywalny, który może być uruchomiony bez potrzeby dostępu do oryginalnego kodu źródłowego. Przykładem języka programowania, który wykorzystuje kompilację, jest C++.\n",
    "\n",
    "\n",
    "Python to język interpretowany, aczkolwiek w czasie uruchamiania skryptów pythona zachodzi proces ich kompilacji do postaci bytecode. I ta postać jest potem interpretowana. \n",
    "\n",
    "#### Interpreter\n",
    "\n",
    "Interpreter Pythona to program, który jest odpowiedzialny za wykonywanie kodu napisanego w języku Python. Gdy chcesz uruchomić kod Pythona, musisz go zapisać w pliku z rozszerzeniem \".py\" i następnie uruchomić interpreter Pythona za pomocą polecenia \"python\" w wierszu poleceń.\n",
    "\n",
    "Interpreter Pythona działa w następujący sposób:\n",
    "\n",
    "* Wczytuje plik z kodem Pythona i przechodzi przez go linia po linii, analizując go i tworząc odpowiedni model danych w pamięci i kompiluje go do bytecode, który jest zoptymalizowany pod kątem wydajności.\n",
    "\n",
    "* Gdy interpreter napotka instrukcję, wykonuje ją. Może to być np. instrukcja przypisania wartości do zmiennej, wywołanie funkcji lub instrukcja warunkowa (np. if).\n",
    "\n",
    "* Jeśli interpreter napotka błąd podczas analizy lub wykonywania kodu, wyświetli komunikat o błędzie i zatrzyma wykonywanie kodu.\n",
    "\n",
    "* Gdy interpreter dojdzie do końca kodu, zakończy działanie.\n",
    "\n",
    "Ponieważ bytecode jest zoptymalizowany pod kątem wydajności, interpreter Pythona jest w stanie szybciej wykonywać kod niż interpreter innych języków programowania, które nie wykorzystują kompilacji do bytecode.\n",
    "\n",
    "Interpreter Pythona umożliwia wykonywanie kodu w trybie interaktywnym, co pozwala na testowanie i debugowanie kodu linijka po linijce. Możesz to zrobić, uruchamiając interpreter Pythona bez podawania nazwy pliku, np. poprzez wpisanie polecenia \"python\" w wierszu poleceń.\n",
    "\n",
    "##### Dodatkowe parametry przy uruchamianiu skryptów:\n",
    "\n",
    "Przy uruchamianiu skryptów Pythona możesz używać różnych dodatkowych parametrów, które pozwalają na zmianę sposobu działania interpretera lub skryptu. Oto kilka przykładów takich parametrów:\n",
    "\n",
    "*    `-d`: Służy do włączenia opcji debugowania. Dzięki temu interpreter wyświetli dodatkowe informacje, takie jak nazwy zmiennych i wartości, które mogą pomóc w debugowaniu kodu.\n",
    "\n",
    "*    `-O`: Służy do włączenia optymalizacji kodu. Dzięki temu interpreter zoptymalizuje bytecode, co może przyspieszyć wykonywanie kodu.\n",
    "\n",
    "*    `-i`: Służy do uruchomienia skryptu w trybie interaktywnym po jego zakończeniu. Po wykonaniu skryptu interpreter pozostanie aktywny, co pozwala na testowanie i debugowanie kodu linijka po linijce.\n",
    "\n",
    "*    `-m` module: Służy do uruchomienia modułu Pythona jako skrypt. Pozwala to na uruchamianie modułów bez konieczności importowania ich do innych skryptów.\n",
    "\n",
    "*    `-c` command: Służy do wykonania polecenia Pythona z linii poleceń. Pozwala to na wykonywanie pojedynczych poleceń bez konieczności tworzenia osobnego pliku skryptu.\n",
    "\n",
    "\n",
    "\n",
    "\n",
    "    $ python nazwa.py\n",
    "\n",
    "    $ python\n",
    "    \n",
    "    $ python -i nazwa.py\n",
    "    \n",
    "  \n",
    "\n",
    "\n",
    "### lexis, syntax, and semantics\n",
    "\n",
    "W kontekście języka programowania Python, leksyka (lexis), składnia (syntax) i semantyka (semantics) odnoszą się do trzech fundamentalnych aspektów, które razem definiują, jak kod jest pisany, interpretowany i jakie działanie reprezentuje. Oto krótkie wyjaśnienie każdego z tych pojęć:\n",
    "\n",
    "#### Lexis (Leksyka)\n",
    "\n",
    "Leksyka w Pythonie odnosi się do zbioru słów i symboli, które są uznawane przez język jako poprawne. W kontekście programowania, te \"słowa\" i \"symbole\" to identyfikatory (np. nazwy zmiennych, nazwy funkcji), typy danych, literały (np. wartości liczbowe, ciągi znaków), operatory (np. `+`, `-`, `*`, `/`) i inne tokeny językowe. Leksyka określa podstawowe \"budulce\", z których składany jest kod źródłowy. Python ma ściśle określony zbiór słów kluczowych (np. `if`, `for`, `def`), które mają specjalne znaczenie i nie mogą być używane jako identyfikatory.\n",
    "\n",
    "#### Syntax (Składnia)\n",
    "\n",
    "Składnia w Pythonie to zbiór reguł, które określają, jak tokeny leksykalne mogą być połączone, aby utworzyć poprawne struktury językowe, takie jak wyrażenia, instrukcje i definicje funkcji. Składnia definiuje \"gramatykę\" języka Python, określając, na przykład, jak należy pisać instrukcję warunkową (`if`), jak definiować funkcję (`def nazwa_funkcji(parametry):`) czy jak tworzyć pętle (`for`, `while`). Poprawna składnia jest niezbędna, aby interpreter Pythona mógł zrozumieć i wykonanie kodu.\n",
    "\n",
    "#### Semantics (Semantyka)\n",
    "\n",
    "Semantyka w Pythonie odnosi się do znaczenia i zachowania konstrukcji językowych zdefiniowanych przez leksykę i składnię. Innymi słowy, semantyka opisuje, co konkretnie dzieje się, gdy kod jest wykonany przez interpreter Pythona. Semantyka obejmuje działanie operacji, przepływ sterowania programu (jak program reaguje na instrukcje warunkowe, pętle, wyjątki), sposób, w jaki funkcje są wywoływane i zwracają wartości, jak są przechowywane i manipulowane dane, i tak dalej. Semantyka jest tym, co decyduje o działaniu programu - jej zrozumienie jest kluczowe dla efektywnego programowania i rozwiązywania problemów.\n",
    "\n",
    "Podsumowując, leksyka, składnia i semantyka są trzema kolumnami, na których opiera się każdy język programowania, w tym Python. Razem definiują, jak pisać kod, jak ten kod jest interpretowany przez maszynę, i co ostatecznie ten kod robi.\n",
    "\n",
    "### keywords\n",
    "\n",
    "Słowa kluczowe w języku Python to zdefiniowane wcześniej słowa, które mają specjalne znaczenie i są zarezerwowane dla konkretnych zastosowań w języku programowania. Słowa kluczowe nie mogą być używane jako nazwy zmiennych ani identyfikatorów w kodzie programu, ponieważ są one integralną częścią składni Pythona. "
   ]
  },
  {
   "cell_type": "code",
   "execution_count": 2,
   "id": "9d607ce0-37a3-47ae-b79d-5d2446214ae6",
   "metadata": {},
   "outputs": [
    {
     "name": "stdout",
     "output_type": "stream",
     "text": [
      "\n",
      "Here is a list of the Python keywords.  Enter any keyword to get more help.\n",
      "\n",
      "False               class               from                or\n",
      "None                continue            global              pass\n",
      "True                def                 if                  raise\n",
      "and                 del                 import              return\n",
      "as                  elif                in                  try\n",
      "assert              else                is                  while\n",
      "async               except              lambda              with\n",
      "await               finally             nonlocal            yield\n",
      "break               for                 not                 \n",
      "\n"
     ]
    }
   ],
   "source": [
    "help(\"keywords\")"
   ]
  },
  {
   "cell_type": "markdown",
   "id": "893ab10c-e1db-4520-9351-4a7825b86af4",
   "metadata": {},
   "source": [
    "Poniżej krótki opis większości tych słów:\n",
    "\n",
    "#### Wartości - singletony\n",
    "- **True**: wartość logiczna oznaczająca prawdę.\n",
    "- **False**: wartość logiczna oznaczająca fałsz.\n",
    "- **None**: specjalna wartość oznaczająca brak wartości.\n",
    "\n",
    "#### Operatory i wyrażenia warunkowe\n",
    "- **and**: operator logiczny \"i\".\n",
    "- **or**: operator logiczny \"lub\".\n",
    "- **not**: operator logiczny \"nie\".\n",
    "- **is**: porównuje tożsamość obiektów.\n",
    "- **in**: sprawdza przynależność elementu do sekwencji.\n",
    "\n",
    "- **if**: wprowadza blok instrukcji warunkowych.\n",
    "- **elif**: wprowadza dodatkowy warunek w bloku `if`.\n",
    "- **else**: wprowadza blok instrukcji, który zostanie wykonany, jeśli poprzednie warunki były fałszywe.\n",
    "\n",
    "#### Obsługa asynchroniczności\n",
    "- **async**: deklaruje asynchroniczną funkcję lub kontekst.\n",
    "- **await**: czeka na wynik asynchronicznej operacji.\n",
    "\n",
    "#### Nowe typy i funkcje\n",
    "- **def**: definiuje nową funkcję.\n",
    "- **class**: definiuje nową klasę.\n",
    "- **return**: zwraca wartość z funkcji.\n",
    "- **yield**: zwraca wartość z funkcji generatora.\n",
    "- **pass**: pusty statement; nic nie robi.\n",
    "\n",
    "#### Walidacje \n",
    "- **assert**: używane do debugowania; rzuca wyjątek, jeśli wyrażenie jest fałszywe.\n",
    "\n",
    "#### Pętle\n",
    "- **for**: wprowadza pętlę for.\n",
    "- **while**: wprowadza pętlę while.\n",
    "- **else**: w kontekście pętli, wykonuje blok kodu, gdy pętla zakończy się normalnie (bez `break`).\n",
    "\n",
    "##### Przerwania w pętlach\n",
    "- **break**: przerywa pętlę.\n",
    "- **continue**: przechodzi do następnej iteracji pętli.\n",
    "\n",
    "#### Wyjątki\n",
    "- **raise**: rzuca wyjątek.\n",
    "- **try**: definiuje blok instrukcji do \"próby\".\n",
    "- **except**: definiuje blok instrukcji do obsługi wyjątków.\n",
    "- **finally**: definiuje blok instrukcji, który zostanie wykonany niezależnie od tego, czy wystąpił wyjątek.\n",
    "\n",
    "#### Operowanie na przestrzeniach nazw\n",
    "- **global**: deklaruje zmienną jako globalną.\n",
    "- **nonlocal**: odnosi się do zmiennej w najbliższym otaczającym zakresie, który nie jest globalny.\n",
    "- **del**: usuwa referencję do obiektu.\n",
    "\n",
    "#### Importowanie\n",
    "- **import**: importuje moduł.\n",
    "- **from**: importuje określone atrybuty z modułu.\n",
    "- **as**: definiuje alias dla importowanego modułu lub atrybutu.\n",
    "\n",
    "#### Managery kontekstu\n",
    "- **with**: wprowadza blok kodu zarządzany przez menedżera kontekstu.\n",
    "- **as**: w kontekście `with`, przypisuje obiekt do zmiennej.\n"
   ]
  },
  {
   "cell_type": "markdown",
   "id": "d56157c4-e748-4f0b-b77b-33ebf646a0e5",
   "metadata": {},
   "source": [
    "### Instructions\n",
    "\n",
    "Instrukcje to wyrażenia języka programowania, które interpreter lub kompilator przekształca na zestaw operacji wykonywanych przez komputer. W Pythonie, podobnie jak w wielu językach wysokiego poziomu, instrukcje mogą być bardzo zróżnicowane i obejmować różne typy działań, w tym:\n",
    "\n",
    "- **Przypisania** – Instrukcje przypisujące wartości do zmiennych, np. `x = 5`, co oznacza przypisanie wartości 5 do zmiennej `x`.\n",
    "- **Wywołania funkcji** – Instrukcje wywołujące funkcje, które wykonują określone działania, np. `print(\"Hello, World!\")`, co wywołuje funkcję `print` w celu wyświetlenia tekstu na ekranie.\n",
    "- **Instrukcje sterujące** – Instrukcje kontrolujące przepływ programu, takie jak instrukcje warunkowe (`if`, `elif`, `else`), pętle (`for`, `while`), oraz instrukcje kontroli przepływu jak `break` i `continue`.\n",
    "- **Definicje funkcji i klas** – Instrukcje służące do definiowania funkcji oraz klas, które strukturują kod i zachowania programu, np. `def my_function():` lub `class MyClass:`.\n",
    "\n",
    "Wszystkie te instrukcje, kiedy są poprawnie użyte w ramach leksyki i składni języka, składają się na program, który interpreter Pythona może przetworzyć i wykonać. Każda instrukcja jest przetwarzana sekwencyjnie (chyba że instrukcje sterujące zmieniają ten naturalny przepływ), co prowadzi do realizacji algorytmu określonego przez programistę.\n",
    "\n",
    "Instrukcje w Pythonie są wykonywane w kontekście semantyki języka, co oznacza, że ich działanie i efekty są ściśle określone przez zasady semantyczne Pythona. Dzięki temu programiści mają precyzyjne narzędzia do manipulowania danymi, kontrolowania przepływu programu, interakcji z systemem operacyjnym, sieciami, plikami i wieloma innymi aspektami komputacji.\n",
    "\n",
    "Podsumowując, instrukcje są podstawowymi \"rozkazami\" dla komputera, opisanymi w języku programowania, które określają, co ma być wykonane. Są one fundamentem każdego programu i pozwalają na przekształcanie algorytmów i pomysłów w działający kod."
   ]
  },
  {
   "cell_type": "code",
   "execution_count": 3,
   "id": "285db853-9092-45a5-8202-a6626378c90c",
   "metadata": {},
   "outputs": [
    {
     "name": "stdout",
     "output_type": "stream",
     "text": [
      "Hello, World!\n",
      "x is less than y\n",
      "0\n",
      "1\n",
      "2\n",
      "3\n",
      "4\n",
      "Result of addition: 15\n"
     ]
    }
   ],
   "source": [
    "# Przypisanie\n",
    "x = 5\n",
    "y = 10\n",
    "\n",
    "# Wywołanie funkcji\n",
    "print(\"Hello, World!\")\n",
    "\n",
    "# Instrukcje sterujące\n",
    "if x < y:\n",
    "    print(\"x is less than y\")\n",
    "elif x > y:\n",
    "    print(\"x is greater than y\")\n",
    "else:\n",
    "    print(\"x is equal to y\")\n",
    "\n",
    "# Pętla for\n",
    "for i in range(5):\n",
    "    print(i)\n",
    "\n",
    "# Definicja funkcji\n",
    "def add_numbers(a, b):\n",
    "    return a + b\n",
    "\n",
    "# Wywołanie funkcji\n",
    "result = add_numbers(x, y)\n",
    "print(\"Result of addition:\", result)\n"
   ]
  },
  {
   "cell_type": "markdown",
   "id": "45b82797-13d5-4668-9132-ffef3b4fca91",
   "metadata": {},
   "source": [
    "### indentation\n",
    "Wcięcia (ang. *indentation*) w Pythonie pełnią kluczową rolę w definiowaniu struktury programu. Python używa wcięć do określania bloków kodu, co oznacza, że sposób, w jaki kod jest wcięty, ma bezpośredni wpływ na jego działanie. To unikalne podejście różni Pythona od wielu innych języków programowania, które zazwyczaj używają nawiasów klamrowych lub słów kluczowych do definiowania początku i końca bloków kodu.\n",
    "\n",
    "Oto główne cechy i zasady dotyczące wcięć w Pythonie:\n",
    "\n",
    "#### Definiowanie bloków kodu\n",
    "\n",
    "W Pythonie blok kodu zaczyna się tam, gdzie rozpoczyna się wcięcie, i kończy tam, gdzie wcięcie się kończy. Bloki kodu mogą być na przykład ciałami funkcji, pętlami, instrukcjami warunkowymi oraz blokami kodu dla klas. Wszystkie instrukcje wewnątrz tego samego bloku muszą mieć takie samo wcięcie.\n",
    "\n",
    "#### Wcięcia a czytelność kodu\n",
    "\n",
    "Jednym z celów użycia wcięć jest zwiększenie czytelności kodu. Dzięki temu kod jest łatwiejszy do zrozumienia i utrzymania. Poprzez wymaganie wcięć, Python zmusza programistów do utrzymania czystej i spójnej struktury kodu.\n",
    "\n",
    "#### Sposób tworzenia wcięć\n",
    "\n",
    "Wcięcia mogą być tworzone przy użyciu spacji lub tabulatorów, jednak Python 3 zabrania mieszania spacji z tabulatorami w ramach jednego bloku kodu. Zalecane jest stosowanie 4 spacji na poziom wcięcia, co stało się standardem w społeczności Pythona.\n",
    "\n",
    "#### Błędy związane z wcięciami\n",
    "\n",
    "Niepoprawne użycie wcięć może prowadzić do błędów składniowych (`IndentationError`), które uniemożliwiają uruchomienie programu. Na przykład, niezamierzone zmiany poziomu wcięcia mogą zmienić logikę programu lub spowodować, że część kodu nie zostanie wykonana.\n",
    "\n",
    "### Przykład\n",
    "\n",
    "```python\n",
    "def przykladowa_funkcja():\n",
    "    # Początek bloku wciętego dla funkcji\n",
    "    if True:\n",
    "        print(\"Ten tekst zostanie wyświetlony.\")\n",
    "    # Koniec bloku wciętego dla funkcji\n",
    "\n",
    "# Początek nowego bloku kodu\n",
    "for i in range(3):\n",
    "    # Blok dla pętli for\n",
    "    print(i)\n",
    "```\n",
    "\n",
    "Wcięcia w Pythonie są więc nie tylko stylistycznym wyborem, ale fundamentalnym aspektem składni, który ma bezpośredni wpływ na działanie programu. Przestrzeganie konwencji dotyczących wcięć jest niezbędne dla poprawnego działania kodu Python."
   ]
  },
  {
   "cell_type": "markdown",
   "id": "6d1e6bd9-85a0-40c1-82dd-cbb0dba62445",
   "metadata": {},
   "source": [
    "### Comments\n"
   ]
  },
  {
   "cell_type": "code",
   "execution_count": 4,
   "id": "3acd356f-9734-40da-88ad-11e6f970f3ec",
   "metadata": {},
   "outputs": [],
   "source": [
    "# to jest komentarz\n",
    "x = 1 # to jest komentarz\n",
    "\n"
   ]
  },
  {
   "cell_type": "code",
   "execution_count": 5,
   "id": "ea04a9e9-1900-4b59-aa3b-00af2cd40fa9",
   "metadata": {},
   "outputs": [
    {
     "data": {
      "text/plain": [
       "'\\nTo czasem bywa wykorzystywane jako komentarz\\nchoć to nie jest komentarz formalnie rzecz biorąc\\n'"
      ]
     },
     "execution_count": 5,
     "metadata": {},
     "output_type": "execute_result"
    }
   ],
   "source": [
    "\"\"\"\n",
    "To czasem bywa wykorzystywane jako komentarz\n",
    "choć to nie jest komentarz formalnie rzecz biorąc\n",
    "\"\"\""
   ]
  },
  {
   "cell_type": "code",
   "execution_count": 6,
   "id": "110fe231-56cb-4275-86e3-046351dce8cc",
   "metadata": {},
   "outputs": [
    {
     "name": "stdout",
     "output_type": "stream",
     "text": [
      "Overwriting test.py\n"
     ]
    }
   ],
   "source": [
    "%%writefile test.py\n",
    "\n",
    "\"\"\"\n",
    "To czasem bywa wykorzystywane jako komentarz\n",
    "choć to nie jest komentarz formalnie rzecz biorąc\n",
    "\"\"\"\n"
   ]
  },
  {
   "cell_type": "code",
   "execution_count": 12,
   "id": "0c5ea76a-2d03-4939-b8ca-55e22f2216c3",
   "metadata": {},
   "outputs": [],
   "source": [
    "!python test.py"
   ]
  },
  {
   "cell_type": "markdown",
   "id": "3c708f22-3bfe-4310-b860-48a0b7058b1d",
   "metadata": {},
   "source": [
    "w powyższych przykładach `%%writefile` oraz `!python` to dobra wprowadzane przez jupyter notebook. Pierwsze to tzw. funkcja magiczna (jedna z wielu - sprawdź w inne komórce `%lsmagic`. z koleji `!` na początku komórki typu code oznacza wykonywania polecenia wiersza poleceń - komórka zamienia się w rodzaj terminala. "
   ]
  },
  {
   "cell_type": "markdown",
   "id": "e9b106a3-19d6-4d96-95f6-08dcc1ae58a3",
   "metadata": {},
   "source": [
    "## PCEP-30-02 1.3 – Introduce literals and variables into code and use different numeral systems\n",
    "\n",
    "### Boolean, integers, floating-point numbers"
   ]
  },
  {
   "cell_type": "code",
   "execution_count": 16,
   "id": "50e06483-6470-46eb-a95f-8d57ce2c2706",
   "metadata": {},
   "outputs": [
    {
     "data": {
      "text/plain": [
       "(False, True)"
      ]
     },
     "execution_count": 16,
     "metadata": {},
     "output_type": "execute_result"
    }
   ],
   "source": [
    "False, True "
   ]
  },
  {
   "cell_type": "code",
   "execution_count": 19,
   "id": "104d1601-55df-4b81-ad2b-62d7343d287a",
   "metadata": {},
   "outputs": [
    {
     "data": {
      "text/plain": [
       "bool"
      ]
     },
     "execution_count": 19,
     "metadata": {},
     "output_type": "execute_result"
    }
   ],
   "source": [
    "bool"
   ]
  },
  {
   "cell_type": "code",
   "execution_count": 20,
   "id": "f7ceeb72-dfb4-45d7-a530-4718fa3b1db1",
   "metadata": {},
   "outputs": [
    {
     "data": {
      "text/plain": [
       "False"
      ]
     },
     "execution_count": 20,
     "metadata": {},
     "output_type": "execute_result"
    }
   ],
   "source": [
    "bool()"
   ]
  },
  {
   "cell_type": "code",
   "execution_count": 21,
   "id": "4de6e6fd-6764-4e3b-8177-87456549fc7b",
   "metadata": {},
   "outputs": [
    {
     "data": {
      "text/plain": [
       "True"
      ]
     },
     "execution_count": 21,
     "metadata": {},
     "output_type": "execute_result"
    }
   ],
   "source": [
    "bool(\"10\")"
   ]
  },
  {
   "cell_type": "code",
   "execution_count": 17,
   "id": "077f4d5e-d27e-4014-a39c-a86d4e39c734",
   "metadata": {},
   "outputs": [
    {
     "data": {
      "text/plain": [
       "2"
      ]
     },
     "execution_count": 17,
     "metadata": {},
     "output_type": "execute_result"
    }
   ],
   "source": [
    "1 + True"
   ]
  },
  {
   "cell_type": "code",
   "execution_count": 18,
   "id": "470c8c38-5f24-45fd-a6f4-aa6a60a73577",
   "metadata": {},
   "outputs": [
    {
     "name": "stdout",
     "output_type": "stream",
     "text": [
      "Help on class bool in module builtins:\n",
      "\n",
      "class bool(int)\n",
      " |  bool(x) -> bool\n",
      " |  \n",
      " |  Returns True when the argument x is true, False otherwise.\n",
      " |  The builtins True and False are the only two instances of the class bool.\n",
      " |  The class bool is a subclass of the class int, and cannot be subclassed.\n",
      " |  \n",
      " |  Method resolution order:\n",
      " |      bool\n",
      " |      int\n",
      " |      object\n",
      " |  \n",
      " |  Methods defined here:\n",
      " |  \n",
      " |  __and__(self, value, /)\n",
      " |      Return self&value.\n",
      " |  \n",
      " |  __or__(self, value, /)\n",
      " |      Return self|value.\n",
      " |  \n",
      " |  __rand__(self, value, /)\n",
      " |      Return value&self.\n",
      " |  \n",
      " |  __repr__(self, /)\n",
      " |      Return repr(self).\n",
      " |  \n",
      " |  __ror__(self, value, /)\n",
      " |      Return value|self.\n",
      " |  \n",
      " |  __rxor__(self, value, /)\n",
      " |      Return value^self.\n",
      " |  \n",
      " |  __xor__(self, value, /)\n",
      " |      Return self^value.\n",
      " |  \n",
      " |  ----------------------------------------------------------------------\n",
      " |  Static methods defined here:\n",
      " |  \n",
      " |  __new__(*args, **kwargs) from builtins.type\n",
      " |      Create and return a new object.  See help(type) for accurate signature.\n",
      " |  \n",
      " |  ----------------------------------------------------------------------\n",
      " |  Methods inherited from int:\n",
      " |  \n",
      " |  __abs__(self, /)\n",
      " |      abs(self)\n",
      " |  \n",
      " |  __add__(self, value, /)\n",
      " |      Return self+value.\n",
      " |  \n",
      " |  __bool__(self, /)\n",
      " |      True if self else False\n",
      " |  \n",
      " |  __ceil__(...)\n",
      " |      Ceiling of an Integral returns itself.\n",
      " |  \n",
      " |  __divmod__(self, value, /)\n",
      " |      Return divmod(self, value).\n",
      " |  \n",
      " |  __eq__(self, value, /)\n",
      " |      Return self==value.\n",
      " |  \n",
      " |  __float__(self, /)\n",
      " |      float(self)\n",
      " |  \n",
      " |  __floor__(...)\n",
      " |      Flooring an Integral returns itself.\n",
      " |  \n",
      " |  __floordiv__(self, value, /)\n",
      " |      Return self//value.\n",
      " |  \n",
      " |  __format__(self, format_spec, /)\n",
      " |      Default object formatter.\n",
      " |  \n",
      " |  __ge__(self, value, /)\n",
      " |      Return self>=value.\n",
      " |  \n",
      " |  __getattribute__(self, name, /)\n",
      " |      Return getattr(self, name).\n",
      " |  \n",
      " |  __getnewargs__(self, /)\n",
      " |  \n",
      " |  __gt__(self, value, /)\n",
      " |      Return self>value.\n",
      " |  \n",
      " |  __hash__(self, /)\n",
      " |      Return hash(self).\n",
      " |  \n",
      " |  __index__(self, /)\n",
      " |      Return self converted to an integer, if self is suitable for use as an index into a list.\n",
      " |  \n",
      " |  __int__(self, /)\n",
      " |      int(self)\n",
      " |  \n",
      " |  __invert__(self, /)\n",
      " |      ~self\n",
      " |  \n",
      " |  __le__(self, value, /)\n",
      " |      Return self<=value.\n",
      " |  \n",
      " |  __lshift__(self, value, /)\n",
      " |      Return self<<value.\n",
      " |  \n",
      " |  __lt__(self, value, /)\n",
      " |      Return self<value.\n",
      " |  \n",
      " |  __mod__(self, value, /)\n",
      " |      Return self%value.\n",
      " |  \n",
      " |  __mul__(self, value, /)\n",
      " |      Return self*value.\n",
      " |  \n",
      " |  __ne__(self, value, /)\n",
      " |      Return self!=value.\n",
      " |  \n",
      " |  __neg__(self, /)\n",
      " |      -self\n",
      " |  \n",
      " |  __pos__(self, /)\n",
      " |      +self\n",
      " |  \n",
      " |  __pow__(self, value, mod=None, /)\n",
      " |      Return pow(self, value, mod).\n",
      " |  \n",
      " |  __radd__(self, value, /)\n",
      " |      Return value+self.\n",
      " |  \n",
      " |  __rdivmod__(self, value, /)\n",
      " |      Return divmod(value, self).\n",
      " |  \n",
      " |  __rfloordiv__(self, value, /)\n",
      " |      Return value//self.\n",
      " |  \n",
      " |  __rlshift__(self, value, /)\n",
      " |      Return value<<self.\n",
      " |  \n",
      " |  __rmod__(self, value, /)\n",
      " |      Return value%self.\n",
      " |  \n",
      " |  __rmul__(self, value, /)\n",
      " |      Return value*self.\n",
      " |  \n",
      " |  __round__(...)\n",
      " |      Rounding an Integral returns itself.\n",
      " |      \n",
      " |      Rounding with an ndigits argument also returns an integer.\n",
      " |  \n",
      " |  __rpow__(self, value, mod=None, /)\n",
      " |      Return pow(value, self, mod).\n",
      " |  \n",
      " |  __rrshift__(self, value, /)\n",
      " |      Return value>>self.\n",
      " |  \n",
      " |  __rshift__(self, value, /)\n",
      " |      Return self>>value.\n",
      " |  \n",
      " |  __rsub__(self, value, /)\n",
      " |      Return value-self.\n",
      " |  \n",
      " |  __rtruediv__(self, value, /)\n",
      " |      Return value/self.\n",
      " |  \n",
      " |  __sizeof__(self, /)\n",
      " |      Returns size in memory, in bytes.\n",
      " |  \n",
      " |  __sub__(self, value, /)\n",
      " |      Return self-value.\n",
      " |  \n",
      " |  __truediv__(self, value, /)\n",
      " |      Return self/value.\n",
      " |  \n",
      " |  __trunc__(...)\n",
      " |      Truncating an Integral returns itself.\n",
      " |  \n",
      " |  as_integer_ratio(self, /)\n",
      " |      Return integer ratio.\n",
      " |      \n",
      " |      Return a pair of integers, whose ratio is exactly equal to the original int\n",
      " |      and with a positive denominator.\n",
      " |      \n",
      " |      >>> (10).as_integer_ratio()\n",
      " |      (10, 1)\n",
      " |      >>> (-10).as_integer_ratio()\n",
      " |      (-10, 1)\n",
      " |      >>> (0).as_integer_ratio()\n",
      " |      (0, 1)\n",
      " |  \n",
      " |  bit_count(self, /)\n",
      " |      Number of ones in the binary representation of the absolute value of self.\n",
      " |      \n",
      " |      Also known as the population count.\n",
      " |      \n",
      " |      >>> bin(13)\n",
      " |      '0b1101'\n",
      " |      >>> (13).bit_count()\n",
      " |      3\n",
      " |  \n",
      " |  bit_length(self, /)\n",
      " |      Number of bits necessary to represent self in binary.\n",
      " |      \n",
      " |      >>> bin(37)\n",
      " |      '0b100101'\n",
      " |      >>> (37).bit_length()\n",
      " |      6\n",
      " |  \n",
      " |  conjugate(...)\n",
      " |      Returns self, the complex conjugate of any int.\n",
      " |  \n",
      " |  to_bytes(self, /, length, byteorder, *, signed=False)\n",
      " |      Return an array of bytes representing an integer.\n",
      " |      \n",
      " |      length\n",
      " |        Length of bytes object to use.  An OverflowError is raised if the\n",
      " |        integer is not representable with the given number of bytes.\n",
      " |      byteorder\n",
      " |        The byte order used to represent the integer.  If byteorder is 'big',\n",
      " |        the most significant byte is at the beginning of the byte array.  If\n",
      " |        byteorder is 'little', the most significant byte is at the end of the\n",
      " |        byte array.  To request the native byte order of the host system, use\n",
      " |        `sys.byteorder' as the byte order value.\n",
      " |      signed\n",
      " |        Determines whether two's complement is used to represent the integer.\n",
      " |        If signed is False and a negative integer is given, an OverflowError\n",
      " |        is raised.\n",
      " |  \n",
      " |  ----------------------------------------------------------------------\n",
      " |  Class methods inherited from int:\n",
      " |  \n",
      " |  from_bytes(bytes, byteorder, *, signed=False) from builtins.type\n",
      " |      Return the integer represented by the given array of bytes.\n",
      " |      \n",
      " |      bytes\n",
      " |        Holds the array of bytes to convert.  The argument must either\n",
      " |        support the buffer protocol or be an iterable object producing bytes.\n",
      " |        Bytes and bytearray are examples of built-in objects that support the\n",
      " |        buffer protocol.\n",
      " |      byteorder\n",
      " |        The byte order used to represent the integer.  If byteorder is 'big',\n",
      " |        the most significant byte is at the beginning of the byte array.  If\n",
      " |        byteorder is 'little', the most significant byte is at the end of the\n",
      " |        byte array.  To request the native byte order of the host system, use\n",
      " |        `sys.byteorder' as the byte order value.\n",
      " |      signed\n",
      " |        Indicates whether two's complement is used to represent the integer.\n",
      " |  \n",
      " |  ----------------------------------------------------------------------\n",
      " |  Data descriptors inherited from int:\n",
      " |  \n",
      " |  denominator\n",
      " |      the denominator of a rational number in lowest terms\n",
      " |  \n",
      " |  imag\n",
      " |      the imaginary part of a complex number\n",
      " |  \n",
      " |  numerator\n",
      " |      the numerator of a rational number in lowest terms\n",
      " |  \n",
      " |  real\n",
      " |      the real part of a complex number\n",
      "\n"
     ]
    }
   ],
   "source": [
    "help(bool)"
   ]
  },
  {
   "cell_type": "code",
   "execution_count": 22,
   "id": "53384ca2-8ed6-46af-ac0f-996a473009b7",
   "metadata": {},
   "outputs": [
    {
     "data": {
      "text/plain": [
       "False"
      ]
     },
     "execution_count": 22,
     "metadata": {},
     "output_type": "execute_result"
    }
   ],
   "source": [
    "bool(0)"
   ]
  },
  {
   "cell_type": "code",
   "execution_count": 23,
   "id": "09b22741-fb45-46f7-af49-2fcbf6c26f38",
   "metadata": {},
   "outputs": [
    {
     "data": {
      "text/plain": [
       "int"
      ]
     },
     "execution_count": 23,
     "metadata": {},
     "output_type": "execute_result"
    }
   ],
   "source": [
    "int"
   ]
  },
  {
   "cell_type": "code",
   "execution_count": 24,
   "id": "fc3cd4d0-6c96-48fa-9a11-517e0dad1890",
   "metadata": {},
   "outputs": [
    {
     "data": {
      "text/plain": [
       "0"
      ]
     },
     "execution_count": 24,
     "metadata": {},
     "output_type": "execute_result"
    }
   ],
   "source": [
    "int()"
   ]
  },
  {
   "cell_type": "code",
   "execution_count": 30,
   "id": "860fdab7-4925-48f3-b3d0-fb318a4bdf00",
   "metadata": {},
   "outputs": [
    {
     "data": {
      "text/plain": [
       "10000000"
      ]
     },
     "execution_count": 30,
     "metadata": {},
     "output_type": "execute_result"
    }
   ],
   "source": [
    "10000000"
   ]
  },
  {
   "cell_type": "code",
   "execution_count": 32,
   "id": "208827bc-9532-4b2b-b1a4-9da6c29c3e80",
   "metadata": {},
   "outputs": [
    {
     "data": {
      "text/plain": [
       "1000000"
      ]
     },
     "execution_count": 32,
     "metadata": {},
     "output_type": "execute_result"
    }
   ],
   "source": [
    "1_000_000"
   ]
  },
  {
   "cell_type": "code",
   "execution_count": 25,
   "id": "9f4f6628-64d5-4bcd-8cff-206fdea40e7b",
   "metadata": {},
   "outputs": [
    {
     "data": {
      "text/plain": [
       "1"
      ]
     },
     "execution_count": 25,
     "metadata": {},
     "output_type": "execute_result"
    }
   ],
   "source": [
    "int(True)"
   ]
  },
  {
   "cell_type": "code",
   "execution_count": 26,
   "id": "8587be46-3539-468b-b40f-88e9f47e004f",
   "metadata": {},
   "outputs": [
    {
     "data": {
      "text/plain": [
       "10"
      ]
     },
     "execution_count": 26,
     "metadata": {},
     "output_type": "execute_result"
    }
   ],
   "source": [
    "int(\"10\")"
   ]
  },
  {
   "cell_type": "code",
   "execution_count": 27,
   "id": "53a5262d-1a1e-4f03-b4c5-00cef7889bf0",
   "metadata": {},
   "outputs": [
    {
     "data": {
      "text/plain": [
       "12648430"
      ]
     },
     "execution_count": 27,
     "metadata": {},
     "output_type": "execute_result"
    }
   ],
   "source": [
    "int(\"c0ffee\", base=16)"
   ]
  },
  {
   "cell_type": "code",
   "execution_count": 28,
   "id": "42b21c4a-77f8-40ea-8d53-94a2a2de0678",
   "metadata": {},
   "outputs": [
    {
     "data": {
      "text/plain": [
       "0.0"
      ]
     },
     "execution_count": 28,
     "metadata": {},
     "output_type": "execute_result"
    }
   ],
   "source": [
    "float()"
   ]
  },
  {
   "cell_type": "markdown",
   "id": "83fddd73-2204-43f6-b4e0-d93196817f4f",
   "metadata": {},
   "source": [
    "### scientific notation"
   ]
  },
  {
   "cell_type": "code",
   "execution_count": 29,
   "id": "86fa105f-1373-43b1-8445-479cf6ffc527",
   "metadata": {},
   "outputs": [
    {
     "data": {
      "text/plain": [
       "12000000000.0"
      ]
     },
     "execution_count": 29,
     "metadata": {},
     "output_type": "execute_result"
    }
   ],
   "source": [
    "1.2e10"
   ]
  },
  {
   "cell_type": "code",
   "execution_count": 33,
   "id": "5b37d1e6-70d9-40b4-b2b9-350195d8a95c",
   "metadata": {},
   "outputs": [
    {
     "data": {
      "text/plain": [
       "(-inf, inf, nan)"
      ]
     },
     "execution_count": 33,
     "metadata": {},
     "output_type": "execute_result"
    }
   ],
   "source": [
    "float(\"-inf\"), float(\"inf\"), float(\"nan\")"
   ]
  },
  {
   "cell_type": "code",
   "execution_count": 35,
   "id": "4142c2fd-7d51-4f8c-8fb6-ffdcf9f30f7e",
   "metadata": {},
   "outputs": [
    {
     "data": {
      "text/plain": [
       "inf"
      ]
     },
     "execution_count": 35,
     "metadata": {},
     "output_type": "execute_result"
    }
   ],
   "source": [
    "1.68e309"
   ]
  },
  {
   "cell_type": "markdown",
   "id": "b4b9b79f-3b8c-42a8-9383-13d537da0c00",
   "metadata": {},
   "source": [
    "### strings"
   ]
  },
  {
   "cell_type": "code",
   "execution_count": 36,
   "id": "3faffe74-f1e5-429e-b627-28c1d8692493",
   "metadata": {},
   "outputs": [
    {
     "data": {
      "text/plain": [
       "''"
      ]
     },
     "execution_count": 36,
     "metadata": {},
     "output_type": "execute_result"
    }
   ],
   "source": [
    "str()"
   ]
  },
  {
   "cell_type": "code",
   "execution_count": 37,
   "id": "dd38be7d-8908-47e4-a4f4-2c2ee648c625",
   "metadata": {},
   "outputs": [
    {
     "data": {
      "text/plain": [
       "'10'"
      ]
     },
     "execution_count": 37,
     "metadata": {},
     "output_type": "execute_result"
    }
   ],
   "source": [
    "str(10)"
   ]
  },
  {
   "cell_type": "code",
   "execution_count": 38,
   "id": "8ef3048c-e635-43ec-ad85-3f28fefb3c77",
   "metadata": {},
   "outputs": [
    {
     "data": {
      "text/plain": [
       "\"<class 'str'>\""
      ]
     },
     "execution_count": 38,
     "metadata": {},
     "output_type": "execute_result"
    }
   ],
   "source": [
    "str(str)"
   ]
  },
  {
   "cell_type": "code",
   "execution_count": 39,
   "id": "82a8a066-4815-45c4-9f60-4211e1754584",
   "metadata": {},
   "outputs": [
    {
     "data": {
      "text/plain": [
       "''"
      ]
     },
     "execution_count": 39,
     "metadata": {},
     "output_type": "execute_result"
    }
   ],
   "source": [
    "\"\"\n",
    "''\n"
   ]
  },
  {
   "cell_type": "code",
   "execution_count": 40,
   "id": "096b8c79-1e06-4039-8ad0-26b8595af45b",
   "metadata": {},
   "outputs": [
    {
     "data": {
      "text/plain": [
       "'1\\n2\\n3'"
      ]
     },
     "execution_count": 40,
     "metadata": {},
     "output_type": "execute_result"
    }
   ],
   "source": [
    "\"1\\n2\\n3\""
   ]
  },
  {
   "cell_type": "code",
   "execution_count": 41,
   "id": "8a573e20-eff4-4150-8538-a3bd1e02ce83",
   "metadata": {},
   "outputs": [
    {
     "name": "stdout",
     "output_type": "stream",
     "text": [
      "1\n",
      "2\n",
      "3\n"
     ]
    }
   ],
   "source": [
    "print(\"1\\n2\\n3\")"
   ]
  },
  {
   "cell_type": "code",
   "execution_count": 43,
   "id": "29f8f29b-2d21-4b84-9d9e-2bdfd6cc3b8a",
   "metadata": {},
   "outputs": [
    {
     "data": {
      "text/plain": [
       "'1\\n2\\n3\\n'"
      ]
     },
     "execution_count": 43,
     "metadata": {},
     "output_type": "execute_result"
    }
   ],
   "source": [
    "\"\"\"1\n",
    "2\n",
    "3\n",
    "\"\"\""
   ]
  },
  {
   "cell_type": "code",
   "execution_count": 44,
   "id": "b130358d-c6e0-4e0a-8fdb-008b54900b86",
   "metadata": {},
   "outputs": [
    {
     "name": "stdout",
     "output_type": "stream",
     "text": [
      "1\n",
      "2\n",
      "3\n",
      "\n"
     ]
    }
   ],
   "source": [
    "print(\"\"\"1\n",
    "2\n",
    "3\n",
    "\"\"\")"
   ]
  },
  {
   "cell_type": "code",
   "execution_count": 45,
   "id": "c1f0bdf0-825f-445e-a7bb-fd6bf1fac254",
   "metadata": {},
   "outputs": [
    {
     "data": {
      "text/plain": [
       "\"'\""
      ]
     },
     "execution_count": 45,
     "metadata": {},
     "output_type": "execute_result"
    }
   ],
   "source": [
    "\"'\""
   ]
  },
  {
   "cell_type": "code",
   "execution_count": 46,
   "id": "9534dbe4-788c-4216-83bb-29876312ecc9",
   "metadata": {},
   "outputs": [
    {
     "data": {
      "text/plain": [
       "'\"'"
      ]
     },
     "execution_count": 46,
     "metadata": {},
     "output_type": "execute_result"
    }
   ],
   "source": [
    "\"\\\"\""
   ]
  },
  {
   "cell_type": "code",
   "execution_count": 47,
   "id": "1e5cc5ea-8ac5-422a-bdc0-992b59b684ae",
   "metadata": {},
   "outputs": [
    {
     "data": {
      "text/plain": [
       "'12323'"
      ]
     },
     "execution_count": 47,
     "metadata": {},
     "output_type": "execute_result"
    }
   ],
   "source": [
    "\"\" + \"123\" + \"23\""
   ]
  },
  {
   "cell_type": "markdown",
   "id": "c2f13aed-0cd0-47eb-bbbf-47fb530e0e29",
   "metadata": {},
   "source": [
    "#### formatowanie napisów"
   ]
  },
  {
   "cell_type": "code",
   "execution_count": 69,
   "id": "ffbfad32-2cb7-40ce-af39-34520a624daf",
   "metadata": {},
   "outputs": [],
   "source": [
    "x = \"napis\"\n",
    "y = \"napis2\"\n",
    "\n"
   ]
  },
  {
   "cell_type": "code",
   "execution_count": 71,
   "id": "ff0af593-c2cd-4d33-b552-ff79746881da",
   "metadata": {},
   "outputs": [
    {
     "data": {
      "text/plain": [
       "'napis napis2'"
      ]
     },
     "execution_count": 71,
     "metadata": {},
     "output_type": "execute_result"
    }
   ],
   "source": [
    "x + \" \" + y"
   ]
  },
  {
   "cell_type": "code",
   "execution_count": 73,
   "id": "c5dbfce2-5f3a-4f7d-9621-1e406c34e00f",
   "metadata": {},
   "outputs": [
    {
     "data": {
      "text/plain": [
       "'napis napis2'"
      ]
     },
     "execution_count": 73,
     "metadata": {},
     "output_type": "execute_result"
    }
   ],
   "source": [
    "\"%s %s\" % (x, y)"
   ]
  },
  {
   "cell_type": "code",
   "execution_count": 74,
   "id": "ea3b30dc-bc38-47fe-bc8f-9d88ec35d8e8",
   "metadata": {},
   "outputs": [
    {
     "data": {
      "text/plain": [
       "'napis napis2'"
      ]
     },
     "execution_count": 74,
     "metadata": {},
     "output_type": "execute_result"
    }
   ],
   "source": [
    "\"{} {}\".format(x, y)"
   ]
  },
  {
   "cell_type": "code",
   "execution_count": 75,
   "id": "d97bae15-04ef-41c5-adbc-e1629918691e",
   "metadata": {},
   "outputs": [
    {
     "data": {
      "text/plain": [
       "'napis napis2'"
      ]
     },
     "execution_count": 75,
     "metadata": {},
     "output_type": "execute_result"
    }
   ],
   "source": [
    "\"{a} {b}\".format(a=x, b=y)"
   ]
  },
  {
   "cell_type": "code",
   "execution_count": 79,
   "id": "58558982-3735-40ae-bc34-a727d04b94e1",
   "metadata": {},
   "outputs": [
    {
     "data": {
      "text/plain": [
       "'napis napis2 10'"
      ]
     },
     "execution_count": 79,
     "metadata": {},
     "output_type": "execute_result"
    }
   ],
   "source": [
    "z = 10\n",
    "f\"{x} {y} {z}\""
   ]
  },
  {
   "cell_type": "code",
   "execution_count": 80,
   "id": "178bb2be-f597-4e25-86cf-faeae5aedbba",
   "metadata": {},
   "outputs": [
    {
     "data": {
      "text/plain": [
       "'       napis                                           napis2 10.000'"
      ]
     },
     "execution_count": 80,
     "metadata": {},
     "output_type": "execute_result"
    }
   ],
   "source": [
    "f\"{x:^20} {y:>40} {z:6.3f}\""
   ]
  },
  {
   "cell_type": "code",
   "execution_count": 81,
   "id": "4e0a064c-c267-435e-9da6-631c15b2f15f",
   "metadata": {},
   "outputs": [],
   "source": [
    "import datetime"
   ]
  },
  {
   "cell_type": "code",
   "execution_count": 83,
   "id": "06ac2778-6bb1-4fe0-9eef-dfadf65c5df8",
   "metadata": {},
   "outputs": [],
   "source": [
    "x = datetime.datetime.now()"
   ]
  },
  {
   "cell_type": "code",
   "execution_count": 84,
   "id": "c7a664ad-822e-4ecc-8efb-80291ed22ada",
   "metadata": {},
   "outputs": [
    {
     "data": {
      "text/plain": [
       "'2024-03-25T09:00:16.320334'"
      ]
     },
     "execution_count": 84,
     "metadata": {},
     "output_type": "execute_result"
    }
   ],
   "source": [
    "x.isoformat()"
   ]
  },
  {
   "cell_type": "code",
   "execution_count": 85,
   "id": "fe1fea4e-8d2d-4d0b-ace7-e24e65545435",
   "metadata": {},
   "outputs": [
    {
     "data": {
      "text/plain": [
       "'2024-03-25'"
      ]
     },
     "execution_count": 85,
     "metadata": {},
     "output_type": "execute_result"
    }
   ],
   "source": [
    "x.strftime('%Y-%m-%d')"
   ]
  },
  {
   "cell_type": "markdown",
   "id": "d731f9ac-b7a4-40e2-b2ae-12577ee0042c",
   "metadata": {},
   "source": [
    "### binary, octal, decimal, and hexadecimal numeral systems"
   ]
  },
  {
   "cell_type": "code",
   "execution_count": 48,
   "id": "277a0bc3-c51c-4bc1-89ed-426363ccef1c",
   "metadata": {},
   "outputs": [
    {
     "data": {
      "text/plain": [
       "42"
      ]
     },
     "execution_count": 48,
     "metadata": {},
     "output_type": "execute_result"
    }
   ],
   "source": [
    "0b101010"
   ]
  },
  {
   "cell_type": "code",
   "execution_count": 50,
   "id": "cc3684c1-d170-45e7-bdb8-84920558729a",
   "metadata": {},
   "outputs": [
    {
     "data": {
      "text/plain": [
       "671"
      ]
     },
     "execution_count": 50,
     "metadata": {},
     "output_type": "execute_result"
    }
   ],
   "source": [
    "0o1237"
   ]
  },
  {
   "cell_type": "code",
   "execution_count": 51,
   "id": "e32e89d2-0b33-46f2-8691-4f8a9e8c7421",
   "metadata": {},
   "outputs": [
    {
     "data": {
      "text/plain": [
       "74751"
      ]
     },
     "execution_count": 51,
     "metadata": {},
     "output_type": "execute_result"
    }
   ],
   "source": [
    "0x123ff"
   ]
  },
  {
   "cell_type": "code",
   "execution_count": 52,
   "id": "d360667d-02ad-444e-b6a1-2d39ef7945d6",
   "metadata": {},
   "outputs": [
    {
     "data": {
      "text/plain": [
       "100"
      ]
     },
     "execution_count": 52,
     "metadata": {},
     "output_type": "execute_result"
    }
   ],
   "source": [
    "100"
   ]
  },
  {
   "cell_type": "code",
   "execution_count": 53,
   "id": "d29fd877-eb54-440c-bce1-aa66357b00b2",
   "metadata": {},
   "outputs": [
    {
     "data": {
      "text/plain": [
       "'0b1011'"
      ]
     },
     "execution_count": 53,
     "metadata": {},
     "output_type": "execute_result"
    }
   ],
   "source": [
    "bin(11)"
   ]
  },
  {
   "cell_type": "code",
   "execution_count": 54,
   "id": "a0c940ae-ee24-48cb-8e77-e4729facf0cc",
   "metadata": {},
   "outputs": [
    {
     "data": {
      "text/plain": [
       "(<function oct(number, /)>, <function hex(number, /)>)"
      ]
     },
     "execution_count": 54,
     "metadata": {},
     "output_type": "execute_result"
    }
   ],
   "source": [
    "oct, hex"
   ]
  },
  {
   "cell_type": "markdown",
   "id": "1c83c436-4fa8-4c44-b956-e92c0ae26ef5",
   "metadata": {},
   "source": [
    "### variables"
   ]
  },
  {
   "cell_type": "code",
   "execution_count": 55,
   "id": "7b0ccb07-73bd-40e2-9117-3789e456002f",
   "metadata": {},
   "outputs": [],
   "source": [
    "nazwa = \"Coca cola\""
   ]
  },
  {
   "cell_type": "code",
   "execution_count": 57,
   "id": "49e56465-de79-4495-a1aa-bace482f2507",
   "metadata": {},
   "outputs": [],
   "source": [
    "_ = 10"
   ]
  },
  {
   "cell_type": "code",
   "execution_count": 60,
   "id": "3f453429-044a-4a78-a1fe-cc03310f7793",
   "metadata": {},
   "outputs": [],
   "source": [
    "# 10_ser = \"gouda\""
   ]
  },
  {
   "cell_type": "code",
   "execution_count": 61,
   "id": "71a8cd24-0e78-4ad2-ad71-1ecfb7ed44a8",
   "metadata": {},
   "outputs": [],
   "source": [
    "ser_10 = \"gouda\""
   ]
  },
  {
   "cell_type": "code",
   "execution_count": 64,
   "id": "97649d1c-d450-4ee8-b8d1-ed51a9350ff7",
   "metadata": {},
   "outputs": [],
   "source": [
    "ser_10: str = \"gouda\" # np mypy mógłby to sprawdzić\n",
    "ser_10 = 10"
   ]
  },
  {
   "cell_type": "markdown",
   "id": "4824329a-c09d-4ef2-9b95-e2fb8faaabee",
   "metadata": {},
   "source": [
    "### naming conventions"
   ]
  },
  {
   "cell_type": "code",
   "execution_count": 65,
   "id": "ffef3c04-ebff-403b-9e6d-70f71106cb2e",
   "metadata": {},
   "outputs": [],
   "source": [
    "nazwa_uzywa_snake_case = 10"
   ]
  },
  {
   "cell_type": "code",
   "execution_count": 66,
   "id": "100ebc3c-a232-46fa-bfbc-86625b8325bc",
   "metadata": {},
   "outputs": [],
   "source": [
    "# NazwaNieUzywaCamelCase"
   ]
  },
  {
   "cell_type": "code",
   "execution_count": 67,
   "id": "12d93ded-9190-4caa-ab5c-cb49471e102d",
   "metadata": {},
   "outputs": [],
   "source": [
    "PI = 3.14"
   ]
  },
  {
   "cell_type": "code",
   "execution_count": 68,
   "id": "2195ee4c-0ac4-4c8d-9430-6a64b16a09ec",
   "metadata": {},
   "outputs": [
    {
     "data": {
      "text/plain": [
       "3.14"
      ]
     },
     "execution_count": 68,
     "metadata": {},
     "output_type": "execute_result"
    }
   ],
   "source": [
    "PI"
   ]
  },
  {
   "cell_type": "markdown",
   "id": "f08c136a-36b9-4e99-a9da-c12f183cc7db",
   "metadata": {},
   "source": [
    "### implementing PEP-8 recommendations"
   ]
  },
  {
   "cell_type": "markdown",
   "id": "555f3dde-12b3-4d28-8347-88a1ae927cab",
   "metadata": {},
   "source": [
    "https://peps.python.org/pep-0008/\n",
    "\n",
    "lintery:\n",
    "flake8\n",
    "sonarlint\n",
    "\n",
    "formattery:\n",
    "black"
   ]
  },
  {
   "cell_type": "markdown",
   "id": "d2be4d36-b2e7-4b73-8eb6-d1978053e0cf",
   "metadata": {},
   "source": [
    "## PCEP-30-02 1.4 – Choose operators and data types adequate to the problem\n",
    "\n",
    "### Operatory w Pythonie\n",
    "\n",
    "Python, jak większość języków programowania, udostępnia różnorodne operatory, które pozwalają na przeprowadzanie operacji na zmiennych i wartościach. mozemy rozróżnić operatory dwuargumentowe - gdy z lewej i prawej strony operatora znajdują się obiekty oraz operatory jednoargumentowe - operator poprzedza obiekt.\n",
    "\n",
    "Operatory można podzielić na kilka kategorii w zależności od ich przeznaczenia.\n",
    "\n",
    "\n",
    "### operatory arytmetyczne\n",
    "\n",
    "\n",
    "| operator | nazwa               | przykład      | wynik |\n",
    "| -------- | ------------------- | --------      | ----- |\n",
    "| +        | dodawanie           | 5 + 3         | 8     |\n",
    "| -        | odejmowanie         | 5 - 3         | 2     |\n",
    "| /        | dzielenie           | 5 / 2         | 2.5   |\n",
    "| //       | dzielenie całkowite | 5 // 2        | 2     |\n",
    "| *        | mnożenie            | 5 * 3         | 15    |\n",
    "| **       | potęgowanie         | 5 ** 2        | 25    |\n",
    "| %        | dzielenie modulo    | 5 % 2         | 1     |\n",
    "| @        | mnożenie macierzy   | [[2]] @ [[3]] | [[6]] |\n",
    "\n",
    "Uwaga: Operator `@` do mnożenia macierzy został wprowadzony w Pythonie 3.5 i jest często używany z bibliotekami takimi jak NumPy. W samym Pythonie nie ma jeszcze wbudowanych typów, które wykorzystują ten operator.\n",
    "\n",
    "https://peps.python.org/pep-0465/\n",
    "\n",
    "### operatory algebry zbiorów\n",
    "\n",
    "Działają na obiektach typu `set`\n",
    "\n",
    "| operator | przykład             | wynik     |\n",
    "| -------- | -------------------- | --------- |\n",
    "| &        | {1, 2} & {2, 3}      | {2}       |\n",
    "| &#124;   | {1, 2} &#124; {2, 3} | {1, 2, 3} |\n",
    "| ^        | {1, 2} ^ {2, 3}      | {1, 3}    |\n",
    "| -        | {1, 2} - {2, 3}      | {1}       |\n",
    "\n",
    "### operatory przypisania: \n",
    "\n",
    "| operator | przykład    | równoważność   |\n",
    "| :------: | ----------- | -------------- |\n",
    "| =        | x = 5       | x = 5          |\n",
    "| +=       | x += 3      | x = x + 3      |\n",
    "| -=       | x -= 3      | x = x - 3      |\n",
    "| *=       | x *= 3      | x = x * 3      |\n",
    "| /=       | x /= 3      | x = x / 3      |\n",
    "| %=       | x %= 3      | x = x % 3      |\n",
    "| //=      | x //= 3     | x = x // 3     |\n",
    "| **=      | x **= 3     | x = x ** 3     |\n",
    "| &=       | x &= 3      | x = x & 3      |\n",
    "| &#124;=  | x &#124;= 3 | x = x &#124; 3 |\n",
    "| ^=       | x ^= 3      | x = x ^ 3      |\n",
    "| >>=      | x >>= 3     | x = x >> 3     |\n",
    "| <<=      | x <<= 3     | x = x << 3     |\n",
    "\n",
    "### operatory porównania: \n",
    "\n",
    "| operator | nazwa                    | przykład            |\n",
    "| :------: | ------------------------ | ------------------- |\n",
    "| ==       | Equal                    | x == y              |\n",
    "| !=       | Not equal                | x != y              |\n",
    "| >        | Greater than             | x > y               |\n",
    "| <        | Less than                | x < y               |\n",
    "| >=       | Greater than or equal to | x >= y              |\n",
    "| <=       | Less than or equal to    | x <= y              |\n",
    "| :=       | Walrus operator          | if x := 2 < 3: pass |\n",
    "\n",
    "\n",
    "### operatory logiczne\n",
    "\n",
    "| operator | nazwa                                         | przykład              |\n",
    "| :------: | --------------------------------------------- | --------------------- |\n",
    "| and      | Returns True if both statements are true      | x < 5 and  x < 10     |\n",
    "| or       | Returns True if one of the statements is true | x < 5 or x < 4        |\n",
    "| not      | Reverse the result                            | not(x < 5 and x < 10) |\n",
    "\n",
    "### operatory identyczności, tożsamości\n",
    "\n",
    "| operator | nazwa                                                  | przykład   |\n",
    "| :------: | ------------------------------------------------------ | ---------- |\n",
    "| is       | Returns True if both variables are the same object     | x is y     |\n",
    "| is not   | Returns True if both variables are not the same object | x is not y |\n",
    "\n",
    "\n",
    "### operatory przynależnośći\n",
    "\n",
    "| operator | nazwa                                                                            | przykład   |\n",
    "| :------: | -------------------------------------------------------------------------------- | ---------- |\n",
    "| in       | Returns True if a sequence with the specified value is present in the object     | x in y     |\n",
    "| not in   | Returns True if a sequence with the specified value is not present in the object | x not in y |\n",
    "\n",
    "\n",
    "### operatory bitowe\n",
    "\n",
    "| operator | nazwa                | opis | przykład               | wynik      |\n",
    "| :------: | -------------------- | ---- | :--------------------: | ---------- |\n",
    "| &        | AND                  |      | bin(0b10  & 0b01)      | 0b0        |\n",
    "| &#124;   | OR                   |      | bin(0b10  &#124; 0b01) | 0b11       |\n",
    "| ^        | XOR                  |      | bin(0b10 ^ 0b01)       | 0b11       |\n",
    "|          |                      |      | bin(0b10 ^ 0b10)       | 0b0        |\n",
    "| ~        | NOT                  |      | ~0b1                   | -2         |\n",
    "|          |                      |      | bin(~0b1)              | -0b10      |\n",
    "| <<       | Zero fill left shift |      | bin(0b00111100 << 2)   | 0b11110000 |\n",
    "| >>       | Signed right shift   |      | bin(0b00111100 >> 2)   | 0b1111     |\n"
   ]
  },
  {
   "cell_type": "markdown",
   "id": "d5f9b212-1a68-49cc-8571-e4a518bd62d7",
   "metadata": {},
   "source": [
    "### numeric operators: ** * / % // + –"
   ]
  },
  {
   "cell_type": "code",
   "execution_count": 86,
   "id": "238ea261-8520-4984-a898-fe12eaa9a75d",
   "metadata": {},
   "outputs": [
    {
     "data": {
      "text/plain": [
       "2"
      ]
     },
     "execution_count": 86,
     "metadata": {},
     "output_type": "execute_result"
    }
   ],
   "source": [
    "1 * 2"
   ]
  },
  {
   "cell_type": "code",
   "execution_count": 87,
   "id": "09e0889b-e561-4197-9368-6590ee371cae",
   "metadata": {},
   "outputs": [
    {
     "data": {
      "text/plain": [
       "16"
      ]
     },
     "execution_count": 87,
     "metadata": {},
     "output_type": "execute_result"
    }
   ],
   "source": [
    "2 ** 4"
   ]
  },
  {
   "cell_type": "code",
   "execution_count": 88,
   "id": "6fa01bb3-eeeb-4151-ad7d-cb1c1683f2aa",
   "metadata": {},
   "outputs": [
    {
     "data": {
      "text/plain": [
       "3.0"
      ]
     },
     "execution_count": 88,
     "metadata": {},
     "output_type": "execute_result"
    }
   ],
   "source": [
    "6 / 2"
   ]
  },
  {
   "cell_type": "code",
   "execution_count": 89,
   "id": "d03d9c18-022a-4289-b2f0-a7741d7405d3",
   "metadata": {},
   "outputs": [
    {
     "data": {
      "text/plain": [
       "3"
      ]
     },
     "execution_count": 89,
     "metadata": {},
     "output_type": "execute_result"
    }
   ],
   "source": [
    "6 // 2"
   ]
  },
  {
   "cell_type": "code",
   "execution_count": 90,
   "id": "dd0516b8-93e7-4294-a0c4-85c11716a2d9",
   "metadata": {},
   "outputs": [
    {
     "data": {
      "text/plain": [
       "2"
      ]
     },
     "execution_count": 90,
     "metadata": {},
     "output_type": "execute_result"
    }
   ],
   "source": [
    "5 // 2"
   ]
  },
  {
   "cell_type": "code",
   "execution_count": 91,
   "id": "bf6220e7-3688-4dfe-8faa-073dc212fb67",
   "metadata": {},
   "outputs": [
    {
     "data": {
      "text/plain": [
       "1"
      ]
     },
     "execution_count": 91,
     "metadata": {},
     "output_type": "execute_result"
    }
   ],
   "source": [
    "5 % 2"
   ]
  },
  {
   "cell_type": "code",
   "execution_count": 92,
   "id": "0e057eb6-b663-4f2e-9e1c-9595dfd0244d",
   "metadata": {},
   "outputs": [
    {
     "data": {
      "text/plain": [
       "2.0"
      ]
     },
     "execution_count": 92,
     "metadata": {},
     "output_type": "execute_result"
    }
   ],
   "source": [
    "4 ** 0.5"
   ]
  },
  {
   "cell_type": "code",
   "execution_count": 93,
   "id": "1b1e16cc-4d02-495c-a5fb-17854efb5b80",
   "metadata": {},
   "outputs": [
    {
     "data": {
      "text/plain": [
       "16"
      ]
     },
     "execution_count": 93,
     "metadata": {},
     "output_type": "execute_result"
    }
   ],
   "source": [
    "pow(4, 2)"
   ]
  },
  {
   "cell_type": "markdown",
   "id": "bbcadea9-20d5-4a50-957c-da115aeb2cce",
   "metadata": {},
   "source": [
    "### string operators: * +"
   ]
  },
  {
   "cell_type": "code",
   "execution_count": 94,
   "id": "4e98b59f-64fe-473a-931d-6d4686f8fdb3",
   "metadata": {},
   "outputs": [
    {
     "data": {
      "text/plain": [
       "'----------------------------------------'"
      ]
     },
     "execution_count": 94,
     "metadata": {},
     "output_type": "execute_result"
    }
   ],
   "source": [
    "\"-\" * 40"
   ]
  },
  {
   "cell_type": "markdown",
   "id": "a3297a59-c508-43b7-8b73-e15d75f71174",
   "metadata": {},
   "source": [
    "### assignment and shortcut operators"
   ]
  },
  {
   "cell_type": "code",
   "execution_count": 99,
   "id": "74c9a4a0-4425-453c-8dd2-d627b3f02ac6",
   "metadata": {},
   "outputs": [],
   "source": [
    "i = 2"
   ]
  },
  {
   "cell_type": "code",
   "execution_count": 100,
   "id": "bb7e7072-22b9-4cd9-a07b-fedd04ce83e9",
   "metadata": {},
   "outputs": [
    {
     "data": {
      "text/plain": [
       "3"
      ]
     },
     "execution_count": 100,
     "metadata": {},
     "output_type": "execute_result"
    }
   ],
   "source": [
    "i += 1   # i = i + 1\n",
    "i"
   ]
  },
  {
   "cell_type": "code",
   "execution_count": 101,
   "id": "7b5fc25e-f784-49fa-bced-89c85cb62f49",
   "metadata": {},
   "outputs": [],
   "source": [
    "i /= 2"
   ]
  },
  {
   "cell_type": "code",
   "execution_count": 102,
   "id": "0e5df2c5-6271-4773-bc52-1e5f1c977c48",
   "metadata": {},
   "outputs": [
    {
     "data": {
      "text/plain": [
       "1.5"
      ]
     },
     "execution_count": 102,
     "metadata": {},
     "output_type": "execute_result"
    }
   ],
   "source": [
    "i"
   ]
  },
  {
   "cell_type": "markdown",
   "id": "6e232db8-8e65-41e0-b229-d0f999a66c42",
   "metadata": {},
   "source": [
    "### unary and binary operators"
   ]
  },
  {
   "cell_type": "code",
   "execution_count": 103,
   "id": "c0dd78c2-869e-47a0-8f3e-14745b30a483",
   "metadata": {},
   "outputs": [
    {
     "data": {
      "text/plain": [
       "True"
      ]
     },
     "execution_count": 103,
     "metadata": {},
     "output_type": "execute_result"
    }
   ],
   "source": [
    "not False"
   ]
  },
  {
   "cell_type": "code",
   "execution_count": 104,
   "id": "99116fdc-38ed-47ca-8c89-fec4039217be",
   "metadata": {},
   "outputs": [
    {
     "data": {
      "text/plain": [
       "-10"
      ]
     },
     "execution_count": 104,
     "metadata": {},
     "output_type": "execute_result"
    }
   ],
   "source": [
    "-10"
   ]
  },
  {
   "cell_type": "code",
   "execution_count": 106,
   "id": "45fda88a-cf81-4dfa-bebe-2aa149d42358",
   "metadata": {},
   "outputs": [
    {
     "data": {
      "text/plain": [
       "-2"
      ]
     },
     "execution_count": 106,
     "metadata": {},
     "output_type": "execute_result"
    }
   ],
   "source": [
    "~1  # negacja bitowa"
   ]
  },
  {
   "cell_type": "markdown",
   "id": "ba1bf617-886e-4bb3-87b0-177564cd0359",
   "metadata": {},
   "source": [
    "0001 -> ~0001 == 1110"
   ]
  },
  {
   "cell_type": "markdown",
   "id": "bfab0250-791d-47e0-8a27-a27d7fd8f71e",
   "metadata": {},
   "source": [
    "### priorities and binding\n",
    "\n",
    "https://pythonflood.com/python-operator-precedence-simplifying-complex-expressions-22eb46b334"
   ]
  },
  {
   "cell_type": "markdown",
   "id": "b90aac0c-a917-4451-b7e7-e29a5d1e55c9",
   "metadata": {},
   "source": [
    "### bitwise operators: ~ & ^ | << >>\n",
    "\n",
    "~ NOT\n",
    "& AND\n",
    "^ XOR\n",
    "| OR\n",
    "\n",
    "<< >> przesunięcia "
   ]
  },
  {
   "cell_type": "markdown",
   "id": "1678afa2-cfa4-4183-8792-094a1fda1f53",
   "metadata": {},
   "source": [
    "#### Działanie operatora przesunięcia bitowego \n",
    "\n",
    "Aby zrozumieć, dlaczego `3 << 2` daje wynik `12`, musisz najpierw zrozumieć, jak działa operator przesunięcia bitowego w lewo (`<<`). \n",
    "\n",
    "Operator `<<` przesuwa bity liczby w lewo o określoną liczbę pozycji. Wszystkie wolne miejsca po przesunięciu są wypełniane zerami. \n",
    "\n",
    "Spróbujmy zastosować ten operator na liczbie `3`:\n",
    "\n",
    "Reprezentacja binarna liczby `3` to: `11`\n",
    "\n",
    "Przesuwając bity tej liczby o `2` pozycje w lewo, otrzymujemy: `1100`\n",
    "\n",
    "Teraz przekształćmy `1100` z postaci binarnej na dziesiętną:\n",
    "- 2^0 * 0 = 0\n",
    "- 2^1 * 0 = 0\n",
    "- 2^2 * 1 = 4\n",
    "- 2^3 * 1 = 8\n",
    "\n",
    "Sumując te wartości, dostajemy `8 + 4 = 12`.\n",
    "\n",
    "Dlatego `3 << 2` daje wynik `12`.\n",
    "\n",
    "Analogicznie - operator `>>` przesuwa bity liczby w prawo o określoną liczbę pozycji.\n",
    "\n",
    "Spróbujmy zastosować ten operator w ten sposób `16 >> 3`: \n",
    "\n",
    "Reprezentacja binarna liczby `16` to: `10000`\n",
    "\n",
    "Przesuwając bity tej liczby o `3` pozycje w prawo, otrzymujemy: `10`\n",
    "\n",
    "Teraz przekształćmy `10` z postaci binarnej na dziesiętną:\n",
    "- 2^0 * 0 = 0\n",
    "- 2^1 * 1 = 2\n",
    "\n",
    "Dodając te wartości, dostajemy `2`.\n",
    "\n",
    "Dlatego `16 >> 3` daje wynik `2`.\n",
    "\n",
    "\n"
   ]
  },
  {
   "cell_type": "markdown",
   "id": "30b046f6-6ae7-4435-9e88-d24bfc940a1c",
   "metadata": {},
   "source": [
    "### Boolean operators: not, and, or\n"
   ]
  },
  {
   "cell_type": "markdown",
   "id": "a563bacc-b947-47bb-a6d9-6bc5de84b48e",
   "metadata": {},
   "source": [
    "### Boolean expressions\n",
    "\n",
    "[], \"\", {}, (), 0, 0.0-> False\n",
    "\n",
    "\n",
    "### relational operators ( == != > >= < <= )\n",
    "\n",
    "### the accuracy of floating-point numbers"
   ]
  },
  {
   "cell_type": "code",
   "execution_count": 107,
   "id": "eb589acd-ff53-4bc1-8990-4cf07f502d7a",
   "metadata": {},
   "outputs": [
    {
     "data": {
      "text/plain": [
       "False"
      ]
     },
     "execution_count": 107,
     "metadata": {},
     "output_type": "execute_result"
    }
   ],
   "source": [
    "0.1 + 0.1 + 0.1 == 0.3"
   ]
  },
  {
   "cell_type": "code",
   "execution_count": 108,
   "id": "7cd7271b-5760-43e1-801e-98a5b3986e0c",
   "metadata": {},
   "outputs": [
    {
     "data": {
      "text/plain": [
       "0.30000000000000004"
      ]
     },
     "execution_count": 108,
     "metadata": {},
     "output_type": "execute_result"
    }
   ],
   "source": [
    "0.1 + 0.1 + 0.1"
   ]
  },
  {
   "cell_type": "code",
   "execution_count": 110,
   "id": "4daa1589-0c6a-48c5-8b21-912a1614975e",
   "metadata": {},
   "outputs": [],
   "source": [
    "# Decimal, round"
   ]
  },
  {
   "cell_type": "markdown",
   "id": "7fe7624c-7f44-496c-b32b-4bccf14d2443",
   "metadata": {},
   "source": [
    "### type casting"
   ]
  },
  {
   "cell_type": "code",
   "execution_count": 8,
   "id": "6d2a8234-2102-42d1-9702-a77ae5992da8",
   "metadata": {},
   "outputs": [],
   "source": [
    "# int(\"aaaa\")"
   ]
  },
  {
   "cell_type": "markdown",
   "id": "e38694ac-9242-41fa-a550-362c3ccbf490",
   "metadata": {},
   "source": [
    "## PCEP-30-02 1.5 – Perform Input/Output console operations\n",
    "\n",
    "### the print() and input() functions"
   ]
  },
  {
   "cell_type": "code",
   "execution_count": 119,
   "id": "a7c50d85-b4a5-41d6-9a0b-b1149ec0d5c0",
   "metadata": {},
   "outputs": [
    {
     "name": "stdout",
     "output_type": "stream",
     "text": [
      "\n"
     ]
    }
   ],
   "source": [
    "print()"
   ]
  },
  {
   "cell_type": "code",
   "execution_count": 115,
   "id": "7381b8df-f8a8-4cc2-9ea2-662b5bad2256",
   "metadata": {},
   "outputs": [],
   "source": [
    "# input() # zawsze zwróci napis"
   ]
  },
  {
   "cell_type": "code",
   "execution_count": 117,
   "id": "362544df-4d05-4121-9bde-1fb3977e4bcb",
   "metadata": {},
   "outputs": [
    {
     "name": "stdin",
     "output_type": "stream",
     "text": [
      "Podaj liczbę:  12\n"
     ]
    },
    {
     "data": {
      "text/plain": [
       "12"
      ]
     },
     "execution_count": 117,
     "metadata": {},
     "output_type": "execute_result"
    }
   ],
   "source": [
    "# liczba = int(input(\"Podaj liczbę: \"))\n",
    "# liczba"
   ]
  },
  {
   "cell_type": "markdown",
   "id": "9cf5b674-2ff9-4660-ae8a-f176fa2cc087",
   "metadata": {},
   "source": [
    "### the sep= and end= keyword parameters"
   ]
  },
  {
   "cell_type": "code",
   "execution_count": 124,
   "id": "54a88657-65b4-490a-8841-58795ee65173",
   "metadata": {},
   "outputs": [
    {
     "name": "stdout",
     "output_type": "stream",
     "text": [
      "Help on built-in function print in module builtins:\n",
      "\n",
      "print(...)\n",
      "    print(value, ..., sep=' ', end='\\n', file=sys.stdout, flush=False)\n",
      "    \n",
      "    Prints the values to a stream, or to sys.stdout by default.\n",
      "    Optional keyword arguments:\n",
      "    file:  a file-like object (stream); defaults to the current sys.stdout.\n",
      "    sep:   string inserted between values, default a space.\n",
      "    end:   string appended after the last value, default a newline.\n",
      "    flush: whether to forcibly flush the stream.\n",
      "\n"
     ]
    }
   ],
   "source": [
    "help(print)"
   ]
  },
  {
   "cell_type": "code",
   "execution_count": null,
   "id": "7d31e372-043c-4aba-9fa7-ad587f2a09b2",
   "metadata": {},
   "outputs": [],
   "source": []
  },
  {
   "cell_type": "code",
   "execution_count": 120,
   "id": "5f75476d-01a9-47f6-ac18-fa6ddbf47a3b",
   "metadata": {},
   "outputs": [
    {
     "name": "stdout",
     "output_type": "stream",
     "text": [
      "1 2 3 4\n"
     ]
    }
   ],
   "source": [
    "print(1, 2, 3, 4)"
   ]
  },
  {
   "cell_type": "code",
   "execution_count": 121,
   "id": "8313506f-5466-43ed-b6ee-62a360e27766",
   "metadata": {},
   "outputs": [
    {
     "name": "stdout",
     "output_type": "stream",
     "text": [
      "1-2-3-4\n"
     ]
    }
   ],
   "source": [
    "print(1, 2, 3, 4, sep=\"-\")"
   ]
  },
  {
   "cell_type": "code",
   "execution_count": 123,
   "id": "12465a42-bdb0-4a5d-bedc-ee0e1129194c",
   "metadata": {},
   "outputs": [
    {
     "name": "stdout",
     "output_type": "stream",
     "text": [
      "1xxx2\n",
      "3\n"
     ]
    }
   ],
   "source": [
    "print(1, end=\"xxx\")\n",
    "print(2)\n",
    "print(3)"
   ]
  },
  {
   "cell_type": "markdown",
   "id": "395de737-caf2-4cca-b577-34765883327e",
   "metadata": {},
   "source": [
    "### the int() and float() functions"
   ]
  },
  {
   "cell_type": "code",
   "execution_count": 129,
   "id": "b263389a-2863-4373-ad1e-e27914302e1c",
   "metadata": {},
   "outputs": [
    {
     "data": {
      "text/plain": [
       "30"
      ]
     },
     "execution_count": 129,
     "metadata": {},
     "output_type": "execute_result"
    }
   ],
   "source": [
    "int(\"11110\", 2)"
   ]
  },
  {
   "cell_type": "code",
   "execution_count": 9,
   "id": "d5bd52c0-f2d2-4b24-80c3-dfc3bef23480",
   "metadata": {
    "scrolled": true
   },
   "outputs": [],
   "source": [
    "# help(float)"
   ]
  },
  {
   "cell_type": "code",
   "execution_count": 132,
   "id": "c1771a5f-a95a-4f0b-a433-9d7b83df18ae",
   "metadata": {},
   "outputs": [
    {
     "data": {
      "text/plain": [
       "0j"
      ]
     },
     "execution_count": 132,
     "metadata": {},
     "output_type": "execute_result"
    }
   ],
   "source": [
    "complex()"
   ]
  },
  {
   "cell_type": "markdown",
   "id": "0fb2249b-b0dd-4ab9-8414-eb79968a367c",
   "metadata": {},
   "source": [
    "# Section 2: Control Flow – Conditional Blocks and Loops\n",
    "\n",
    "## PCEP-30-02 2.1 – Make decisions and branch the flow with the if instruction\n",
    "\n",
    "### conditional statements: if, if-else, if-elif, if-elif-else\n",
    "### multiple conditional statements\n",
    "### nesting conditional statements"
   ]
  },
  {
   "cell_type": "code",
   "execution_count": 148,
   "id": "91303900-60bf-4bc7-93be-ffa734a83cc5",
   "metadata": {},
   "outputs": [],
   "source": [
    "x = 1\n",
    "y = 10"
   ]
  },
  {
   "cell_type": "code",
   "execution_count": 149,
   "id": "7459bc93-7110-4a6b-a96e-69826a5c7e1d",
   "metadata": {},
   "outputs": [
    {
     "name": "stdout",
     "output_type": "stream",
     "text": [
      "większe\n",
      "wygrałem\n",
      "wygrałem\n"
     ]
    }
   ],
   "source": [
    "if (x > 0): \n",
    "    print(\"większe\") \n",
    "    if y == 10:\n",
    "        print(\"wygrałem\")\n",
    "        print(\"wygrałem\")\n",
    "elif x < 0:\n",
    "    print(\"mniejsze\")\n",
    "elif x == 0 :\n",
    "    print(\"zero\")\n",
    "else: \n",
    "    print(\"cos innego\")\n",
    "    "
   ]
  },
  {
   "cell_type": "code",
   "execution_count": 150,
   "id": "781d3d7a-4598-4abd-a0e2-f7aba7dab771",
   "metadata": {},
   "outputs": [
    {
     "data": {
      "text/plain": [
       "True"
      ]
     },
     "execution_count": 150,
     "metadata": {},
     "output_type": "execute_result"
    }
   ],
   "source": [
    "all(\n",
    "[x==1, y==10]\n",
    ")"
   ]
  },
  {
   "cell_type": "code",
   "execution_count": 153,
   "id": "d2fbf18c-ae18-44d1-9d35-107d71bf6065",
   "metadata": {},
   "outputs": [
    {
     "data": {
      "text/plain": [
       "False"
      ]
     },
     "execution_count": 153,
     "metadata": {},
     "output_type": "execute_result"
    }
   ],
   "source": [
    "any(\n",
    "[x==0, y==1]\n",
    ")"
   ]
  },
  {
   "cell_type": "code",
   "execution_count": 160,
   "id": "794da23b-9c33-46e2-a26d-5b80358617d7",
   "metadata": {},
   "outputs": [],
   "source": [
    "if x == 1 and 0 / y == 10:\n",
    "    print(\"cos\")"
   ]
  },
  {
   "cell_type": "markdown",
   "id": "55384e08-df99-45b2-af5f-2c4e011de844",
   "metadata": {},
   "source": [
    "## PCEP-30-02 2.2 – Perform different types of iterations\n",
    "###  the pass instruction"
   ]
  },
  {
   "cell_type": "code",
   "execution_count": 187,
   "id": "d17136ee-36b2-4cc3-a4c5-7f6ec6eb7872",
   "metadata": {},
   "outputs": [],
   "source": [
    "def moja_funkcja1(a, b):\n",
    "    pass\n",
    "moja_funkcja1(1, 2)"
   ]
  },
  {
   "cell_type": "code",
   "execution_count": null,
   "id": "e14b223e-f505-492a-ad7c-3785bdc54b4b",
   "metadata": {},
   "outputs": [],
   "source": []
  },
  {
   "cell_type": "code",
   "execution_count": 188,
   "id": "ed7a8026-9a56-42a5-9303-ac1ad8d7c0c9",
   "metadata": {},
   "outputs": [
    {
     "ename": "NotImplementedError",
     "evalue": "",
     "output_type": "error",
     "traceback": [
      "\u001b[0;31m---------------------------------------------------------------------------\u001b[0m",
      "\u001b[0;31mNotImplementedError\u001b[0m                       Traceback (most recent call last)",
      "Cell \u001b[0;32mIn[188], line 3\u001b[0m\n\u001b[1;32m      1\u001b[0m \u001b[38;5;28;01mdef\u001b[39;00m \u001b[38;5;21mmoja_funkcja1\u001b[39m(a, b):\n\u001b[1;32m      2\u001b[0m     \u001b[38;5;28;01mraise\u001b[39;00m \u001b[38;5;167;01mNotImplementedError\u001b[39;00m\n\u001b[0;32m----> 3\u001b[0m \u001b[43mmoja_funkcja1\u001b[49m\u001b[43m(\u001b[49m\u001b[38;5;241;43m1\u001b[39;49m\u001b[43m,\u001b[49m\u001b[43m \u001b[49m\u001b[38;5;241;43m2\u001b[39;49m\u001b[43m)\u001b[49m\n",
      "Cell \u001b[0;32mIn[188], line 2\u001b[0m, in \u001b[0;36mmoja_funkcja1\u001b[0;34m(a, b)\u001b[0m\n\u001b[1;32m      1\u001b[0m \u001b[38;5;28;01mdef\u001b[39;00m \u001b[38;5;21mmoja_funkcja1\u001b[39m(a, b):\n\u001b[0;32m----> 2\u001b[0m     \u001b[38;5;28;01mraise\u001b[39;00m \u001b[38;5;167;01mNotImplementedError\u001b[39;00m\n",
      "\u001b[0;31mNotImplementedError\u001b[0m: "
     ]
    }
   ],
   "source": [
    "def moja_funkcja1(a, b):\n",
    "    raise NotImplementedError\n",
    "moja_funkcja1(1, 2)"
   ]
  },
  {
   "cell_type": "code",
   "execution_count": null,
   "id": "54719a81-6d3c-4345-8276-c2d7f67cc31c",
   "metadata": {},
   "outputs": [],
   "source": []
  },
  {
   "cell_type": "code",
   "execution_count": 167,
   "id": "10120411-c860-489f-844b-6acd7395836f",
   "metadata": {},
   "outputs": [],
   "source": [
    "def moja_funkcja2(a, b):\n",
    "    ...\n"
   ]
  },
  {
   "cell_type": "code",
   "execution_count": 183,
   "id": "d09bf07f-569f-4a62-940b-114994eb177c",
   "metadata": {},
   "outputs": [],
   "source": [
    "def moja_funkcja3(a: int, b: int) -> int:\n",
    "    \"Dokumentacja mojej funkcji\"\n",
    "\n"
   ]
  },
  {
   "cell_type": "code",
   "execution_count": 184,
   "id": "fdd37ab5-46ae-4af5-903a-943cd6dba686",
   "metadata": {},
   "outputs": [
    {
     "data": {
      "text/plain": [
       "'Dokumentacja mojej funkcji'"
      ]
     },
     "execution_count": 184,
     "metadata": {},
     "output_type": "execute_result"
    }
   ],
   "source": [
    "moja_funkcja3.__doc__"
   ]
  },
  {
   "cell_type": "code",
   "execution_count": 185,
   "id": "3aa46243-e987-4e32-b8f6-8be9318a8115",
   "metadata": {},
   "outputs": [
    {
     "data": {
      "text/plain": [
       "{'a': int, 'b': int, 'return': int}"
      ]
     },
     "execution_count": 185,
     "metadata": {},
     "output_type": "execute_result"
    }
   ],
   "source": [
    "moja_funkcja3.__annotations__"
   ]
  },
  {
   "cell_type": "code",
   "execution_count": 180,
   "id": "29df15e6-9645-4595-9c36-891dc9667435",
   "metadata": {},
   "outputs": [
    {
     "data": {
      "text/plain": [
       "['__annotations__',\n",
       " '__builtins__',\n",
       " '__call__',\n",
       " '__class__',\n",
       " '__closure__',\n",
       " '__code__',\n",
       " '__defaults__',\n",
       " '__delattr__',\n",
       " '__dict__',\n",
       " '__dir__',\n",
       " '__doc__',\n",
       " '__eq__',\n",
       " '__format__',\n",
       " '__ge__',\n",
       " '__get__',\n",
       " '__getattribute__',\n",
       " '__globals__',\n",
       " '__gt__',\n",
       " '__hash__',\n",
       " '__init__',\n",
       " '__init_subclass__',\n",
       " '__kwdefaults__',\n",
       " '__le__',\n",
       " '__lt__',\n",
       " '__module__',\n",
       " '__name__',\n",
       " '__ne__',\n",
       " '__new__',\n",
       " '__qualname__',\n",
       " '__reduce__',\n",
       " '__reduce_ex__',\n",
       " '__repr__',\n",
       " '__setattr__',\n",
       " '__sizeof__',\n",
       " '__str__',\n",
       " '__subclasshook__']"
      ]
     },
     "execution_count": 180,
     "metadata": {},
     "output_type": "execute_result"
    }
   ],
   "source": [
    "dir(moja_funkcja3)"
   ]
  },
  {
   "cell_type": "code",
   "execution_count": 172,
   "id": "29a8a8e0-55f9-4c5f-b0b3-23791fd13752",
   "metadata": {},
   "outputs": [
    {
     "name": "stdout",
     "output_type": "stream",
     "text": [
      "Help on function moja_funkcja3 in module __main__:\n",
      "\n",
      "moja_funkcja3(a, b)\n",
      "    Dokumentacja mojej funkcji\n",
      "\n"
     ]
    }
   ],
   "source": [
    "help(moja_funkcja3)"
   ]
  },
  {
   "cell_type": "code",
   "execution_count": 181,
   "id": "908fdb23-b742-4932-b2c1-98302ed8ad99",
   "metadata": {},
   "outputs": [
    {
     "data": {
      "text/plain": [
       "'__main__'"
      ]
     },
     "execution_count": 181,
     "metadata": {},
     "output_type": "execute_result"
    }
   ],
   "source": [
    "moja_funkcja3.__module__"
   ]
  },
  {
   "cell_type": "code",
   "execution_count": null,
   "id": "acce3db7-9ac4-410d-bc3f-4f0ea7990e24",
   "metadata": {},
   "outputs": [],
   "source": [
    "if x > 10:\n",
    "    pass"
   ]
  },
  {
   "cell_type": "markdown",
   "id": "6744a070-76ea-4d99-b036-9f85c0dd275b",
   "metadata": {},
   "source": [
    "### building loops with while, for, range(), and in"
   ]
  },
  {
   "cell_type": "code",
   "execution_count": 9,
   "id": "f702b4f1-0dbd-4ef2-bc73-95ed8cacbabf",
   "metadata": {},
   "outputs": [
    {
     "data": {
      "text/plain": [
       "True"
      ]
     },
     "execution_count": 9,
     "metadata": {},
     "output_type": "execute_result"
    }
   ],
   "source": [
    "lista = [1, 2, 3]\n",
    "1 in lista"
   ]
  },
  {
   "cell_type": "code",
   "execution_count": 10,
   "id": "8edc6a57-a2b8-4232-aa98-b1ce466cf9bd",
   "metadata": {},
   "outputs": [
    {
     "data": {
      "text/plain": [
       "False"
      ]
     },
     "execution_count": 10,
     "metadata": {},
     "output_type": "execute_result"
    }
   ],
   "source": [
    "4 in lista"
   ]
  },
  {
   "cell_type": "code",
   "execution_count": 11,
   "id": "7b2c0f5d-855c-4fa9-97ec-975833d4b8be",
   "metadata": {},
   "outputs": [
    {
     "data": {
      "text/plain": [
       "False"
      ]
     },
     "execution_count": 11,
     "metadata": {},
     "output_type": "execute_result"
    }
   ],
   "source": [
    "\"B\" in \"Ala ma kota\""
   ]
  },
  {
   "cell_type": "code",
   "execution_count": 13,
   "id": "add8bb30-45ad-4639-9148-adb5b777d650",
   "metadata": {},
   "outputs": [
    {
     "name": "stdout",
     "output_type": "stream",
     "text": [
      "0\n",
      "1\n",
      "2\n",
      "3\n",
      "4\n",
      "5\n",
      "6\n",
      "7\n",
      "8\n",
      "9\n"
     ]
    }
   ],
   "source": [
    "for i in range(10): print(i)"
   ]
  },
  {
   "cell_type": "code",
   "execution_count": 14,
   "id": "8aa1f04a-da93-48bc-a23d-be722a0c9b90",
   "metadata": {},
   "outputs": [
    {
     "name": "stdout",
     "output_type": "stream",
     "text": [
      "20\n",
      "22\n",
      "24\n",
      "26\n",
      "28\n"
     ]
    }
   ],
   "source": [
    "for i in range(20, 30, 2): print(i)"
   ]
  },
  {
   "cell_type": "code",
   "execution_count": 15,
   "id": "e5ea4278-560d-4e7e-a85e-2be2fbb34b39",
   "metadata": {},
   "outputs": [
    {
     "name": "stdout",
     "output_type": "stream",
     "text": [
      "Help on class range in module builtins:\n",
      "\n",
      "class range(object)\n",
      " |  range(stop) -> range object\n",
      " |  range(start, stop[, step]) -> range object\n",
      " |  \n",
      " |  Return an object that produces a sequence of integers from start (inclusive)\n",
      " |  to stop (exclusive) by step.  range(i, j) produces i, i+1, i+2, ..., j-1.\n",
      " |  start defaults to 0, and stop is omitted!  range(4) produces 0, 1, 2, 3.\n",
      " |  These are exactly the valid indices for a list of 4 elements.\n",
      " |  When step is given, it specifies the increment (or decrement).\n",
      " |  \n",
      " |  Methods defined here:\n",
      " |  \n",
      " |  __bool__(self, /)\n",
      " |      True if self else False\n",
      " |  \n",
      " |  __contains__(self, key, /)\n",
      " |      Return key in self.\n",
      " |  \n",
      " |  __eq__(self, value, /)\n",
      " |      Return self==value.\n",
      " |  \n",
      " |  __ge__(self, value, /)\n",
      " |      Return self>=value.\n",
      " |  \n",
      " |  __getattribute__(self, name, /)\n",
      " |      Return getattr(self, name).\n",
      " |  \n",
      " |  __getitem__(self, key, /)\n",
      " |      Return self[key].\n",
      " |  \n",
      " |  __gt__(self, value, /)\n",
      " |      Return self>value.\n",
      " |  \n",
      " |  __hash__(self, /)\n",
      " |      Return hash(self).\n",
      " |  \n",
      " |  __iter__(self, /)\n",
      " |      Implement iter(self).\n",
      " |  \n",
      " |  __le__(self, value, /)\n",
      " |      Return self<=value.\n",
      " |  \n",
      " |  __len__(self, /)\n",
      " |      Return len(self).\n",
      " |  \n",
      " |  __lt__(self, value, /)\n",
      " |      Return self<value.\n",
      " |  \n",
      " |  __ne__(self, value, /)\n",
      " |      Return self!=value.\n",
      " |  \n",
      " |  __reduce__(...)\n",
      " |      Helper for pickle.\n",
      " |  \n",
      " |  __repr__(self, /)\n",
      " |      Return repr(self).\n",
      " |  \n",
      " |  __reversed__(...)\n",
      " |      Return a reverse iterator.\n",
      " |  \n",
      " |  count(...)\n",
      " |      rangeobject.count(value) -> integer -- return number of occurrences of value\n",
      " |  \n",
      " |  index(...)\n",
      " |      rangeobject.index(value) -> integer -- return index of value.\n",
      " |      Raise ValueError if the value is not present.\n",
      " |  \n",
      " |  ----------------------------------------------------------------------\n",
      " |  Static methods defined here:\n",
      " |  \n",
      " |  __new__(*args, **kwargs) from builtins.type\n",
      " |      Create and return a new object.  See help(type) for accurate signature.\n",
      " |  \n",
      " |  ----------------------------------------------------------------------\n",
      " |  Data descriptors defined here:\n",
      " |  \n",
      " |  start\n",
      " |  \n",
      " |  step\n",
      " |  \n",
      " |  stop\n",
      "\n"
     ]
    }
   ],
   "source": [
    "help(range)"
   ]
  },
  {
   "cell_type": "code",
   "execution_count": 17,
   "id": "257f3f08-7dcf-4663-ace7-0649d43c0687",
   "metadata": {},
   "outputs": [
    {
     "data": {
      "text/plain": [
       "[5, 8, 11, 14]"
      ]
     },
     "execution_count": 17,
     "metadata": {},
     "output_type": "execute_result"
    }
   ],
   "source": [
    "list(range(5, 15, 3))"
   ]
  },
  {
   "cell_type": "markdown",
   "id": "e26956bb-10c7-4b25-9bca-6b437a71525c",
   "metadata": {},
   "source": [
    "#### iterating through sequences\n",
    "\n",
    "#### nesting loops and conditional statements\n",
    "\n",
    "#### controlling loop execution with break and continue"
   ]
  },
  {
   "cell_type": "code",
   "execution_count": 19,
   "id": "fa25d62d-4769-45c3-a44b-6480c9e96915",
   "metadata": {},
   "outputs": [
    {
     "data": {
      "text/plain": [
       "' '"
      ]
     },
     "execution_count": 19,
     "metadata": {},
     "output_type": "execute_result"
    }
   ],
   "source": [
    "        #01234567891\n",
    "napis = \"ala ma kota\"\n",
    "\n",
    "napis[6]\n"
   ]
  },
  {
   "cell_type": "code",
   "execution_count": 21,
   "id": "c1df04ab-86f7-4954-8362-adfddbd075be",
   "metadata": {},
   "outputs": [
    {
     "name": "stdout",
     "output_type": "stream",
     "text": [
      "a\n",
      "l\n",
      "a\n",
      " \n",
      "m\n",
      "a\n",
      " \n",
      "k\n",
      "o\n",
      "t\n",
      "a\n"
     ]
    }
   ],
   "source": [
    "for sign in napis:\n",
    "    print(sign)"
   ]
  },
  {
   "cell_type": "code",
   "execution_count": 22,
   "id": "8e38a670-a81e-4693-aef2-1b9c34491536",
   "metadata": {},
   "outputs": [
    {
     "name": "stdout",
     "output_type": "stream",
     "text": [
      "a\n",
      "l\n",
      "a\n",
      " \n",
      "m\n",
      "a\n",
      " \n",
      "k\n",
      "o\n",
      "t\n",
      "a\n"
     ]
    }
   ],
   "source": [
    "i = 0\n",
    "while i < len(napis):\n",
    "    print(napis[i])\n",
    "    i += 1"
   ]
  },
  {
   "cell_type": "code",
   "execution_count": 23,
   "id": "ff8978aa-bc99-4a2a-a869-8383fd45e6fa",
   "metadata": {},
   "outputs": [
    {
     "name": "stdin",
     "output_type": "stream",
     "text": [
      "Podaj liczbę lub q by zakończyć 1\n",
      "Podaj liczbę lub q by zakończyć 5\n",
      "Podaj liczbę lub q by zakończyć q\n"
     ]
    }
   ],
   "source": [
    "liczby = []\n",
    "while True:\n",
    "    dane = input(\"Podaj liczbę lub q by zakończyć\")\n",
    "    if dane == \"q\":\n",
    "        break\n",
    "    liczby.append(int(dane))\n",
    "        \n",
    "    "
   ]
  },
  {
   "cell_type": "code",
   "execution_count": null,
   "id": "53d71a2e-4561-4f86-bddb-577243556d01",
   "metadata": {},
   "outputs": [],
   "source": []
  },
  {
   "cell_type": "markdown",
   "id": "3a16950c-9eae-4449-b31a-315df6ee89a6",
   "metadata": {},
   "source": [
    "#### expanding loops with while-else and for-else"
   ]
  },
  {
   "cell_type": "code",
   "execution_count": 26,
   "id": "a621a3e5-5622-421b-9b57-ddc079d1ba5b",
   "metadata": {},
   "outputs": [
    {
     "name": "stdout",
     "output_type": "stream",
     "text": [
      "0\n",
      "1\n",
      "2\n",
      "3\n",
      "4\n",
      "5\n"
     ]
    }
   ],
   "source": [
    "for i in range(10):\n",
    "    print(i)\n",
    "    if i == 5:\n",
    "        break\n",
    "else:\n",
    "    print(\"skończyłem\")"
   ]
  },
  {
   "cell_type": "code",
   "execution_count": 28,
   "id": "8758cf0b-1e00-45ee-9b6b-d51d623d07b0",
   "metadata": {},
   "outputs": [
    {
     "data": {
      "text/plain": [
       "[2, 3, 5, 11, 13, 17]"
      ]
     },
     "execution_count": 28,
     "metadata": {},
     "output_type": "execute_result"
    }
   ],
   "source": [
    "lista = [1, 2, 3, 4, 5,6, 11, 13, 17]\n",
    "liczby_pierwsze = []\n",
    "for liczba in lista:\n",
    "    if liczba == 1:\n",
    "        continue\n",
    "        \n",
    "    for dzielnik in range(2, liczba):\n",
    "        if liczba % dzielnik == 0:\n",
    "            break\n",
    "    else:\n",
    "        liczby_pierwsze.append(liczba)\n",
    "\n",
    "liczby_pierwsze"
   ]
  },
  {
   "cell_type": "markdown",
   "id": "1374a25a-52e2-4806-9220-99049d3bc267",
   "metadata": {},
   "source": []
  },
  {
   "cell_type": "code",
   "execution_count": 1,
   "id": "b75fc858-5b18-4599-be65-bc642251c7cc",
   "metadata": {},
   "outputs": [
    {
     "name": "stdout",
     "output_type": "stream",
     "text": [
      "1\n",
      "2\n",
      "3\n",
      "4\n",
      "5\n",
      "6\n",
      "7\n",
      "8\n",
      "9\n",
      "10\n"
     ]
    }
   ],
   "source": [
    "i = 1\n",
    "while i < 11:\n",
    "    print(i)\n",
    "    i += 1"
   ]
  },
  {
   "cell_type": "code",
   "execution_count": 3,
   "id": "4b6992ed-e1c1-4537-8660-8dfdeaf0a9b1",
   "metadata": {},
   "outputs": [
    {
     "name": "stdout",
     "output_type": "stream",
     "text": [
      "1\n",
      "2\n",
      "3\n",
      "4\n",
      "5\n",
      "6\n",
      "7\n",
      "8\n",
      "9\n",
      "10\n"
     ]
    }
   ],
   "source": [
    "i = 1\n",
    "while True:\n",
    "    print(i)\n",
    "    if i == 10:\n",
    "        break\n",
    "    i += 1\n",
    "    "
   ]
  },
  {
   "cell_type": "code",
   "execution_count": 4,
   "id": "e5730b70-6656-4a4a-99c5-f311f7f9b545",
   "metadata": {},
   "outputs": [
    {
     "name": "stdout",
     "output_type": "stream",
     "text": [
      "1\n",
      "2\n",
      "3\n",
      "4\n",
      "6\n",
      "7\n",
      "8\n",
      "9\n",
      "10\n"
     ]
    }
   ],
   "source": [
    "i = 1\n",
    "while True:\n",
    "    if i == 5:\n",
    "        i += 1\n",
    "        continue\n",
    "        \n",
    "    print(i)\n",
    "    \n",
    "    if i == 10:\n",
    "        break\n",
    "    i += 1\n",
    "    "
   ]
  },
  {
   "cell_type": "code",
   "execution_count": 7,
   "id": "554cb4a2-e7fd-4d56-a9b4-829a5b9fff4e",
   "metadata": {},
   "outputs": [
    {
     "name": "stdout",
     "output_type": "stream",
     "text": [
      "i * j 1\n",
      "i * j 2\n",
      "i * j 3\n",
      "i * j 4\n",
      "i * j 5\n",
      "i * j 6\n",
      "i * j 7\n",
      "po wewnetrznej petli 2 8\n",
      "po wewnetrznej petli 3 8\n",
      "po wewnetrznej petli 4 8\n",
      "po wewnetrznej petli 5 8\n",
      "po wewnetrznej petli 6 8\n",
      "po wewnetrznej petli 7 8\n",
      "po wewnetrznej petli 8 8\n"
     ]
    }
   ],
   "source": [
    "i, j = 1, 1\n",
    "while i < 8:\n",
    "\n",
    "    while j < 8:\n",
    "        print(\"i * j\", i * j)\n",
    "        j += 1\n",
    "    i += 1    \n",
    "    if j == 6:\n",
    "        break\n",
    "\n",
    "    print(\"po wewnetrznej petli\", i, j)"
   ]
  },
  {
   "cell_type": "markdown",
   "id": "0b6830fc-217d-4e78-b0d0-a7a8df7691ab",
   "metadata": {},
   "source": [
    "# Section 3: Data Collections – Tuples, Dictionaries, Lists, and Strings"
   ]
  },
  {
   "cell_type": "markdown",
   "id": "31ac154c-2c27-461b-8516-acee15a9cd0d",
   "metadata": {},
   "source": [
    "• constructing vectors"
   ]
  },
  {
   "cell_type": "code",
   "execution_count": null,
   "id": "6ff40d11-07d7-458a-ab30-79fb480899ba",
   "metadata": {},
   "outputs": [],
   "source": [
    "[1, 2, 3]"
   ]
  },
  {
   "cell_type": "markdown",
   "id": "a10aaae9-e3df-4496-a495-1598eda1270f",
   "metadata": {},
   "source": [
    "• indexing and slicing"
   ]
  },
  {
   "cell_type": "markdown",
   "id": "b6393c72-c3b9-4343-ae3e-e18e32566804",
   "metadata": {},
   "source": [
    "• the len() function"
   ]
  },
  {
   "cell_type": "markdown",
   "id": "6999a123-aff0-4261-bd18-185c38ff3103",
   "metadata": {},
   "source": [
    "• list methods: append(), insert(), index(), etc."
   ]
  },
  {
   "cell_type": "markdown",
   "id": "10ebb8ba-b4fd-4e08-89fe-1300b285a240",
   "metadata": {},
   "source": []
  },
  {
   "cell_type": "code",
   "execution_count": 29,
   "id": "a3672b52-674c-4d11-8708-f6f85306e282",
   "metadata": {},
   "outputs": [
    {
     "data": {
      "text/plain": [
       "(tuple, dict, list, (set, frozenset, bytes, bytearray), str)"
      ]
     },
     "execution_count": 29,
     "metadata": {},
     "output_type": "execute_result"
    }
   ],
   "source": [
    "tuple, dict, list, (set, frozenset, bytes, bytearray), str"
   ]
  },
  {
   "cell_type": "code",
   "execution_count": 30,
   "id": "94a092ca-6779-4d39-9927-ea6476b115f3",
   "metadata": {},
   "outputs": [
    {
     "data": {
      "text/plain": [
       "'e'"
      ]
     },
     "execution_count": 30,
     "metadata": {},
     "output_type": "execute_result"
    }
   ],
   "source": [
    "napis = \"hello world\"\n",
    "napis[1]"
   ]
  },
  {
   "cell_type": "code",
   "execution_count": 31,
   "id": "1645adfb-4f0b-41d7-989c-8abfa18fd140",
   "metadata": {},
   "outputs": [
    {
     "data": {
      "text/plain": [
       "'ell'"
      ]
     },
     "execution_count": 31,
     "metadata": {},
     "output_type": "execute_result"
    }
   ],
   "source": [
    "napis[1:4]"
   ]
  },
  {
   "cell_type": "code",
   "execution_count": 34,
   "id": "1825efaa-2fd2-4bfe-9284-abdc54b01580",
   "metadata": {},
   "outputs": [
    {
     "data": {
      "text/plain": [
       "'hlowrd'"
      ]
     },
     "execution_count": 34,
     "metadata": {},
     "output_type": "execute_result"
    }
   ],
   "source": [
    "napis[::2] # slicing"
   ]
  },
  {
   "cell_type": "code",
   "execution_count": 35,
   "id": "359812b9-d361-4ac1-8161-a8126e66dd41",
   "metadata": {},
   "outputs": [
    {
     "data": {
      "text/plain": [
       "'dlrow olleh'"
      ]
     },
     "execution_count": 35,
     "metadata": {},
     "output_type": "execute_result"
    }
   ],
   "source": [
    "napis[::-1]"
   ]
  },
  {
   "cell_type": "code",
   "execution_count": 36,
   "id": "151f2a6c-1b79-4301-bc24-527b55b7add8",
   "metadata": {},
   "outputs": [
    {
     "data": {
      "text/plain": [
       "'l'"
      ]
     },
     "execution_count": 36,
     "metadata": {},
     "output_type": "execute_result"
    }
   ],
   "source": [
    "napis[-2]"
   ]
  },
  {
   "cell_type": "code",
   "execution_count": 37,
   "id": "945dafea-612d-4201-8169-80ef994b513b",
   "metadata": {},
   "outputs": [],
   "source": [
    "krotka = (1, 2, \"inny\")"
   ]
  },
  {
   "cell_type": "code",
   "execution_count": 40,
   "id": "700c9c4f-0de6-4869-b718-2658b093b511",
   "metadata": {},
   "outputs": [
    {
     "data": {
      "text/plain": [
       "(2,)"
      ]
     },
     "execution_count": 40,
     "metadata": {},
     "output_type": "execute_result"
    }
   ],
   "source": [
    "krotka[1:2]"
   ]
  },
  {
   "cell_type": "code",
   "execution_count": 43,
   "id": "b43b67e8-3de5-4f55-bcec-cfda7230a4f3",
   "metadata": {},
   "outputs": [
    {
     "data": {
      "text/plain": [
       "(3,)"
      ]
     },
     "execution_count": 43,
     "metadata": {},
     "output_type": "execute_result"
    }
   ],
   "source": [
    "(2+1,)"
   ]
  },
  {
   "cell_type": "code",
   "execution_count": 44,
   "id": "72e5c5df-da57-4277-985d-39e86706832c",
   "metadata": {},
   "outputs": [
    {
     "data": {
      "text/plain": [
       "()"
      ]
     },
     "execution_count": 44,
     "metadata": {},
     "output_type": "execute_result"
    }
   ],
   "source": [
    "tuple()"
   ]
  },
  {
   "cell_type": "code",
   "execution_count": 46,
   "id": "95d10161-b541-47b0-808b-0bd721f8e916",
   "metadata": {},
   "outputs": [],
   "source": [
    "# krotka[0] = 1"
   ]
  },
  {
   "cell_type": "code",
   "execution_count": 47,
   "id": "84052b50-32e3-4770-ab00-b48c2afb4d5b",
   "metadata": {},
   "outputs": [
    {
     "data": {
      "text/plain": [
       "(1, 2, 3, 2, 3, 4)"
      ]
     },
     "execution_count": 47,
     "metadata": {},
     "output_type": "execute_result"
    }
   ],
   "source": [
    "(1, 2,3) + (2, 3, 4)"
   ]
  },
  {
   "cell_type": "code",
   "execution_count": 48,
   "id": "90fea040-fefd-489f-a58a-12a43145fc10",
   "metadata": {},
   "outputs": [
    {
     "data": {
      "text/plain": [
       "(1, 2, [1, 2, 3])"
      ]
     },
     "execution_count": 48,
     "metadata": {},
     "output_type": "execute_result"
    }
   ],
   "source": [
    "(1, 2, [1, 2,3])"
   ]
  },
  {
   "cell_type": "code",
   "execution_count": 49,
   "id": "71b3facd-eebb-4ea9-8b8a-f8cd5b6ef161",
   "metadata": {},
   "outputs": [
    {
     "data": {
      "text/plain": [
       "['__add__',\n",
       " '__class__',\n",
       " '__class_getitem__',\n",
       " '__contains__',\n",
       " '__delattr__',\n",
       " '__dir__',\n",
       " '__doc__',\n",
       " '__eq__',\n",
       " '__format__',\n",
       " '__ge__',\n",
       " '__getattribute__',\n",
       " '__getitem__',\n",
       " '__getnewargs__',\n",
       " '__gt__',\n",
       " '__hash__',\n",
       " '__init__',\n",
       " '__init_subclass__',\n",
       " '__iter__',\n",
       " '__le__',\n",
       " '__len__',\n",
       " '__lt__',\n",
       " '__mul__',\n",
       " '__ne__',\n",
       " '__new__',\n",
       " '__reduce__',\n",
       " '__reduce_ex__',\n",
       " '__repr__',\n",
       " '__rmul__',\n",
       " '__setattr__',\n",
       " '__sizeof__',\n",
       " '__str__',\n",
       " '__subclasshook__',\n",
       " 'count',\n",
       " 'index']"
      ]
     },
     "execution_count": 49,
     "metadata": {},
     "output_type": "execute_result"
    }
   ],
   "source": [
    "dir(krotka)"
   ]
  },
  {
   "cell_type": "code",
   "execution_count": 51,
   "id": "5be43516-ae2c-4113-abc2-c9ec8778bb5b",
   "metadata": {},
   "outputs": [
    {
     "data": {
      "text/plain": [
       "2"
      ]
     },
     "execution_count": 51,
     "metadata": {},
     "output_type": "execute_result"
    }
   ],
   "source": [
    "krotka.index(\"inny\")"
   ]
  },
  {
   "cell_type": "code",
   "execution_count": 52,
   "id": "26bea7ea-4c57-4f40-9175-ffbd719defae",
   "metadata": {},
   "outputs": [],
   "source": [
    "krotka2 = krotka"
   ]
  },
  {
   "cell_type": "code",
   "execution_count": 53,
   "id": "d565a0b1-596d-49c4-b313-d128088c5d9b",
   "metadata": {},
   "outputs": [
    {
     "data": {
      "text/plain": [
       "(1, 2, 'inny')"
      ]
     },
     "execution_count": 53,
     "metadata": {},
     "output_type": "execute_result"
    }
   ],
   "source": [
    "krotka2"
   ]
  },
  {
   "cell_type": "code",
   "execution_count": 54,
   "id": "8582fb84-5151-43aa-8388-47af1b5b3ac4",
   "metadata": {},
   "outputs": [
    {
     "data": {
      "text/plain": [
       "4411232576"
      ]
     },
     "execution_count": 54,
     "metadata": {},
     "output_type": "execute_result"
    }
   ],
   "source": [
    "id(krotka)"
   ]
  },
  {
   "cell_type": "code",
   "execution_count": 55,
   "id": "99e2a62a-2409-4424-8bba-e71508c14719",
   "metadata": {},
   "outputs": [
    {
     "data": {
      "text/plain": [
       "4411232576"
      ]
     },
     "execution_count": 55,
     "metadata": {},
     "output_type": "execute_result"
    }
   ],
   "source": [
    "id(krotka2)"
   ]
  },
  {
   "cell_type": "code",
   "execution_count": 59,
   "id": "4c1f1d93-0bd1-45d1-bf85-02f08dc3c58b",
   "metadata": {},
   "outputs": [],
   "source": [
    "krotka3 = krotka[:]"
   ]
  },
  {
   "cell_type": "code",
   "execution_count": 60,
   "id": "a4bfe64d-e839-4506-bbb9-66f1beeaf2ca",
   "metadata": {},
   "outputs": [
    {
     "data": {
      "text/plain": [
       "4411232576"
      ]
     },
     "execution_count": 60,
     "metadata": {},
     "output_type": "execute_result"
    }
   ],
   "source": [
    "id(krotka3)"
   ]
  },
  {
   "cell_type": "code",
   "execution_count": 61,
   "id": "46edb20d-4cb6-4abd-a7a9-d93d3a27bc51",
   "metadata": {},
   "outputs": [],
   "source": [
    "a = \"ala\"\n",
    "b = a\n",
    "c = \"ala\""
   ]
  },
  {
   "cell_type": "code",
   "execution_count": 62,
   "id": "0bb5d26d-3a43-4b87-9ce9-f83734839000",
   "metadata": {},
   "outputs": [
    {
     "data": {
      "text/plain": [
       "True"
      ]
     },
     "execution_count": 62,
     "metadata": {},
     "output_type": "execute_result"
    }
   ],
   "source": [
    "id(a) == id(b)"
   ]
  },
  {
   "cell_type": "code",
   "execution_count": 63,
   "id": "96af5a13-856f-4b3f-a3cb-76e406a38d68",
   "metadata": {},
   "outputs": [
    {
     "data": {
      "text/plain": [
       "True"
      ]
     },
     "execution_count": 63,
     "metadata": {},
     "output_type": "execute_result"
    }
   ],
   "source": []
  },
  {
   "cell_type": "code",
   "execution_count": 64,
   "id": "27e72059-52e5-46f8-a57b-9bfefe4d2230",
   "metadata": {},
   "outputs": [],
   "source": [
    "a = \"ala ma kota\"\n",
    "b = a\n",
    "c = \"ala ma kota\""
   ]
  },
  {
   "cell_type": "code",
   "execution_count": 65,
   "id": "bdd817a9-939b-4225-8d3d-787cf88cae9b",
   "metadata": {},
   "outputs": [
    {
     "data": {
      "text/plain": [
       "True"
      ]
     },
     "execution_count": 65,
     "metadata": {},
     "output_type": "execute_result"
    }
   ],
   "source": [
    "id(a) == id(b)"
   ]
  },
  {
   "cell_type": "code",
   "execution_count": 66,
   "id": "0bde58ca-e744-42f2-8d9f-2c01cdabd678",
   "metadata": {},
   "outputs": [
    {
     "data": {
      "text/plain": [
       "False"
      ]
     },
     "execution_count": 66,
     "metadata": {},
     "output_type": "execute_result"
    }
   ],
   "source": [
    "id(a) == id(c)"
   ]
  },
  {
   "cell_type": "code",
   "execution_count": 67,
   "id": "4c48b2aa-62fc-42b0-ab49-01cb6e8e737e",
   "metadata": {},
   "outputs": [
    {
     "data": {
      "text/plain": [
       "1"
      ]
     },
     "execution_count": 67,
     "metadata": {},
     "output_type": "execute_result"
    }
   ],
   "source": [
    "(1, 2, 1, 2, 1, 2).index(2)"
   ]
  },
  {
   "cell_type": "code",
   "execution_count": 68,
   "id": "03a3ab54-04d4-4c6e-b854-199380f9942f",
   "metadata": {},
   "outputs": [
    {
     "name": "stdout",
     "output_type": "stream",
     "text": [
      "Help on built-in function index:\n",
      "\n",
      "index(value, start=0, stop=9223372036854775807, /) method of builtins.tuple instance\n",
      "    Return first index of value.\n",
      "    \n",
      "    Raises ValueError if the value is not present.\n",
      "\n"
     ]
    }
   ],
   "source": [
    "help(krotka.index)"
   ]
  },
  {
   "cell_type": "code",
   "execution_count": 69,
   "id": "44bac9cd-1ae4-4554-bb7d-c7b4b6d1c202",
   "metadata": {},
   "outputs": [
    {
     "name": "stdout",
     "output_type": "stream",
     "text": [
      "Help on method_descriptor:\n",
      "\n",
      "index(self, value, start=0, stop=9223372036854775807, /)\n",
      "    Return first index of value.\n",
      "    \n",
      "    Raises ValueError if the value is not present.\n",
      "\n"
     ]
    }
   ],
   "source": [
    "help(tuple.index)"
   ]
  },
  {
   "cell_type": "code",
   "execution_count": 72,
   "id": "434cea1f-5a20-4da9-805d-b047454bcb72",
   "metadata": {},
   "outputs": [
    {
     "data": {
      "text/plain": [
       "0"
      ]
     },
     "execution_count": 72,
     "metadata": {},
     "output_type": "execute_result"
    }
   ],
   "source": [
    "krotka.count(10)"
   ]
  },
  {
   "cell_type": "code",
   "execution_count": 73,
   "id": "99489ca1-0bed-4d86-849f-0069d14d1855",
   "metadata": {},
   "outputs": [
    {
     "data": {
      "text/plain": [
       "list"
      ]
     },
     "execution_count": 73,
     "metadata": {},
     "output_type": "execute_result"
    }
   ],
   "source": [
    "list"
   ]
  },
  {
   "cell_type": "code",
   "execution_count": 74,
   "id": "be77a642-9f9a-48ef-b476-1c5878078a20",
   "metadata": {},
   "outputs": [
    {
     "data": {
      "text/plain": [
       "[1, 2, 'inny']"
      ]
     },
     "execution_count": 74,
     "metadata": {},
     "output_type": "execute_result"
    }
   ],
   "source": [
    "list(krotka)"
   ]
  },
  {
   "cell_type": "code",
   "execution_count": 76,
   "id": "0b2c7ea6-4c58-46fc-8b66-0873bb25ff8b",
   "metadata": {},
   "outputs": [
    {
     "data": {
      "text/plain": [
       "['1', '2', '3']"
      ]
     },
     "execution_count": 76,
     "metadata": {},
     "output_type": "execute_result"
    }
   ],
   "source": [
    "list(\"123\")"
   ]
  },
  {
   "cell_type": "code",
   "execution_count": 77,
   "id": "844badfb-9993-4737-ab2e-c25e1364a5c6",
   "metadata": {},
   "outputs": [
    {
     "data": {
      "text/plain": [
       "['__add__',\n",
       " '__class__',\n",
       " '__class_getitem__',\n",
       " '__contains__',\n",
       " '__delattr__',\n",
       " '__delitem__',\n",
       " '__dir__',\n",
       " '__doc__',\n",
       " '__eq__',\n",
       " '__format__',\n",
       " '__ge__',\n",
       " '__getattribute__',\n",
       " '__getitem__',\n",
       " '__gt__',\n",
       " '__hash__',\n",
       " '__iadd__',\n",
       " '__imul__',\n",
       " '__init__',\n",
       " '__init_subclass__',\n",
       " '__iter__',\n",
       " '__le__',\n",
       " '__len__',\n",
       " '__lt__',\n",
       " '__mul__',\n",
       " '__ne__',\n",
       " '__new__',\n",
       " '__reduce__',\n",
       " '__reduce_ex__',\n",
       " '__repr__',\n",
       " '__reversed__',\n",
       " '__rmul__',\n",
       " '__setattr__',\n",
       " '__setitem__',\n",
       " '__sizeof__',\n",
       " '__str__',\n",
       " '__subclasshook__',\n",
       " 'append',\n",
       " 'clear',\n",
       " 'copy',\n",
       " 'count',\n",
       " 'extend',\n",
       " 'index',\n",
       " 'insert',\n",
       " 'pop',\n",
       " 'remove',\n",
       " 'reverse',\n",
       " 'sort']"
      ]
     },
     "execution_count": 77,
     "metadata": {},
     "output_type": "execute_result"
    }
   ],
   "source": [
    "dir(list)"
   ]
  },
  {
   "cell_type": "code",
   "execution_count": 90,
   "id": "447cde3f-3795-4b03-8f45-79516ce2674a",
   "metadata": {},
   "outputs": [],
   "source": [
    "lista = [1, 2,3]\n",
    "lista.append(4)"
   ]
  },
  {
   "cell_type": "code",
   "execution_count": 79,
   "id": "d3431b98-d1dc-4101-88ca-caa5c9f64eef",
   "metadata": {},
   "outputs": [
    {
     "data": {
      "text/plain": [
       "[1, 2, 3, 4]"
      ]
     },
     "execution_count": 79,
     "metadata": {},
     "output_type": "execute_result"
    }
   ],
   "source": [
    "lista"
   ]
  },
  {
   "cell_type": "code",
   "execution_count": 80,
   "id": "99b96c36-f3c5-448e-9e45-a612e798909a",
   "metadata": {},
   "outputs": [
    {
     "data": {
      "text/plain": [
       "4"
      ]
     },
     "execution_count": 80,
     "metadata": {},
     "output_type": "execute_result"
    }
   ],
   "source": [
    "lista.pop()"
   ]
  },
  {
   "cell_type": "code",
   "execution_count": 85,
   "id": "87ab47d7-0cf3-4d3a-803a-b09d78b3f588",
   "metadata": {},
   "outputs": [
    {
     "name": "stdout",
     "output_type": "stream",
     "text": [
      "Help on method_descriptor:\n",
      "\n",
      "pop(self, index=-1, /)\n",
      "    Remove and return item at index (default last).\n",
      "    \n",
      "    Raises IndexError if list is empty or index is out of range.\n",
      "\n"
     ]
    }
   ],
   "source": [
    "help(list.pop)"
   ]
  },
  {
   "cell_type": "code",
   "execution_count": 81,
   "id": "6733bfea-552e-481b-9db0-ea2d9fc9815a",
   "metadata": {},
   "outputs": [
    {
     "data": {
      "text/plain": [
       "[1, 2, 3]"
      ]
     },
     "execution_count": 81,
     "metadata": {},
     "output_type": "execute_result"
    }
   ],
   "source": [
    "lista"
   ]
  },
  {
   "cell_type": "code",
   "execution_count": 83,
   "id": "3e00b7c5-4360-4b35-9525-117423b4f330",
   "metadata": {},
   "outputs": [],
   "source": [
    "lista.insert(0, 5)"
   ]
  },
  {
   "cell_type": "code",
   "execution_count": 84,
   "id": "cfb21cf8-67d6-4ccd-ba8f-f1a19f331db4",
   "metadata": {},
   "outputs": [
    {
     "data": {
      "text/plain": [
       "[5, 1, 2, 3]"
      ]
     },
     "execution_count": 84,
     "metadata": {},
     "output_type": "execute_result"
    }
   ],
   "source": [
    "lista"
   ]
  },
  {
   "cell_type": "code",
   "execution_count": 86,
   "id": "e1fb7d9c-7a0c-4e80-a66b-558ee92990c3",
   "metadata": {},
   "outputs": [
    {
     "data": {
      "text/plain": [
       "5"
      ]
     },
     "execution_count": 86,
     "metadata": {},
     "output_type": "execute_result"
    }
   ],
   "source": [
    "lista.pop(0)"
   ]
  },
  {
   "cell_type": "code",
   "execution_count": 92,
   "id": "0b28a3c6-68bd-46a5-bca9-95ab0938caea",
   "metadata": {},
   "outputs": [
    {
     "data": {
      "text/plain": [
       "[1, 2, 3, 4]"
      ]
     },
     "execution_count": 92,
     "metadata": {},
     "output_type": "execute_result"
    }
   ],
   "source": [
    "lista = [1, 2,3]\n",
    "lista.append(4)\n",
    "lista"
   ]
  },
  {
   "cell_type": "code",
   "execution_count": 93,
   "id": "6ee5ff1a-2b58-46e6-b2be-48fe8f23dfd5",
   "metadata": {},
   "outputs": [
    {
     "name": "stdout",
     "output_type": "stream",
     "text": [
      "1\n",
      "2\n"
     ]
    }
   ],
   "source": [
    "for el in lista:\n",
    "    print(lista.pop(0))\n",
    "    \n",
    "    "
   ]
  },
  {
   "cell_type": "code",
   "execution_count": 94,
   "id": "99559e3f-c02b-40a8-9367-fdaa84e7aab7",
   "metadata": {},
   "outputs": [
    {
     "data": {
      "text/plain": [
       "2"
      ]
     },
     "execution_count": 94,
     "metadata": {},
     "output_type": "execute_result"
    }
   ],
   "source": [
    "len(lista)"
   ]
  },
  {
   "cell_type": "markdown",
   "id": "7d312e48-7198-4f59-b3fc-fa5dee4cbff1",
   "metadata": {},
   "source": [
    "• functions: len(), sorted()"
   ]
  },
  {
   "cell_type": "code",
   "execution_count": 99,
   "id": "41253749-a284-45ff-b720-b55b56f84d9e",
   "metadata": {},
   "outputs": [
    {
     "name": "stdout",
     "output_type": "stream",
     "text": [
      "None orignal [1, 2, 4, 10, 11, 20]\n"
     ]
    }
   ],
   "source": [
    "lista = [10, 20, 11, 1, 2, 4,]\n",
    "print(lista.sort(), \"orignal\", lista)\n"
   ]
  },
  {
   "cell_type": "code",
   "execution_count": 100,
   "id": "f0952331-a960-4c4e-84e9-d01e9310f23e",
   "metadata": {},
   "outputs": [
    {
     "data": {
      "text/plain": [
       "[1, 2, 4, 10, 11, 20]"
      ]
     },
     "execution_count": 100,
     "metadata": {},
     "output_type": "execute_result"
    }
   ],
   "source": [
    "lista = [10, 20, 11, 1, 2, 4,]\n",
    "sorted(lista)"
   ]
  },
  {
   "cell_type": "code",
   "execution_count": 98,
   "id": "5714e85a-605b-4056-9d2a-019ef09330c2",
   "metadata": {},
   "outputs": [
    {
     "data": {
      "text/plain": [
       "[10, 20, 11, 1, 2, 4]"
      ]
     },
     "execution_count": 98,
     "metadata": {},
     "output_type": "execute_result"
    }
   ],
   "source": [
    "lista"
   ]
  },
  {
   "cell_type": "code",
   "execution_count": 101,
   "id": "3d99fc22-0847-473c-bd3d-ee10daae2d7b",
   "metadata": {},
   "outputs": [],
   "source": [
    "krotka = (2, 3, 4, 5, 1, 2)"
   ]
  },
  {
   "cell_type": "code",
   "execution_count": 102,
   "id": "b90d919f-7c5a-47df-818f-0b47f3c5df12",
   "metadata": {},
   "outputs": [
    {
     "data": {
      "text/plain": [
       "[1, 2, 2, 3, 4, 5]"
      ]
     },
     "execution_count": 102,
     "metadata": {},
     "output_type": "execute_result"
    }
   ],
   "source": [
    "sorted(krotka)"
   ]
  },
  {
   "cell_type": "code",
   "execution_count": 103,
   "id": "7f849c61-cd5d-41c6-87c8-6749447e3fbc",
   "metadata": {},
   "outputs": [
    {
     "data": {
      "text/plain": [
       "[' ', ' ', 'a', 'a', 'a', 'a', 'k', 'l', 'm', 'o', 't']"
      ]
     },
     "execution_count": 103,
     "metadata": {},
     "output_type": "execute_result"
    }
   ],
   "source": [
    "sorted(\"ala ma kota\")"
   ]
  },
  {
   "cell_type": "code",
   "execution_count": 108,
   "id": "8aaf42c4-2777-4ce3-94b6-187c4997768d",
   "metadata": {},
   "outputs": [
    {
     "data": {
      "text/plain": [
       "['t', 'o', 'm', 'l', 'k', 'a', 'a', 'a', 'a', ' ', ' ']"
      ]
     },
     "execution_count": 108,
     "metadata": {},
     "output_type": "execute_result"
    }
   ],
   "source": [
    "sorted(\"ala ma kota\", reverse=True)"
   ]
  },
  {
   "cell_type": "code",
   "execution_count": 105,
   "id": "cabdb43f-4aea-4ba0-a963-5ac8df5fea87",
   "metadata": {},
   "outputs": [
    {
     "data": {
      "text/plain": [
       "\u001b[0;31mSignature:\u001b[0m \u001b[0msorted\u001b[0m\u001b[0;34m(\u001b[0m\u001b[0miterable\u001b[0m\u001b[0;34m,\u001b[0m \u001b[0;34m/\u001b[0m\u001b[0;34m,\u001b[0m \u001b[0;34m*\u001b[0m\u001b[0;34m,\u001b[0m \u001b[0mkey\u001b[0m\u001b[0;34m=\u001b[0m\u001b[0;32mNone\u001b[0m\u001b[0;34m,\u001b[0m \u001b[0mreverse\u001b[0m\u001b[0;34m=\u001b[0m\u001b[0;32mFalse\u001b[0m\u001b[0;34m)\u001b[0m\u001b[0;34m\u001b[0m\u001b[0;34m\u001b[0m\u001b[0m\n",
       "\u001b[0;31mDocstring:\u001b[0m\n",
       "Return a new list containing all items from the iterable in ascending order.\n",
       "\n",
       "A custom key function can be supplied to customize the sort order, and the\n",
       "reverse flag can be set to request the result in descending order.\n",
       "\u001b[0;31mType:\u001b[0m      builtin_function_or_method"
      ]
     },
     "metadata": {},
     "output_type": "display_data"
    }
   ],
   "source": [
    "sorted?"
   ]
  },
  {
   "cell_type": "code",
   "execution_count": 109,
   "id": "ebe4ba25-5cc4-4d04-960a-1ad3717ff96c",
   "metadata": {},
   "outputs": [],
   "source": [
    "lista = [\"a7\", \"d1\", \"e2\", \"c3\"]"
   ]
  },
  {
   "cell_type": "code",
   "execution_count": 112,
   "id": "04bc5945-bea7-4e65-8db2-d991b3f16cfb",
   "metadata": {},
   "outputs": [
    {
     "data": {
      "text/plain": [
       "['d1', 'e2', 'c3', 'a7']"
      ]
     },
     "execution_count": 112,
     "metadata": {},
     "output_type": "execute_result"
    }
   ],
   "source": [
    "def second(x):\n",
    "    return int(x[1])\n",
    "\n",
    "sorted(lista, key=second)"
   ]
  },
  {
   "cell_type": "code",
   "execution_count": 113,
   "id": "d817d1cc-d241-42d3-966f-51fef8863efa",
   "metadata": {},
   "outputs": [
    {
     "data": {
      "text/plain": [
       "['d1', 'e2', 'c3', 'a7']"
      ]
     },
     "execution_count": 113,
     "metadata": {},
     "output_type": "execute_result"
    }
   ],
   "source": [
    "sorted(lista, key=lambda x: x[1])"
   ]
  },
  {
   "cell_type": "markdown",
   "id": "68c97267-defb-49b4-8e33-8b18ef62f688",
   "metadata": {},
   "source": [
    "### the del instruction"
   ]
  },
  {
   "cell_type": "code",
   "execution_count": 115,
   "id": "a5c05ab6-9828-4799-9e1d-0b9f01f39cd9",
   "metadata": {},
   "outputs": [
    {
     "name": "stdout",
     "output_type": "stream",
     "text": [
      "The \"del\" statement\n",
      "*******************\n",
      "\n",
      "   del_stmt ::= \"del\" target_list\n",
      "\n",
      "Deletion is recursively defined very similar to the way assignment is\n",
      "defined. Rather than spelling it out in full details, here are some\n",
      "hints.\n",
      "\n",
      "Deletion of a target list recursively deletes each target, from left\n",
      "to right.\n",
      "\n",
      "Deletion of a name removes the binding of that name from the local or\n",
      "global namespace, depending on whether the name occurs in a \"global\"\n",
      "statement in the same code block.  If the name is unbound, a\n",
      "\"NameError\" exception will be raised.\n",
      "\n",
      "Deletion of attribute references, subscriptions and slicings is passed\n",
      "to the primary object involved; deletion of a slicing is in general\n",
      "equivalent to assignment of an empty slice of the right type (but even\n",
      "this is determined by the sliced object).\n",
      "\n",
      "Changed in version 3.2: Previously it was illegal to delete a name\n",
      "from the local namespace if it occurs as a free variable in a nested\n",
      "block.\n",
      "\n",
      "Related help topics: BASICMETHODS\n",
      "\n"
     ]
    }
   ],
   "source": [
    "help(\"del\")"
   ]
  },
  {
   "cell_type": "code",
   "execution_count": 117,
   "id": "5a54e140-0b6c-422d-8c3b-8f0026c1c7f1",
   "metadata": {},
   "outputs": [],
   "source": [
    "xxx = 1"
   ]
  },
  {
   "cell_type": "code",
   "execution_count": 118,
   "id": "1ce97eb1-37a9-41f1-a90c-4a68229bb9fa",
   "metadata": {},
   "outputs": [
    {
     "data": {
      "text/plain": [
       "1"
      ]
     },
     "execution_count": 118,
     "metadata": {},
     "output_type": "execute_result"
    }
   ],
   "source": [
    "xxx"
   ]
  },
  {
   "cell_type": "code",
   "execution_count": 119,
   "id": "0ce1cde6-4322-4dac-b37e-3b52c39b8a5c",
   "metadata": {},
   "outputs": [],
   "source": [
    "del xxx"
   ]
  },
  {
   "cell_type": "code",
   "execution_count": 120,
   "id": "498b10df-7d00-4da2-9638-57c8b00665e5",
   "metadata": {},
   "outputs": [
    {
     "ename": "NameError",
     "evalue": "name 'xxx' is not defined",
     "output_type": "error",
     "traceback": [
      "\u001b[0;31m---------------------------------------------------------------------------\u001b[0m",
      "\u001b[0;31mNameError\u001b[0m                                 Traceback (most recent call last)",
      "Cell \u001b[0;32mIn[120], line 1\u001b[0m\n\u001b[0;32m----> 1\u001b[0m \u001b[43mxxx\u001b[49m\n",
      "\u001b[0;31mNameError\u001b[0m: name 'xxx' is not defined"
     ]
    }
   ],
   "source": [
    "xxx"
   ]
  },
  {
   "cell_type": "code",
   "execution_count": 121,
   "id": "efadd2b3-6928-40dc-863e-c9a3d33c4344",
   "metadata": {},
   "outputs": [],
   "source": [
    "lista = [1, 2, 3]\n",
    "\n",
    "del lista[1]\n"
   ]
  },
  {
   "cell_type": "code",
   "execution_count": 123,
   "id": "8b54a3e2-0a8c-4187-8704-9018123f302d",
   "metadata": {},
   "outputs": [],
   "source": [
    "a = [1, 2, 3]\n",
    "b = a"
   ]
  },
  {
   "cell_type": "code",
   "execution_count": 124,
   "id": "f92b5856-ec8a-4e2d-bae9-e11c1e0018f0",
   "metadata": {},
   "outputs": [],
   "source": [
    "b.append(10)"
   ]
  },
  {
   "cell_type": "code",
   "execution_count": 125,
   "id": "c384bc80-8e37-48fc-8042-2f215f0f15bc",
   "metadata": {},
   "outputs": [
    {
     "data": {
      "text/plain": [
       "[1, 2, 3, 10]"
      ]
     },
     "execution_count": 125,
     "metadata": {},
     "output_type": "execute_result"
    }
   ],
   "source": [
    "a"
   ]
  },
  {
   "cell_type": "code",
   "execution_count": 126,
   "id": "0e12a5e6-9eb1-4f6f-a58b-f90a6bcf9320",
   "metadata": {},
   "outputs": [],
   "source": [
    "a = [1, 2, 3]\n",
    "b = a[:]"
   ]
  },
  {
   "cell_type": "code",
   "execution_count": 127,
   "id": "763cb053-5fbd-4624-a981-c961a5761020",
   "metadata": {},
   "outputs": [],
   "source": [
    "b.append(10)"
   ]
  },
  {
   "cell_type": "code",
   "execution_count": 129,
   "id": "acf9b943-3b4a-4ddd-9a8f-8d5052ca9154",
   "metadata": {},
   "outputs": [],
   "source": [
    "a = [1, 2]\n",
    "b = [1, 2, a]\n",
    "c = b\n",
    "\n",
    "a.append(10)\n",
    "\n"
   ]
  },
  {
   "cell_type": "code",
   "execution_count": 130,
   "id": "83ea6115-3b44-478b-a248-5a33232c542b",
   "metadata": {},
   "outputs": [
    {
     "data": {
      "text/plain": [
       "([1, 2, [1, 2, 10]], [1, 2, [1, 2, 10]])"
      ]
     },
     "execution_count": 130,
     "metadata": {},
     "output_type": "execute_result"
    }
   ],
   "source": [
    "b, c"
   ]
  },
  {
   "cell_type": "code",
   "execution_count": null,
   "id": "b4135de3-b2af-4e0c-b6c6-c90a8a7f1161",
   "metadata": {},
   "outputs": [],
   "source": []
  },
  {
   "cell_type": "code",
   "execution_count": 131,
   "id": "068ca45d-2916-41b7-af44-a34428f73d0e",
   "metadata": {},
   "outputs": [],
   "source": [
    "a = [1, 2]\n",
    "b = [1, 2, a]\n",
    "c = b[:]\n",
    "\n",
    "a.append(10)"
   ]
  },
  {
   "cell_type": "code",
   "execution_count": 132,
   "id": "88088b40-d0a8-4bcf-aed9-bcd1dfe533bb",
   "metadata": {},
   "outputs": [
    {
     "data": {
      "text/plain": [
       "([1, 2, [1, 2, 10]], [1, 2, [1, 2, 10]])"
      ]
     },
     "execution_count": 132,
     "metadata": {},
     "output_type": "execute_result"
    }
   ],
   "source": [
    "b, c"
   ]
  },
  {
   "cell_type": "code",
   "execution_count": 133,
   "id": "a42ed80b-137a-415f-b071-92782713cef7",
   "metadata": {},
   "outputs": [
    {
     "data": {
      "text/plain": [
       "([1, 2, [1, 2, 10]], [1, 2, [1, 2, 10]])"
      ]
     },
     "execution_count": 133,
     "metadata": {},
     "output_type": "execute_result"
    }
   ],
   "source": [
    "a = [1, 2]\n",
    "b = [1, 2, a]\n",
    "c = b.copy()\n",
    "\n",
    "a.append(10)\n",
    "b, c"
   ]
  },
  {
   "cell_type": "code",
   "execution_count": 134,
   "id": "5f708ac4-35da-46b7-b58b-a929e3c7a95e",
   "metadata": {},
   "outputs": [],
   "source": [
    "from copy import deepcopy"
   ]
  },
  {
   "cell_type": "code",
   "execution_count": 135,
   "id": "787a5319-31f8-4b47-9623-112dda5f7113",
   "metadata": {},
   "outputs": [
    {
     "data": {
      "text/plain": [
       "([1, 2, [1, 2, 10]], [1, 2, [1, 2]])"
      ]
     },
     "execution_count": 135,
     "metadata": {},
     "output_type": "execute_result"
    }
   ],
   "source": [
    "a = [1, 2]\n",
    "b = [1, 2, a]\n",
    "c = deepcopy(b)\n",
    "\n",
    "a.append(10)\n",
    "b, c"
   ]
  },
  {
   "cell_type": "code",
   "execution_count": 137,
   "id": "e44984c5-4975-4678-a2b6-aec0bae9dc66",
   "metadata": {},
   "outputs": [
    {
     "data": {
      "text/plain": [
       "['__add__',\n",
       " '__class__',\n",
       " '__class_getitem__',\n",
       " '__contains__',\n",
       " '__delattr__',\n",
       " '__delitem__',\n",
       " '__dir__',\n",
       " '__doc__',\n",
       " '__eq__',\n",
       " '__format__',\n",
       " '__ge__',\n",
       " '__getattribute__',\n",
       " '__getitem__',\n",
       " '__gt__',\n",
       " '__hash__',\n",
       " '__iadd__',\n",
       " '__imul__',\n",
       " '__init__',\n",
       " '__init_subclass__',\n",
       " '__iter__',\n",
       " '__le__',\n",
       " '__len__',\n",
       " '__lt__',\n",
       " '__mul__',\n",
       " '__ne__',\n",
       " '__new__',\n",
       " '__reduce__',\n",
       " '__reduce_ex__',\n",
       " '__repr__',\n",
       " '__reversed__',\n",
       " '__rmul__',\n",
       " '__setattr__',\n",
       " '__setitem__',\n",
       " '__sizeof__',\n",
       " '__str__',\n",
       " '__subclasshook__',\n",
       " 'append',\n",
       " 'clear',\n",
       " 'copy',\n",
       " 'count',\n",
       " 'extend',\n",
       " 'index',\n",
       " 'insert',\n",
       " 'pop',\n",
       " 'remove',\n",
       " 'reverse',\n",
       " 'sort']"
      ]
     },
     "execution_count": 137,
     "metadata": {},
     "output_type": "execute_result"
    }
   ],
   "source": [
    "dir(list)"
   ]
  },
  {
   "cell_type": "markdown",
   "id": "bf0ec40d-1c5e-4b8d-84d8-9faf20861566",
   "metadata": {},
   "source": [
    "• iterating through lists with the for loop\n",
    "• initializing loops\n",
    "\n",
    "• the in and not in operators"
   ]
  },
  {
   "cell_type": "code",
   "execution_count": 138,
   "id": "bc6a938c-60dc-46ef-9679-42a1689e36b4",
   "metadata": {},
   "outputs": [
    {
     "data": {
      "text/plain": [
       "True"
      ]
     },
     "execution_count": 138,
     "metadata": {},
     "output_type": "execute_result"
    }
   ],
   "source": [
    "1 in [1, 2, 3]"
   ]
  },
  {
   "cell_type": "code",
   "execution_count": 139,
   "id": "56d72fdd-5ca1-4256-b4ca-825a2d2e3ce9",
   "metadata": {},
   "outputs": [
    {
     "data": {
      "text/plain": [
       "True"
      ]
     },
     "execution_count": 139,
     "metadata": {},
     "output_type": "execute_result"
    }
   ],
   "source": [
    "4 not in [1, 2, 3]"
   ]
  },
  {
   "cell_type": "markdown",
   "id": "87189a6d-e0e1-4a88-8269-fa559f5989f0",
   "metadata": {},
   "source": [
    "• list comprehensions"
   ]
  },
  {
   "cell_type": "code",
   "execution_count": 140,
   "id": "913076bf-3fd4-4759-8f2e-363c120591d4",
   "metadata": {},
   "outputs": [],
   "source": [
    "lista = [1, 2, 3]"
   ]
  },
  {
   "cell_type": "code",
   "execution_count": 145,
   "id": "6fa20b1d-81d3-4c4b-8ea8-847b4357120a",
   "metadata": {},
   "outputs": [
    {
     "data": {
      "text/plain": [
       "[1, 8, 27]"
      ]
     },
     "execution_count": 145,
     "metadata": {},
     "output_type": "execute_result"
    }
   ],
   "source": [
    "cubes = []\n",
    "for el in lista:\n",
    "    cubes.append(el**3)\n",
    "cubes\n"
   ]
  },
  {
   "cell_type": "code",
   "execution_count": 146,
   "id": "e1aebda6-c6bb-4711-9bd6-34f8448bf66b",
   "metadata": {},
   "outputs": [],
   "source": [
    "cubes2 = [el ** 3 for el in lista]"
   ]
  },
  {
   "cell_type": "code",
   "execution_count": null,
   "id": "4347970f-a85c-42a4-b156-8b1375772b14",
   "metadata": {},
   "outputs": [],
   "source": [
    "cubes"
   ]
  },
  {
   "cell_type": "code",
   "execution_count": 149,
   "id": "e24c1fa5-642d-4254-80f5-009bae7bf6af",
   "metadata": {},
   "outputs": [
    {
     "data": {
      "text/plain": [
       "[1, 27]"
      ]
     },
     "execution_count": 149,
     "metadata": {},
     "output_type": "execute_result"
    }
   ],
   "source": [
    "cubes = []\n",
    "for el in lista:\n",
    "    if el % 2 == 1:\n",
    "        cubes.append(el**3)\n",
    "cubes"
   ]
  },
  {
   "cell_type": "code",
   "execution_count": 151,
   "id": "ca32d4b3-4678-4370-8ca8-e2435d405c8b",
   "metadata": {},
   "outputs": [
    {
     "data": {
      "text/plain": [
       "[1, 27]"
      ]
     },
     "execution_count": 151,
     "metadata": {},
     "output_type": "execute_result"
    }
   ],
   "source": [
    "cubes2 = [el ** 3 for el in lista if el % 2 == 1]\n",
    "cubes2"
   ]
  },
  {
   "cell_type": "code",
   "execution_count": 152,
   "id": "a24aa952-d95d-4a36-ac3a-c12fa9225fc9",
   "metadata": {},
   "outputs": [
    {
     "data": {
      "text/plain": [
       "<generator object <genexpr> at 0x10776ee30>"
      ]
     },
     "execution_count": 152,
     "metadata": {},
     "output_type": "execute_result"
    }
   ],
   "source": [
    "cubes2 = (el ** 3 for el in lista if el % 2 == 1)\n",
    "cubes2"
   ]
  },
  {
   "cell_type": "code",
   "execution_count": 155,
   "id": "e80b00d1-55a4-463b-81b5-4dfe93a963ef",
   "metadata": {},
   "outputs": [
    {
     "ename": "StopIteration",
     "evalue": "",
     "output_type": "error",
     "traceback": [
      "\u001b[0;31m---------------------------------------------------------------------------\u001b[0m",
      "\u001b[0;31mStopIteration\u001b[0m                             Traceback (most recent call last)",
      "Cell \u001b[0;32mIn[155], line 1\u001b[0m\n\u001b[0;32m----> 1\u001b[0m \u001b[38;5;28;43mnext\u001b[39;49m\u001b[43m(\u001b[49m\u001b[43mcubes2\u001b[49m\u001b[43m)\u001b[49m\n",
      "\u001b[0;31mStopIteration\u001b[0m: "
     ]
    }
   ],
   "source": [
    "next(cubes2)"
   ]
  },
  {
   "cell_type": "code",
   "execution_count": 156,
   "id": "583c383c-c823-41c3-8799-fbfbc1dee1ca",
   "metadata": {},
   "outputs": [
    {
     "data": {
      "text/plain": [
       "{1, 27}"
      ]
     },
     "execution_count": 156,
     "metadata": {},
     "output_type": "execute_result"
    }
   ],
   "source": [
    "cubes2 = {el ** 3 for el in lista if el % 2 == 1}\n",
    "cubes2"
   ]
  },
  {
   "cell_type": "code",
   "execution_count": 157,
   "id": "107e53fe-04c9-49a2-b5d9-079ae6e9bfa8",
   "metadata": {},
   "outputs": [],
   "source": [
    "cubes2.add(1)"
   ]
  },
  {
   "cell_type": "code",
   "execution_count": 158,
   "id": "24fe36d7-0b75-49fe-b5e6-8c60d16465a7",
   "metadata": {},
   "outputs": [
    {
     "data": {
      "text/plain": [
       "{1: 1, 3: 27}"
      ]
     },
     "execution_count": 158,
     "metadata": {},
     "output_type": "execute_result"
    }
   ],
   "source": [
    "cubes2 = {el: el ** 3 for el in lista if el % 2 == 1}\n",
    "cubes2"
   ]
  },
  {
   "cell_type": "code",
   "execution_count": 160,
   "id": "a38f32fe-ba17-41d7-a32f-19088db7af22",
   "metadata": {},
   "outputs": [],
   "source": [
    "tabliczka = [[i * j for i in range(1, 11)] for j in range(1, 11)]"
   ]
  },
  {
   "cell_type": "markdown",
   "id": "58cd1f9c-31e7-4c61-b309-a7ae25429f27",
   "metadata": {},
   "source": [
    "• copying and cloning\n",
    "• lists in lists: matrices and cubes\n",
    "• the del instruction\n",
    "• iterating through lists with the for loop"
   ]
  },
  {
   "cell_type": "code",
   "execution_count": 161,
   "id": "46b2cf0a-6d0f-452a-a68a-874c17cce935",
   "metadata": {},
   "outputs": [
    {
     "name": "stdout",
     "output_type": "stream",
     "text": [
      "[1, 2, 3, 4, 5, 6, 7, 8, 9, 10]\n",
      "[2, 4, 6, 8, 10, 12, 14, 16, 18, 20]\n",
      "[3, 6, 9, 12, 15, 18, 21, 24, 27, 30]\n",
      "[4, 8, 12, 16, 20, 24, 28, 32, 36, 40]\n",
      "[5, 10, 15, 20, 25, 30, 35, 40, 45, 50]\n",
      "[6, 12, 18, 24, 30, 36, 42, 48, 54, 60]\n",
      "[7, 14, 21, 28, 35, 42, 49, 56, 63, 70]\n",
      "[8, 16, 24, 32, 40, 48, 56, 64, 72, 80]\n",
      "[9, 18, 27, 36, 45, 54, 63, 72, 81, 90]\n",
      "[10, 20, 30, 40, 50, 60, 70, 80, 90, 100]\n"
     ]
    }
   ],
   "source": [
    "for wiersz in tabliczka:\n",
    "    print(wiersz)"
   ]
  },
  {
   "cell_type": "markdown",
   "id": "1a9271cd-69e9-4b3a-bf8e-0cc6955fea41",
   "metadata": {},
   "source": [
    "• initializing loops\n",
    "• the in and not in operators\n",
    "• list comprehensions\n",
    "• copying and cloning\n",
    "• lists in lists: matrices and cubes"
   ]
  },
  {
   "cell_type": "markdown",
   "id": "60f1fdfc-c81d-41b2-8220-3c2a677afe9e",
   "metadata": {},
   "source": [
    "## PCEP-30-02 3.2 – Collect and process data using tuples\n",
    "* tuples: indexing, slicing, building, immutability\n",
    "* tuples vs. lists: similarities and differences\n",
    "* lists inside tuples and tuples inside lists"
   ]
  },
  {
   "cell_type": "code",
   "execution_count": 162,
   "id": "77da040a-e7b4-409a-a37c-08934a854ef3",
   "metadata": {},
   "outputs": [],
   "source": [
    "a = [1, 2]\n",
    "b = (3, 4, a)"
   ]
  },
  {
   "cell_type": "code",
   "execution_count": 166,
   "id": "ca31d93a-f9ab-4c7b-a2a0-da73d9e46253",
   "metadata": {},
   "outputs": [
    {
     "ename": "TypeError",
     "evalue": "unhashable type: 'list'",
     "output_type": "error",
     "traceback": [
      "\u001b[0;31m---------------------------------------------------------------------------\u001b[0m",
      "\u001b[0;31mTypeError\u001b[0m                                 Traceback (most recent call last)",
      "Cell \u001b[0;32mIn[166], line 1\u001b[0m\n\u001b[0;32m----> 1\u001b[0m b, \u001b[38;5;28;43mhash\u001b[39;49m\u001b[43m(\u001b[49m\u001b[43mb\u001b[49m\u001b[43m)\u001b[49m\n",
      "\u001b[0;31mTypeError\u001b[0m: unhashable type: 'list'"
     ]
    }
   ],
   "source": [
    "b, hash(b)"
   ]
  },
  {
   "cell_type": "code",
   "execution_count": 164,
   "id": "b4808667-99be-4894-b18f-f4dda135b3ca",
   "metadata": {},
   "outputs": [],
   "source": [
    "a.append(10)"
   ]
  },
  {
   "cell_type": "code",
   "execution_count": 165,
   "id": "45c857de-4fb8-423c-8216-522af9e7c6eb",
   "metadata": {},
   "outputs": [
    {
     "data": {
      "text/plain": [
       "(3, 4, [1, 2, 10])"
      ]
     },
     "execution_count": 165,
     "metadata": {},
     "output_type": "execute_result"
    }
   ],
   "source": [
    "b"
   ]
  },
  {
   "cell_type": "code",
   "execution_count": 168,
   "id": "23ee5cec-2e95-42a2-a92c-1ba9cbccd7fc",
   "metadata": {},
   "outputs": [
    {
     "ename": "TypeError",
     "evalue": "unhashable type: 'list'",
     "output_type": "error",
     "traceback": [
      "\u001b[0;31m---------------------------------------------------------------------------\u001b[0m",
      "\u001b[0;31mTypeError\u001b[0m                                 Traceback (most recent call last)",
      "Cell \u001b[0;32mIn[168], line 1\u001b[0m\n\u001b[0;32m----> 1\u001b[0m \u001b[38;5;28;43mhash\u001b[39;49m\u001b[43m(\u001b[49m\u001b[43m(\u001b[49m\u001b[38;5;241;43m1\u001b[39;49m\u001b[43m,\u001b[49m\u001b[43m \u001b[49m\u001b[38;5;241;43m2\u001b[39;49m\u001b[43m,\u001b[49m\u001b[43m \u001b[49m\u001b[43ma\u001b[49m\u001b[43m)\u001b[49m\u001b[43m)\u001b[49m\n",
      "\u001b[0;31mTypeError\u001b[0m: unhashable type: 'list'"
     ]
    }
   ],
   "source": [
    "hash((1, 2, a))"
   ]
  },
  {
   "cell_type": "markdown",
   "id": "ceddc80e-3ed6-4df6-8b4f-d3643723f857",
   "metadata": {},
   "source": [
    "### PCEP-30-02 3.3 Collect and process data using dictionaries\n",
    "* dictionaries: building, indexing, adding and removing keys\n",
    "* iterating through dictionaries and their keys and values\n",
    "* checking the existence of keys\n",
    "* methods: keys(), items(), and values()"
   ]
  },
  {
   "cell_type": "code",
   "execution_count": 170,
   "id": "301fc6bd-4c34-4bad-8491-9e44f9b99c26",
   "metadata": {},
   "outputs": [],
   "source": [
    "slownik = dict()"
   ]
  },
  {
   "cell_type": "code",
   "execution_count": 192,
   "id": "dfc032c4-a403-4285-9e65-3db547f790d8",
   "metadata": {},
   "outputs": [],
   "source": [
    "slownik[\"d\"] = 4"
   ]
  },
  {
   "cell_type": "code",
   "execution_count": 193,
   "id": "29c0901c-ad88-4e0e-8b13-074d50da8cef",
   "metadata": {},
   "outputs": [
    {
     "data": {
      "text/plain": [
       "{'d': 4}"
      ]
     },
     "execution_count": 193,
     "metadata": {},
     "output_type": "execute_result"
    }
   ],
   "source": [
    "slownik"
   ]
  },
  {
   "cell_type": "code",
   "execution_count": 195,
   "id": "5e409cac-7309-4201-95ad-08b86240e3b9",
   "metadata": {},
   "outputs": [],
   "source": [
    "del slownik[\"d\"]"
   ]
  },
  {
   "cell_type": "code",
   "execution_count": 196,
   "id": "ea727ac6-5af4-47eb-bf6d-11236594c6ef",
   "metadata": {},
   "outputs": [
    {
     "data": {
      "text/plain": [
       "{}"
      ]
     },
     "execution_count": 196,
     "metadata": {},
     "output_type": "execute_result"
    }
   ],
   "source": [
    "slownik"
   ]
  },
  {
   "cell_type": "code",
   "execution_count": 171,
   "id": "a75df45a-2dae-45a3-8ddd-966230a7f9b4",
   "metadata": {},
   "outputs": [],
   "source": [
    "slownik2 = {}"
   ]
  },
  {
   "cell_type": "code",
   "execution_count": 172,
   "id": "6c1f5c7d-5b7b-45e7-afd9-a7a8b17038e0",
   "metadata": {},
   "outputs": [
    {
     "data": {
      "text/plain": [
       "({}, {})"
      ]
     },
     "execution_count": 172,
     "metadata": {},
     "output_type": "execute_result"
    }
   ],
   "source": [
    "slownik, slownik2"
   ]
  },
  {
   "cell_type": "code",
   "execution_count": 177,
   "id": "96c365fe-a3b1-40e2-8a9f-b97d94bde29b",
   "metadata": {},
   "outputs": [],
   "source": [
    "slownik3 = {\"a c\": 1, \"b\": 2}"
   ]
  },
  {
   "cell_type": "code",
   "execution_count": 178,
   "id": "fcfc1c93-7f06-4e3d-8fae-203d9f0bcf07",
   "metadata": {},
   "outputs": [],
   "source": [
    "slownik4 = dict(a=1, b=2)"
   ]
  },
  {
   "cell_type": "code",
   "execution_count": 179,
   "id": "4ddeacdb-5b74-47c0-ad9c-c0ec49e732de",
   "metadata": {},
   "outputs": [
    {
     "data": {
      "text/plain": [
       "({'a c': 1, 'b': 2}, {'a': 1, 'b': 2})"
      ]
     },
     "execution_count": 179,
     "metadata": {},
     "output_type": "execute_result"
    }
   ],
   "source": [
    "slownik3, slownik4"
   ]
  },
  {
   "cell_type": "code",
   "execution_count": 180,
   "id": "d42e52a7-c5ea-425d-832b-c9be159d1ade",
   "metadata": {},
   "outputs": [
    {
     "name": "stdout",
     "output_type": "stream",
     "text": [
      "a\n",
      "b\n"
     ]
    }
   ],
   "source": [
    "for el in slownik4:\n",
    "    print(el)"
   ]
  },
  {
   "cell_type": "code",
   "execution_count": 181,
   "id": "45d27a1f-89b8-406e-b58f-cd718f2e2d50",
   "metadata": {},
   "outputs": [
    {
     "name": "stdout",
     "output_type": "stream",
     "text": [
      "a\n",
      "b\n"
     ]
    }
   ],
   "source": [
    "for el in slownik4.keys():\n",
    "    print(el)"
   ]
  },
  {
   "cell_type": "code",
   "execution_count": 182,
   "id": "94b8b25d-3093-4443-957f-14c6fff25c4f",
   "metadata": {},
   "outputs": [
    {
     "data": {
      "text/plain": [
       "['__class__',\n",
       " '__class_getitem__',\n",
       " '__contains__',\n",
       " '__delattr__',\n",
       " '__delitem__',\n",
       " '__dir__',\n",
       " '__doc__',\n",
       " '__eq__',\n",
       " '__format__',\n",
       " '__ge__',\n",
       " '__getattribute__',\n",
       " '__getitem__',\n",
       " '__gt__',\n",
       " '__hash__',\n",
       " '__init__',\n",
       " '__init_subclass__',\n",
       " '__ior__',\n",
       " '__iter__',\n",
       " '__le__',\n",
       " '__len__',\n",
       " '__lt__',\n",
       " '__ne__',\n",
       " '__new__',\n",
       " '__or__',\n",
       " '__reduce__',\n",
       " '__reduce_ex__',\n",
       " '__repr__',\n",
       " '__reversed__',\n",
       " '__ror__',\n",
       " '__setattr__',\n",
       " '__setitem__',\n",
       " '__sizeof__',\n",
       " '__str__',\n",
       " '__subclasshook__',\n",
       " 'clear',\n",
       " 'copy',\n",
       " 'fromkeys',\n",
       " 'get',\n",
       " 'items',\n",
       " 'keys',\n",
       " 'pop',\n",
       " 'popitem',\n",
       " 'setdefault',\n",
       " 'update',\n",
       " 'values']"
      ]
     },
     "execution_count": 182,
     "metadata": {},
     "output_type": "execute_result"
    }
   ],
   "source": [
    "dir(slownik4)"
   ]
  },
  {
   "cell_type": "code",
   "execution_count": 185,
   "id": "15587386-59e9-456f-99d1-bf068fc32211",
   "metadata": {},
   "outputs": [
    {
     "data": {
      "text/plain": [
       "dict_values([1, 2])"
      ]
     },
     "execution_count": 185,
     "metadata": {},
     "output_type": "execute_result"
    }
   ],
   "source": [
    "slownik4.values()"
   ]
  },
  {
   "cell_type": "code",
   "execution_count": 186,
   "id": "66c08b52-8d56-4c8b-bcfb-07b0ba94c716",
   "metadata": {},
   "outputs": [
    {
     "data": {
      "text/plain": [
       "dict_items([('a', 1), ('b', 2)])"
      ]
     },
     "execution_count": 186,
     "metadata": {},
     "output_type": "execute_result"
    }
   ],
   "source": [
    "slownik4.items()"
   ]
  },
  {
   "cell_type": "code",
   "execution_count": 188,
   "id": "58173eba-f72d-4645-beaf-51dc2cfdeb4d",
   "metadata": {},
   "outputs": [
    {
     "name": "stdout",
     "output_type": "stream",
     "text": [
      "('a', 1)\n",
      "('b', 2)\n"
     ]
    }
   ],
   "source": [
    "for para in slownik4.items():\n",
    "    print(para)"
   ]
  },
  {
   "cell_type": "code",
   "execution_count": 189,
   "id": "7686cb2b-6d89-4ee4-9c72-97775bee880e",
   "metadata": {},
   "outputs": [
    {
     "name": "stdout",
     "output_type": "stream",
     "text": [
      "a 1\n",
      "b 2\n"
     ]
    }
   ],
   "source": [
    "for k, v in slownik4.items():\n",
    "    print(k, v)"
   ]
  },
  {
   "cell_type": "code",
   "execution_count": 190,
   "id": "1192a397-e9ca-4647-8da7-abf24164fcee",
   "metadata": {},
   "outputs": [],
   "source": [
    "a, b = 1, 2"
   ]
  },
  {
   "cell_type": "code",
   "execution_count": 197,
   "id": "73216623-869e-4295-93cb-a7a05238a9ea",
   "metadata": {},
   "outputs": [],
   "source": [
    "slownik = {i: i**2 for i in range(10)}"
   ]
  },
  {
   "cell_type": "code",
   "execution_count": 198,
   "id": "21b43e52-104b-4494-b38d-8be8793cbde5",
   "metadata": {},
   "outputs": [
    {
     "data": {
      "text/plain": [
       "{0: 0, 1: 1, 2: 4, 3: 9, 4: 16, 5: 25, 6: 36, 7: 49, 8: 64, 9: 81}"
      ]
     },
     "execution_count": 198,
     "metadata": {},
     "output_type": "execute_result"
    }
   ],
   "source": [
    "slownik"
   ]
  },
  {
   "cell_type": "code",
   "execution_count": 201,
   "id": "411391cd-d8c4-49e6-867c-0f36ede9eb0d",
   "metadata": {},
   "outputs": [
    {
     "data": {
      "text/plain": [
       "9"
      ]
     },
     "execution_count": 201,
     "metadata": {},
     "output_type": "execute_result"
    }
   ],
   "source": [
    "slownik.pop(3)"
   ]
  },
  {
   "cell_type": "code",
   "execution_count": 202,
   "id": "7ecfab5e-bdf6-4e4d-918c-04e71956ab98",
   "metadata": {},
   "outputs": [
    {
     "data": {
      "text/plain": [
       "{0: 0, 1: 1, 2: 4, 4: 16, 5: 25, 6: 36, 7: 49, 8: 64, 9: 81}"
      ]
     },
     "execution_count": 202,
     "metadata": {},
     "output_type": "execute_result"
    }
   ],
   "source": [
    "slownik"
   ]
  },
  {
   "cell_type": "code",
   "execution_count": 203,
   "id": "af9139de-caf2-4739-ad67-d8aa83a9534a",
   "metadata": {},
   "outputs": [
    {
     "data": {
      "text/plain": [
       "(9, 81)"
      ]
     },
     "execution_count": 203,
     "metadata": {},
     "output_type": "execute_result"
    }
   ],
   "source": [
    "slownik.popitem()"
   ]
  },
  {
   "cell_type": "code",
   "execution_count": 204,
   "id": "a6c616be-b874-4f3c-9f5c-b4f345236a82",
   "metadata": {},
   "outputs": [
    {
     "data": {
      "text/plain": [
       "{0: 0, 1: 1, 2: 4, 4: 16, 5: 25, 6: 36, 7: 49, 8: 64}"
      ]
     },
     "execution_count": 204,
     "metadata": {},
     "output_type": "execute_result"
    }
   ],
   "source": [
    "slownik"
   ]
  },
  {
   "cell_type": "code",
   "execution_count": 205,
   "id": "3aef4605-ce08-4248-94eb-fa7143182911",
   "metadata": {},
   "outputs": [
    {
     "ename": "KeyError",
     "evalue": "100",
     "output_type": "error",
     "traceback": [
      "\u001b[0;31m---------------------------------------------------------------------------\u001b[0m",
      "\u001b[0;31mKeyError\u001b[0m                                  Traceback (most recent call last)",
      "Cell \u001b[0;32mIn[205], line 1\u001b[0m\n\u001b[0;32m----> 1\u001b[0m \u001b[43mslownik\u001b[49m\u001b[43m[\u001b[49m\u001b[38;5;241;43m100\u001b[39;49m\u001b[43m]\u001b[49m\n",
      "\u001b[0;31mKeyError\u001b[0m: 100"
     ]
    }
   ],
   "source": [
    "slownik[100] # poruszam sie po kluczach"
   ]
  },
  {
   "cell_type": "code",
   "execution_count": 207,
   "id": "b69ce100-6dc6-4ab1-81b0-a57f2978455b",
   "metadata": {},
   "outputs": [
    {
     "ename": "IndexError",
     "evalue": "list index out of range",
     "output_type": "error",
     "traceback": [
      "\u001b[0;31m---------------------------------------------------------------------------\u001b[0m",
      "\u001b[0;31mIndexError\u001b[0m                                Traceback (most recent call last)",
      "Cell \u001b[0;32mIn[207], line 1\u001b[0m\n\u001b[0;32m----> 1\u001b[0m \u001b[43mlista\u001b[49m\u001b[43m[\u001b[49m\u001b[38;5;241;43m100\u001b[39;49m\u001b[43m]\u001b[49m\n",
      "\u001b[0;31mIndexError\u001b[0m: list index out of range"
     ]
    }
   ],
   "source": [
    "lista[100]  # poruszam się po indeksach"
   ]
  },
  {
   "cell_type": "code",
   "execution_count": 209,
   "id": "dbf75b66-f17e-460f-be1e-9cc654efb9a9",
   "metadata": {},
   "outputs": [
    {
     "data": {
      "text/plain": [
       "999"
      ]
     },
     "execution_count": 209,
     "metadata": {},
     "output_type": "execute_result"
    }
   ],
   "source": [
    "slownik.get(100, 999)"
   ]
  },
  {
   "cell_type": "code",
   "execution_count": 210,
   "id": "445d9a3f-586c-4aca-8027-81088b0ca6c6",
   "metadata": {},
   "outputs": [],
   "source": [
    "slownik[(1, 2)] = 3"
   ]
  },
  {
   "cell_type": "code",
   "execution_count": 211,
   "id": "9ce4c413-3331-41ca-8f5d-d0506c06b71d",
   "metadata": {},
   "outputs": [
    {
     "data": {
      "text/plain": [
       "{0: 0, 1: 1, 2: 4, 4: 16, 5: 25, 6: 36, 7: 49, 8: 64, (1, 2): 3}"
      ]
     },
     "execution_count": 211,
     "metadata": {},
     "output_type": "execute_result"
    }
   ],
   "source": [
    "slownik"
   ]
  },
  {
   "cell_type": "code",
   "execution_count": 212,
   "id": "45f3120d-7c72-4bb0-93cf-8c68a5c25c2d",
   "metadata": {},
   "outputs": [
    {
     "ename": "TypeError",
     "evalue": "unhashable type: 'list'",
     "output_type": "error",
     "traceback": [
      "\u001b[0;31m---------------------------------------------------------------------------\u001b[0m",
      "\u001b[0;31mTypeError\u001b[0m                                 Traceback (most recent call last)",
      "Cell \u001b[0;32mIn[212], line 1\u001b[0m\n\u001b[0;32m----> 1\u001b[0m \u001b[43mslownik\u001b[49m\u001b[43m[\u001b[49m\u001b[43m[\u001b[49m\u001b[38;5;241;43m1\u001b[39;49m\u001b[43m,\u001b[49m\u001b[43m \u001b[49m\u001b[38;5;241;43m2\u001b[39;49m\u001b[43m]\u001b[49m\u001b[43m]\u001b[49m \u001b[38;5;241m=\u001b[39m \u001b[38;5;241m3\u001b[39m\n",
      "\u001b[0;31mTypeError\u001b[0m: unhashable type: 'list'"
     ]
    }
   ],
   "source": [
    "slownik[[1, 2]] = 3"
   ]
  },
  {
   "cell_type": "markdown",
   "id": "5d8bb76b-caa0-46ee-a1ab-1965b9695433",
   "metadata": {},
   "source": [
    "#### set, frozenset"
   ]
  },
  {
   "cell_type": "code",
   "execution_count": 214,
   "id": "faf80723-5371-4a5e-b870-b6e607098293",
   "metadata": {},
   "outputs": [],
   "source": [
    "a = {1, 2, 3}\n",
    "b = {2, 3, 4}"
   ]
  },
  {
   "cell_type": "code",
   "execution_count": 215,
   "id": "3f943e84-5f1e-4fac-af0a-523cda455af1",
   "metadata": {},
   "outputs": [
    {
     "data": {
      "text/plain": [
       "{1, 2, 3, 4}"
      ]
     },
     "execution_count": 215,
     "metadata": {},
     "output_type": "execute_result"
    }
   ],
   "source": [
    "a | b"
   ]
  },
  {
   "cell_type": "code",
   "execution_count": 216,
   "id": "91397f04-98e3-43ba-a68c-3dae772239fa",
   "metadata": {},
   "outputs": [
    {
     "data": {
      "text/plain": [
       "{2, 3}"
      ]
     },
     "execution_count": 216,
     "metadata": {},
     "output_type": "execute_result"
    }
   ],
   "source": [
    "a & b"
   ]
  },
  {
   "cell_type": "code",
   "execution_count": 217,
   "id": "65407204-0064-4be6-b35f-01995e2c4980",
   "metadata": {},
   "outputs": [
    {
     "data": {
      "text/plain": [
       "{1}"
      ]
     },
     "execution_count": 217,
     "metadata": {},
     "output_type": "execute_result"
    }
   ],
   "source": [
    "a - b"
   ]
  },
  {
   "cell_type": "code",
   "execution_count": 218,
   "id": "cb2668da-915c-4d8c-a364-77d1c0f97f97",
   "metadata": {},
   "outputs": [
    {
     "data": {
      "text/plain": [
       "{4}"
      ]
     },
     "execution_count": 218,
     "metadata": {},
     "output_type": "execute_result"
    }
   ],
   "source": [
    "b - a"
   ]
  },
  {
   "cell_type": "code",
   "execution_count": 219,
   "id": "25a2c27d-350a-45b9-94e1-4e5bfbede384",
   "metadata": {},
   "outputs": [
    {
     "data": {
      "text/plain": [
       "{1, 4}"
      ]
     },
     "execution_count": 219,
     "metadata": {},
     "output_type": "execute_result"
    }
   ],
   "source": [
    "a ^ b"
   ]
  },
  {
   "cell_type": "code",
   "execution_count": 220,
   "id": "e3f0a3ed-50b2-4010-a096-3f5cf3e46a69",
   "metadata": {},
   "outputs": [
    {
     "data": {
      "text/plain": [
       "False"
      ]
     },
     "execution_count": 220,
     "metadata": {},
     "output_type": "execute_result"
    }
   ],
   "source": [
    "a.issuperset(b)"
   ]
  },
  {
   "cell_type": "code",
   "execution_count": 221,
   "id": "33256913-ad11-4b48-9057-20418cfc21ae",
   "metadata": {},
   "outputs": [
    {
     "data": {
      "text/plain": [
       "True"
      ]
     },
     "execution_count": 221,
     "metadata": {},
     "output_type": "execute_result"
    }
   ],
   "source": [
    "a.issuperset({1, 2})"
   ]
  },
  {
   "cell_type": "code",
   "execution_count": 222,
   "id": "789d8bca-2552-4885-b1b7-aeeb4bceca3b",
   "metadata": {},
   "outputs": [
    {
     "data": {
      "text/plain": [
       "False"
      ]
     },
     "execution_count": 222,
     "metadata": {},
     "output_type": "execute_result"
    }
   ],
   "source": [
    "a.issubset(b)"
   ]
  },
  {
   "cell_type": "code",
   "execution_count": 223,
   "id": "f82f995c-c2e1-4cd8-86ef-94ba7b26818e",
   "metadata": {},
   "outputs": [
    {
     "data": {
      "text/plain": [
       "True"
      ]
     },
     "execution_count": 223,
     "metadata": {},
     "output_type": "execute_result"
    }
   ],
   "source": [
    "a.issubset(a)"
   ]
  },
  {
   "cell_type": "markdown",
   "id": "d5663714-1f26-45dd-ab46-fc1325c38a9f",
   "metadata": {},
   "source": [
    "## PCEP-30-02 3.4 Operate with strings\n",
    "\n",
    "* constructing strings\n",
    "* indexing, slicing, immutability\n",
    "* escaping using the \\ character\n",
    "* quotes and apostrophes inside strings\n",
    "* multi-line strings\n"
   ]
  },
  {
   "cell_type": "code",
   "execution_count": 227,
   "id": "d2bd415d-600b-479d-97e8-153c13c1906c",
   "metadata": {},
   "outputs": [
    {
     "data": {
      "text/plain": [
       "'który będzie za długi dla pep8'"
      ]
     },
     "execution_count": 227,
     "metadata": {},
     "output_type": "execute_result"
    }
   ],
   "source": [
    "a = \"to jest jakis długi napis, \"\n",
    "\"który będzie za długi dla pep8\""
   ]
  },
  {
   "cell_type": "code",
   "execution_count": 228,
   "id": "b09558df-ed2e-40df-b825-b5ce754cf46d",
   "metadata": {},
   "outputs": [
    {
     "data": {
      "text/plain": [
       "'to jest jakis długi napis, '"
      ]
     },
     "execution_count": 228,
     "metadata": {},
     "output_type": "execute_result"
    }
   ],
   "source": [
    "a"
   ]
  },
  {
   "cell_type": "code",
   "execution_count": 231,
   "id": "328d4540-ff8a-4a15-a81c-cd08538960d8",
   "metadata": {},
   "outputs": [
    {
     "ename": "SyntaxError",
     "evalue": "unexpected character after line continuation character (1150190717.py, line 1)",
     "output_type": "error",
     "traceback": [
      "\u001b[0;36m  Cell \u001b[0;32mIn[231], line 1\u001b[0;36m\u001b[0m\n\u001b[0;31m    a = \"to jest jakis długi napis, \" \\\u001b[0m\n\u001b[0m                                       ^\u001b[0m\n\u001b[0;31mSyntaxError\u001b[0m\u001b[0;31m:\u001b[0m unexpected character after line continuation character\n"
     ]
    }
   ],
   "source": [
    "a = \"to jest jakis długi napis, \" \\\n",
    "\"który będzie za długi dla pep8\""
   ]
  },
  {
   "cell_type": "code",
   "execution_count": 230,
   "id": "715baf56-f0b1-4aa4-b032-e3783671ce3a",
   "metadata": {},
   "outputs": [
    {
     "data": {
      "text/plain": [
       "'to jest jakis długi napis, który będzie za długi dla pep8'"
      ]
     },
     "execution_count": 230,
     "metadata": {},
     "output_type": "execute_result"
    }
   ],
   "source": [
    "a"
   ]
  },
  {
   "cell_type": "code",
   "execution_count": 237,
   "id": "a21daeea-0d67-48b3-8bae-0aace1b75c1b",
   "metadata": {},
   "outputs": [
    {
     "data": {
      "text/plain": [
       "'to jest jakis długi napis, który będzie za długi dla pep8'"
      ]
     },
     "execution_count": 237,
     "metadata": {},
     "output_type": "execute_result"
    }
   ],
   "source": [
    "a = (\n",
    "    \"to jest jakis długi napis, \"\n",
    "    \"który będzie za długi dla pep8\"\n",
    ")\n",
    "a"
   ]
  },
  {
   "cell_type": "code",
   "execution_count": 238,
   "id": "bfda5c61-90fd-4bbc-b275-6dd8ecbc0d7d",
   "metadata": {},
   "outputs": [
    {
     "data": {
      "text/plain": [
       "'To jest \"napis\"'"
      ]
     },
     "execution_count": 238,
     "metadata": {},
     "output_type": "execute_result"
    }
   ],
   "source": [
    "\"To jest \\\"napis\\\"\""
   ]
  },
  {
   "cell_type": "code",
   "execution_count": 240,
   "id": "359b70ad-e6d8-479d-af06-9633acd44751",
   "metadata": {},
   "outputs": [
    {
     "data": {
      "text/plain": [
       "'to jest [1, 2, 3]'"
      ]
     },
     "execution_count": 240,
     "metadata": {},
     "output_type": "execute_result"
    }
   ],
   "source": [
    "x = [1,2 ,3]\n",
    "f\"to jest {x}\""
   ]
  },
  {
   "cell_type": "code",
   "execution_count": 243,
   "id": "640903f7-8dbd-4bd2-9225-28005ca4212e",
   "metadata": {},
   "outputs": [
    {
     "name": "stdout",
     "output_type": "stream",
     "text": [
      "to jest\n",
      "surowy napis\n"
     ]
    }
   ],
   "source": [
    "print(\"to jest\\nsurowy napis\")"
   ]
  },
  {
   "cell_type": "code",
   "execution_count": 244,
   "id": "ea2ae3e4-2d0e-4fd1-a760-4b06dc7c4b0e",
   "metadata": {},
   "outputs": [
    {
     "name": "stdout",
     "output_type": "stream",
     "text": [
      "to jest\\nsurowy napis\n"
     ]
    }
   ],
   "source": [
    "print(r\"to jest\\nsurowy napis\")"
   ]
  },
  {
   "cell_type": "markdown",
   "id": "0a639164-c1a7-4b7f-8736-c735e2805319",
   "metadata": {},
   "source": [
    "* basic string functions and methods"
   ]
  },
  {
   "cell_type": "code",
   "execution_count": 245,
   "id": "c04aff35-bacd-4623-bfb6-d936fa3d927c",
   "metadata": {},
   "outputs": [
    {
     "data": {
      "text/plain": [
       "['__add__',\n",
       " '__class__',\n",
       " '__contains__',\n",
       " '__delattr__',\n",
       " '__dir__',\n",
       " '__doc__',\n",
       " '__eq__',\n",
       " '__format__',\n",
       " '__ge__',\n",
       " '__getattribute__',\n",
       " '__getitem__',\n",
       " '__getnewargs__',\n",
       " '__gt__',\n",
       " '__hash__',\n",
       " '__init__',\n",
       " '__init_subclass__',\n",
       " '__iter__',\n",
       " '__le__',\n",
       " '__len__',\n",
       " '__lt__',\n",
       " '__mod__',\n",
       " '__mul__',\n",
       " '__ne__',\n",
       " '__new__',\n",
       " '__reduce__',\n",
       " '__reduce_ex__',\n",
       " '__repr__',\n",
       " '__rmod__',\n",
       " '__rmul__',\n",
       " '__setattr__',\n",
       " '__sizeof__',\n",
       " '__str__',\n",
       " '__subclasshook__',\n",
       " 'capitalize',\n",
       " 'casefold',\n",
       " 'center',\n",
       " 'count',\n",
       " 'encode',\n",
       " 'endswith',\n",
       " 'expandtabs',\n",
       " 'find',\n",
       " 'format',\n",
       " 'format_map',\n",
       " 'index',\n",
       " 'isalnum',\n",
       " 'isalpha',\n",
       " 'isascii',\n",
       " 'isdecimal',\n",
       " 'isdigit',\n",
       " 'isidentifier',\n",
       " 'islower',\n",
       " 'isnumeric',\n",
       " 'isprintable',\n",
       " 'isspace',\n",
       " 'istitle',\n",
       " 'isupper',\n",
       " 'join',\n",
       " 'ljust',\n",
       " 'lower',\n",
       " 'lstrip',\n",
       " 'maketrans',\n",
       " 'partition',\n",
       " 'removeprefix',\n",
       " 'removesuffix',\n",
       " 'replace',\n",
       " 'rfind',\n",
       " 'rindex',\n",
       " 'rjust',\n",
       " 'rpartition',\n",
       " 'rsplit',\n",
       " 'rstrip',\n",
       " 'split',\n",
       " 'splitlines',\n",
       " 'startswith',\n",
       " 'strip',\n",
       " 'swapcase',\n",
       " 'title',\n",
       " 'translate',\n",
       " 'upper',\n",
       " 'zfill']"
      ]
     },
     "execution_count": 245,
     "metadata": {},
     "output_type": "execute_result"
    }
   ],
   "source": [
    "dir(str)"
   ]
  },
  {
   "cell_type": "code",
   "execution_count": 246,
   "id": "4a6e4b68-ee0a-4a9e-b720-e3ea2e585b6d",
   "metadata": {},
   "outputs": [
    {
     "data": {
      "text/plain": [
       "'Ala ma kota'"
      ]
     },
     "execution_count": 246,
     "metadata": {},
     "output_type": "execute_result"
    }
   ],
   "source": [
    "\"ala ma kota\".capitalize()"
   ]
  },
  {
   "cell_type": "code",
   "execution_count": 247,
   "id": "dd02c141-388a-4946-9f96-8592824d8c17",
   "metadata": {},
   "outputs": [
    {
     "data": {
      "text/plain": [
       "'Ala Ma Kota'"
      ]
     },
     "execution_count": 247,
     "metadata": {},
     "output_type": "execute_result"
    }
   ],
   "source": [
    "\"ala ma kota\".title()"
   ]
  },
  {
   "cell_type": "code",
   "execution_count": 248,
   "id": "b6fe96e6-d2c6-4cc6-9192-e81dada0f507",
   "metadata": {},
   "outputs": [
    {
     "data": {
      "text/plain": [
       "['ala', 'ma', 'kota']"
      ]
     },
     "execution_count": 248,
     "metadata": {},
     "output_type": "execute_result"
    }
   ],
   "source": [
    "\"ala ma kota\".split()"
   ]
  },
  {
   "cell_type": "code",
   "execution_count": 250,
   "id": "354bdaab-4616-4cd7-838f-f8f079d99f23",
   "metadata": {},
   "outputs": [
    {
     "data": {
      "text/plain": [
       "['ala ', ' kota']"
      ]
     },
     "execution_count": 250,
     "metadata": {},
     "output_type": "execute_result"
    }
   ],
   "source": [
    "\"ala ma kota\".split(\"ma\")"
   ]
  },
  {
   "cell_type": "code",
   "execution_count": 251,
   "id": "6ecee75b-a280-4c07-9d4a-254fcbcf9300",
   "metadata": {},
   "outputs": [
    {
     "data": {
      "text/plain": [
       "'ala ma kota'"
      ]
     },
     "execution_count": 251,
     "metadata": {},
     "output_type": "execute_result"
    }
   ],
   "source": [
    "\"   ala ma kota  \".strip()"
   ]
  },
  {
   "cell_type": "code",
   "execution_count": 253,
   "id": "bf08d0dc-0cea-450c-b28a-af37adc9db4b",
   "metadata": {},
   "outputs": [
    {
     "data": {
      "text/plain": [
       "False"
      ]
     },
     "execution_count": 253,
     "metadata": {},
     "output_type": "execute_result"
    }
   ],
   "source": [
    "\"123abc\".isalnum()"
   ]
  },
  {
   "cell_type": "code",
   "execution_count": 254,
   "id": "a49b4ead-b9c2-47db-bb1f-e76a15cb91e1",
   "metadata": {},
   "outputs": [
    {
     "data": {
      "text/plain": [
       "False"
      ]
     },
     "execution_count": 254,
     "metadata": {},
     "output_type": "execute_result"
    }
   ],
   "source": [
    "\"123abc\".isdecimal()"
   ]
  },
  {
   "cell_type": "code",
   "execution_count": 255,
   "id": "eaef8904-cf9b-4fdb-84d4-13c75e06a1b9",
   "metadata": {},
   "outputs": [
    {
     "data": {
      "text/plain": [
       "True"
      ]
     },
     "execution_count": 255,
     "metadata": {},
     "output_type": "execute_result"
    }
   ],
   "source": [
    "\"123\".isdecimal()"
   ]
  },
  {
   "cell_type": "markdown",
   "id": "2bdc8040-97f2-4981-96c6-2a2579ac9055",
   "metadata": {},
   "source": [
    "# Section 4: Functions and Exceptions "
   ]
  },
  {
   "cell_type": "markdown",
   "id": "bcb27b45-5398-4600-bf3f-53d7811a30c8",
   "metadata": {},
   "source": [
    "### PCEP-30-02 4.1 – Decompose the code using functions\n",
    "\n",
    "* defining and invoking user-defined functions and generators"
   ]
  },
  {
   "cell_type": "code",
   "execution_count": 265,
   "id": "9d79c9ea-b39f-41bc-bc11-26b8ff60bd93",
   "metadata": {},
   "outputs": [],
   "source": [
    "def foo():\n",
    "    return 1\n",
    "\n",
    "def foo_gen():\n",
    "    yield 1\n",
    "    yield 2\n",
    "    yield 3\n",
    "\n",
    "result = foo()\n",
    "gen = foo_gen()\n",
    "\n"
   ]
  },
  {
   "cell_type": "code",
   "execution_count": 266,
   "id": "8d4a5a91-276a-4a7e-b345-dea07e33c195",
   "metadata": {},
   "outputs": [
    {
     "data": {
      "text/plain": [
       "(function, int, function, generator)"
      ]
     },
     "execution_count": 266,
     "metadata": {},
     "output_type": "execute_result"
    }
   ],
   "source": [
    "type(foo), type(result), type(foo_gen), type(gen)"
   ]
  },
  {
   "cell_type": "code",
   "execution_count": 267,
   "id": "fe061f83-5f93-4e52-b058-82af51c28000",
   "metadata": {},
   "outputs": [
    {
     "name": "stdout",
     "output_type": "stream",
     "text": [
      "1\n",
      "2\n",
      "3\n"
     ]
    }
   ],
   "source": [
    "for i in gen:\n",
    "    print(i)"
   ]
  },
  {
   "cell_type": "code",
   "execution_count": 268,
   "id": "04b4a4e2-6cc3-4d45-abc2-586a700e753d",
   "metadata": {},
   "outputs": [],
   "source": [
    "for i in gen:\n",
    "    print(i)"
   ]
  },
  {
   "cell_type": "code",
   "execution_count": 269,
   "id": "f224d36c-d0ae-4e35-93ef-e81c14915041",
   "metadata": {},
   "outputs": [
    {
     "ename": "StopIteration",
     "evalue": "",
     "output_type": "error",
     "traceback": [
      "\u001b[0;31m---------------------------------------------------------------------------\u001b[0m",
      "\u001b[0;31mStopIteration\u001b[0m                             Traceback (most recent call last)",
      "Cell \u001b[0;32mIn[269], line 1\u001b[0m\n\u001b[0;32m----> 1\u001b[0m \u001b[38;5;28;43mnext\u001b[39;49m\u001b[43m(\u001b[49m\u001b[43mgen\u001b[49m\u001b[43m)\u001b[49m\n",
      "\u001b[0;31mStopIteration\u001b[0m: "
     ]
    }
   ],
   "source": [
    "# next(gen)"
   ]
  },
  {
   "cell_type": "markdown",
   "id": "e806484e-a890-4a89-acd0-9279f7d826d7",
   "metadata": {},
   "source": [
    "* the return keyword, returning results\n",
    " "
   ]
  },
  {
   "cell_type": "code",
   "execution_count": 272,
   "id": "b013c23c-8514-4d65-9c60-4cb68f5ce232",
   "metadata": {},
   "outputs": [
    {
     "name": "stdout",
     "output_type": "stream",
     "text": [
      "None\n"
     ]
    }
   ],
   "source": [
    "def bar():\n",
    "    return\n",
    "\n",
    "p = bar()\n",
    "print(p)"
   ]
  },
  {
   "cell_type": "markdown",
   "id": "a33ec8ee-9df5-4971-b271-c52aac42ea0d",
   "metadata": {},
   "source": [
    "* the None keyword\n",
    "* recursion"
   ]
  },
  {
   "cell_type": "code",
   "execution_count": 273,
   "id": "645c6619-84b9-4db1-b3b3-2e6d919a289b",
   "metadata": {},
   "outputs": [],
   "source": [
    "def silnia(n):\n",
    "    if n == 0:\n",
    "        return 1\n",
    "    return n * silnia(n-1)"
   ]
  },
  {
   "cell_type": "code",
   "execution_count": 274,
   "id": "3540362c-382b-40d2-9f3d-9f2a184697cd",
   "metadata": {},
   "outputs": [
    {
     "data": {
      "text/plain": [
       "120"
      ]
     },
     "execution_count": 274,
     "metadata": {},
     "output_type": "execute_result"
    }
   ],
   "source": [
    "silnia(5)"
   ]
  },
  {
   "cell_type": "code",
   "execution_count": 10,
   "id": "bf2e649f-0f95-4bfc-a48f-205e997d3a89",
   "metadata": {},
   "outputs": [],
   "source": [
    "def incr(n=0):\n",
    "    print(n)\n",
    "    return incr(n+1)\n",
    "\n",
    "# incr()"
   ]
  },
  {
   "cell_type": "code",
   "execution_count": 12,
   "id": "0fc32dc2-2ecf-4416-ae9e-e8b1f9d7ec22",
   "metadata": {},
   "outputs": [
    {
     "name": "stdout",
     "output_type": "stream",
     "text": [
      "1\n"
     ]
    }
   ],
   "source": [
    "def foo(a=1):\n",
    "    print(a)\n",
    "\n",
    "foo()"
   ]
  },
  {
   "cell_type": "code",
   "execution_count": 13,
   "id": "880a53b2-f315-43a3-82b2-dfefca35fa7c",
   "metadata": {},
   "outputs": [
    {
     "name": "stdout",
     "output_type": "stream",
     "text": [
      "4\n"
     ]
    }
   ],
   "source": [
    "foo(4)"
   ]
  },
  {
   "cell_type": "code",
   "execution_count": 15,
   "id": "67a3c719-02af-482e-bb49-5ae7e47ace84",
   "metadata": {},
   "outputs": [],
   "source": [
    "def foo(a):\n",
    "    print(a)\n",
    "\n",
    "# foo()"
   ]
  },
  {
   "cell_type": "markdown",
   "id": "e32c9ce5-b40d-41dd-9e69-8620c35c416a",
   "metadata": {},
   "source": [
    "### PCEP-30-02 4.2 – Organize interaction between the function and its environment\n",
    "\n",
    "* parameters vs. arguments"
   ]
  },
  {
   "cell_type": "code",
   "execution_count": 279,
   "id": "bc402bc5-1de1-4303-ade8-64406b1765b8",
   "metadata": {},
   "outputs": [
    {
     "name": "stdout",
     "output_type": "stream",
     "text": [
      "1 2 1 2\n",
      "1 2 3 2\n",
      "1 2 3 4\n"
     ]
    }
   ],
   "source": [
    "def foo(a, b, c=1, d=2):\n",
    "    print(a, b, c, d)\n",
    "\n",
    "foo(1, 2)\n",
    "foo(1, 2, 3)\n",
    "foo(1, 2, 3, 4)\n",
    "\n"
   ]
  },
  {
   "cell_type": "code",
   "execution_count": 280,
   "id": "d7cb75da-06de-4aee-af69-dbcbad019e72",
   "metadata": {},
   "outputs": [
    {
     "name": "stdout",
     "output_type": "stream",
     "text": [
      "4 4 2 4\n"
     ]
    }
   ],
   "source": [
    "foo(a=4, b=4, d=4, c=2)"
   ]
  },
  {
   "cell_type": "code",
   "execution_count": 16,
   "id": "66a88e9d-ff23-4819-9c3f-fab48a31c0d7",
   "metadata": {},
   "outputs": [],
   "source": [
    "# foo(c=2, d=3, 1, 2)"
   ]
  },
  {
   "cell_type": "code",
   "execution_count": 282,
   "id": "894ed12e-64f4-4973-acab-6b8331768dae",
   "metadata": {},
   "outputs": [
    {
     "name": "stdout",
     "output_type": "stream",
     "text": [
      "4 42 123 23\n"
     ]
    }
   ],
   "source": [
    "foo(4, b=42, d=23, c=123)"
   ]
  },
  {
   "cell_type": "code",
   "execution_count": 284,
   "id": "048f230a-81f8-45d6-9c3a-042f1c269730",
   "metadata": {},
   "outputs": [
    {
     "name": "stdout",
     "output_type": "stream",
     "text": [
      "4 4 123 23\n"
     ]
    }
   ],
   "source": [
    "foo(4, d=23, c=123, b=4)"
   ]
  },
  {
   "cell_type": "code",
   "execution_count": 296,
   "id": "ac3307c9-d8a2-455b-9fbb-a0661217ef35",
   "metadata": {},
   "outputs": [],
   "source": [
    "def suma(a, b, *, to_float=False):\n",
    "    result = a + b\n",
    "    if to_float:\n",
    "        result = float(result)\n",
    "    return result"
   ]
  },
  {
   "cell_type": "code",
   "execution_count": 297,
   "id": "8c4b5449-a7af-4128-9f0e-65074b9ba022",
   "metadata": {},
   "outputs": [
    {
     "data": {
      "text/plain": [
       "3.0"
      ]
     },
     "execution_count": 297,
     "metadata": {},
     "output_type": "execute_result"
    }
   ],
   "source": [
    "suma(1, 2, to_float=True)\n",
    "\n"
   ]
  },
  {
   "cell_type": "code",
   "execution_count": 298,
   "id": "7f77b2db-5c91-4a1e-bd18-3d7bdf402182",
   "metadata": {},
   "outputs": [],
   "source": [
    "del suma"
   ]
  },
  {
   "cell_type": "code",
   "execution_count": 17,
   "id": "bd5d42f8-bc06-4b8a-9582-62bbda297043",
   "metadata": {},
   "outputs": [],
   "source": [
    "# suma"
   ]
  },
  {
   "cell_type": "markdown",
   "id": "79921405-095b-4c04-970d-51484d5e4176",
   "metadata": {},
   "source": [
    "* positional, keyword, and mixed argument passing\n",
    "* default parameter values\n",
    "* name scopes, name hiding (shadowing), and the global keyword"
   ]
  },
  {
   "cell_type": "code",
   "execution_count": 295,
   "id": "415fc8cc-2914-4803-9460-fb3ae6679fe8",
   "metadata": {},
   "outputs": [
    {
     "data": {
      "text/plain": [
       "3"
      ]
     },
     "execution_count": 295,
     "metadata": {},
     "output_type": "execute_result"
    }
   ],
   "source": [
    "sum([1, 2])"
   ]
  },
  {
   "cell_type": "code",
   "execution_count": 18,
   "id": "d3a5b069-a273-47f8-b794-0c5f9627f4a6",
   "metadata": {},
   "outputs": [],
   "source": [
    "# dir()"
   ]
  },
  {
   "cell_type": "code",
   "execution_count": 301,
   "id": "d374399c-9bc3-4ad9-bb89-c7ede831dabf",
   "metadata": {},
   "outputs": [
    {
     "name": "stdout",
     "output_type": "stream",
     "text": [
      "README.md      Untitled.ipynb test.py\n"
     ]
    }
   ],
   "source": [
    "!ls"
   ]
  },
  {
   "cell_type": "code",
   "execution_count": 303,
   "id": "1af37b46-3f2d-4444-a913-d29e4e6a9f11",
   "metadata": {},
   "outputs": [
    {
     "name": "stdout",
     "output_type": "stream",
     "text": [
      "Overwriting test.py\n"
     ]
    }
   ],
   "source": [
    "%%writefile test.py\n",
    "\n",
    "\"\"\"\n",
    "To czasem bywa wykorzystywane jako komentarz\n",
    "choć to nie jest komentarz formalnie rzecz biorąc\n",
    "\"\"\"\n",
    "print(dir())"
   ]
  },
  {
   "cell_type": "code",
   "execution_count": 304,
   "id": "5980185d-33b2-4ef4-9095-9867ae649a82",
   "metadata": {},
   "outputs": [
    {
     "name": "stdout",
     "output_type": "stream",
     "text": [
      "['__annotations__', '__builtins__', '__cached__', '__doc__', '__file__', '__loader__', '__name__', '__package__', '__spec__']\n"
     ]
    }
   ],
   "source": [
    "!python test.py"
   ]
  },
  {
   "cell_type": "code",
   "execution_count": 19,
   "id": "ce5109b4-0172-4902-8865-fcab7f43a68f",
   "metadata": {},
   "outputs": [],
   "source": [
    "# dir(__builtins__)"
   ]
  },
  {
   "cell_type": "code",
   "execution_count": 306,
   "id": "b6323f15-e611-4cc1-bd53-cae7e14aa375",
   "metadata": {},
   "outputs": [],
   "source": [
    "print = 10"
   ]
  },
  {
   "cell_type": "code",
   "execution_count": 308,
   "id": "486ffe2c-61f5-4488-8d27-4809b35b5c99",
   "metadata": {},
   "outputs": [],
   "source": [
    "print = __builtins__.print"
   ]
  },
  {
   "cell_type": "code",
   "execution_count": 309,
   "id": "e8cba203-fe25-4fae-879e-03da68aab7c9",
   "metadata": {},
   "outputs": [
    {
     "name": "stdout",
     "output_type": "stream",
     "text": [
      "10\n"
     ]
    }
   ],
   "source": [
    "print(10)"
   ]
  },
  {
   "cell_type": "code",
   "execution_count": 310,
   "id": "c6326083-5d8e-4645-a963-5e6689b414d2",
   "metadata": {},
   "outputs": [
    {
     "name": "stdout",
     "output_type": "stream",
     "text": [
      "Writing przestrzenie.py\n"
     ]
    }
   ],
   "source": [
    "%%writefile przestrzenie.py\n",
    "\n",
    "a = 1\n",
    "\n",
    "def foo():\n",
    "    print(a)\n",
    "\n",
    "foo()\n",
    "print(a)"
   ]
  },
  {
   "cell_type": "code",
   "execution_count": 311,
   "id": "62ef8c0d-9587-4e4e-816d-3eb8bc27bee5",
   "metadata": {},
   "outputs": [
    {
     "name": "stdout",
     "output_type": "stream",
     "text": [
      "1\n",
      "1\n"
     ]
    }
   ],
   "source": [
    "!python przestrzenie.py"
   ]
  },
  {
   "cell_type": "code",
   "execution_count": 312,
   "id": "c35bfacf-9a9f-4c9c-9065-0a335c42be4a",
   "metadata": {},
   "outputs": [
    {
     "name": "stdout",
     "output_type": "stream",
     "text": [
      "Overwriting przestrzenie.py\n"
     ]
    }
   ],
   "source": [
    "%%writefile przestrzenie.py\n",
    "\n",
    "a = 1\n",
    "\n",
    "def foo():\n",
    "    a = 2\n",
    "    print(a)\n",
    "\n",
    "foo()\n",
    "print(a)"
   ]
  },
  {
   "cell_type": "code",
   "execution_count": 313,
   "id": "b9ae8fb6-8904-404a-a889-50248984899c",
   "metadata": {},
   "outputs": [
    {
     "name": "stdout",
     "output_type": "stream",
     "text": [
      "2\n",
      "1\n"
     ]
    }
   ],
   "source": [
    "!python przestrzenie.py"
   ]
  },
  {
   "cell_type": "code",
   "execution_count": 314,
   "id": "c18e1175-5ec8-434d-8d2f-f114a0b14be1",
   "metadata": {},
   "outputs": [
    {
     "name": "stdout",
     "output_type": "stream",
     "text": [
      "Overwriting przestrzenie.py\n"
     ]
    }
   ],
   "source": [
    "%%writefile przestrzenie.py\n",
    "\n",
    "a = 1\n",
    "\n",
    "def foo():\n",
    "    global a\n",
    "    a = 2\n",
    "    print(a)\n",
    "\n",
    "foo()\n",
    "print(a)"
   ]
  },
  {
   "cell_type": "code",
   "execution_count": 315,
   "id": "d3a9a1b0-f765-4d98-be3c-096ce1246472",
   "metadata": {},
   "outputs": [
    {
     "name": "stdout",
     "output_type": "stream",
     "text": [
      "2\n",
      "2\n"
     ]
    }
   ],
   "source": [
    "!python przestrzenie.py"
   ]
  },
  {
   "cell_type": "code",
   "execution_count": 335,
   "id": "5148030a-ecc6-40a2-9835-2f732f18dcc2",
   "metadata": {},
   "outputs": [
    {
     "name": "stdout",
     "output_type": "stream",
     "text": [
      "Overwriting przestrzenie.py\n"
     ]
    }
   ],
   "source": [
    "%%writefile przestrzenie.py\n",
    "\n",
    "a = 1\n",
    "\n",
    "def foo():\n",
    "    b = 10\n",
    "    \n",
    "    def bar():\n",
    "        # global a\n",
    "        # nonlocal b\n",
    "        a = 2\n",
    "        b = 12\n",
    "        print(\"a w bar:\", a)\n",
    "        print(\"b w bar\", b)\n",
    "\n",
    "    bar()\n",
    "    print(\"b w foo\", b)\n",
    "  \n",
    "\n",
    "foo()\n",
    "print(a)"
   ]
  },
  {
   "cell_type": "code",
   "execution_count": 336,
   "id": "4eecc602-d302-4fcd-8bb9-02b481cb690a",
   "metadata": {},
   "outputs": [
    {
     "name": "stdout",
     "output_type": "stream",
     "text": [
      "a w bar: 2\n",
      "b w bar 12\n",
      "b w foo 10\n",
      "1\n"
     ]
    }
   ],
   "source": [
    "!python przestrzenie.py"
   ]
  },
  {
   "cell_type": "code",
   "execution_count": 354,
   "id": "0abe0b3a-286c-403d-8c73-0d59756fb166",
   "metadata": {},
   "outputs": [],
   "source": [
    "def sumator(a, b, *args):\n",
    "    print(args)\n",
    "    pass"
   ]
  },
  {
   "cell_type": "code",
   "execution_count": 355,
   "id": "594585e2-de7b-4324-b226-e08f4b481fb5",
   "metadata": {},
   "outputs": [
    {
     "name": "stdout",
     "output_type": "stream",
     "text": [
      "()\n"
     ]
    }
   ],
   "source": [
    "# sumator()\n",
    "sumator(1, 2)"
   ]
  },
  {
   "cell_type": "code",
   "execution_count": 356,
   "id": "c1783b9f-dd8d-4055-8de4-0fede043658d",
   "metadata": {},
   "outputs": [
    {
     "name": "stdout",
     "output_type": "stream",
     "text": [
      "(1, 2, 4, 3)\n"
     ]
    }
   ],
   "source": [
    "sumator(1, 2, 1, 2 ,4 ,3)"
   ]
  },
  {
   "cell_type": "code",
   "execution_count": 362,
   "id": "45575062-ddfd-4f40-862d-62b2d69379b7",
   "metadata": {},
   "outputs": [
    {
     "name": "stdout",
     "output_type": "stream",
     "text": [
      "{'c': 1, 'd': 2}\n",
      "{'c': 1, 'd': 2}\n"
     ]
    }
   ],
   "source": [
    "def sumator(a, b, **kwargs):\n",
    "    print(kwargs)\n",
    "    pass\n",
    "sumator(a=1, b=2, c=1, d=2)\n",
    "sumator(1, 2, c=1, d=2)"
   ]
  },
  {
   "cell_type": "code",
   "execution_count": 20,
   "id": "c94278b9-ecc6-4fd5-9953-0f87fcb8b842",
   "metadata": {},
   "outputs": [],
   "source": [
    "# sumator(1, 2, c=1, a=2)"
   ]
  },
  {
   "cell_type": "code",
   "execution_count": 367,
   "id": "a9654e05-0389-4688-9122-545f35a8ea82",
   "metadata": {},
   "outputs": [],
   "source": [
    "def foo(a, b, *args, d=2, e=3, **kwargs): \n",
    "    print(\"a=\", a, \"b=\", b, \"args=\", args, \"d=\", d, \"e=\", e, \"kwargs=\", kwargs)\n",
    "\n"
   ]
  },
  {
   "cell_type": "code",
   "execution_count": 368,
   "id": "6f404a7f-e5fc-4485-bec8-2399939217cb",
   "metadata": {},
   "outputs": [
    {
     "name": "stdout",
     "output_type": "stream",
     "text": [
      "a= 1 b= 2 args= ([1, 2, 3], {'g': 10, 'name': 'foo'}) d= 2 e= 3 kwargs= {}\n"
     ]
    }
   ],
   "source": [
    "args = [1, 2, 3 ]\n",
    "kwargs = {\"g\": 10, \"name\": \"foo\"}\n",
    "\n",
    "foo(1, 2, args, kwargs)\n",
    "\n"
   ]
  },
  {
   "cell_type": "code",
   "execution_count": 369,
   "id": "5021b87f-fc74-4ea6-b5a6-00367f816e7a",
   "metadata": {},
   "outputs": [
    {
     "name": "stdout",
     "output_type": "stream",
     "text": [
      "a= 1 b= 2 args= (1, 2, 3) d= 2 e= 3 kwargs= {'g': 10, 'name': 'foo'}\n"
     ]
    }
   ],
   "source": [
    "foo(1, 2, *args, **kwargs)"
   ]
  },
  {
   "cell_type": "code",
   "execution_count": 370,
   "id": "76ae6cb7-4ea6-4779-8381-d19aff901598",
   "metadata": {},
   "outputs": [
    {
     "name": "stdout",
     "output_type": "stream",
     "text": [
      "a= 1 b= 2 args= (1, 2, 3) d= 2 e= 3 kwargs= {'g': 10, 'name': 'foo'}\n"
     ]
    }
   ],
   "source": [
    "foo(1, 2, 1, 2, 3, g=10, name=\"foo\")"
   ]
  },
  {
   "cell_type": "code",
   "execution_count": 371,
   "id": "d8587375-b591-4bac-9649-73873210e48d",
   "metadata": {},
   "outputs": [],
   "source": [
    "a, b = 1, 2"
   ]
  },
  {
   "cell_type": "code",
   "execution_count": 21,
   "id": "89d6ab25-f0b7-4473-9815-e4830be83913",
   "metadata": {},
   "outputs": [],
   "source": [
    "# a, b = 1, 2, 3"
   ]
  },
  {
   "cell_type": "code",
   "execution_count": 376,
   "id": "29d080ec-40e9-43a6-98f5-c1c6b15dfad4",
   "metadata": {},
   "outputs": [],
   "source": [
    "*a, b = 1, 2, 3"
   ]
  },
  {
   "cell_type": "code",
   "execution_count": 377,
   "id": "acd27e38-543b-4920-8f0f-02422e03db54",
   "metadata": {},
   "outputs": [
    {
     "data": {
      "text/plain": [
       "([1, 2], 3)"
      ]
     },
     "execution_count": 377,
     "metadata": {},
     "output_type": "execute_result"
    }
   ],
   "source": [
    "a, b"
   ]
  },
  {
   "cell_type": "code",
   "execution_count": 378,
   "id": "ea09f585-6c86-4cb2-8799-fedf40a66c29",
   "metadata": {},
   "outputs": [],
   "source": [
    "*a, b, c = 1, 2, 3, 5"
   ]
  },
  {
   "cell_type": "code",
   "execution_count": 379,
   "id": "5b65ecb9-9f0e-4c1b-8fb0-0ce936b23524",
   "metadata": {},
   "outputs": [],
   "source": [
    "a, *b, c = 1, 2, 3, 5"
   ]
  },
  {
   "cell_type": "markdown",
   "id": "b57fe4a5-e2f3-4d13-acec-23433c03448b",
   "metadata": {},
   "source": [
    "## PCEP-30-02 4.3 – Python Built-In Exceptions Hierarchy\n",
    "\n",
    "* BaseException\n",
    "* Exception\n",
    "* SystemExit\n",
    "* KeyboardInterrupt\n",
    "* abstract exceptions\n",
    "* ArithmeticError\n",
    "* LookupError\n",
    "    * IndexError\n",
    "    * KeyError\n",
    "* TypeError\n",
    "* ValueError\n",
    "\n",
    "  "
   ]
  },
  {
   "cell_type": "markdown",
   "id": "67a8bc3f-7673-4cd8-9e2a-6eb476ed2167",
   "metadata": {},
   "source": [
    "## PCEP-30-02 4.4 – Basics of Python Exception Handling\n",
    "\n",
    "* try-except / the try-except Exception\n",
    "* ordering the except branches\n",
    "* propagating exceptions through function boundaries\n",
    "* delegating responsibility for handling exceptions"
   ]
  },
  {
   "cell_type": "code",
   "execution_count": 380,
   "id": "aabc044d-fe2a-48b4-a348-0314350442fb",
   "metadata": {},
   "outputs": [
    {
     "data": {
      "text/plain": [
       "BaseException()"
      ]
     },
     "execution_count": 380,
     "metadata": {},
     "output_type": "execute_result"
    }
   ],
   "source": [
    "BaseException"
   ]
  },
  {
   "cell_type": "code",
   "execution_count": 383,
   "id": "9b35de1a-2708-4884-81b5-623cdce8aa9b",
   "metadata": {},
   "outputs": [
    {
     "data": {
      "text/plain": [
       "True"
      ]
     },
     "execution_count": 383,
     "metadata": {},
     "output_type": "execute_result"
    }
   ],
   "source": [
    "isinstance(ValueError(), BaseException )"
   ]
  },
  {
   "cell_type": "code",
   "execution_count": 384,
   "id": "a26e2fad-d5bf-4c53-b3cd-fa7a81fcdc99",
   "metadata": {},
   "outputs": [
    {
     "data": {
      "text/plain": [
       "[ValueError, Exception, BaseException, object]"
      ]
     },
     "execution_count": 384,
     "metadata": {},
     "output_type": "execute_result"
    }
   ],
   "source": [
    "ValueError.mro()"
   ]
  },
  {
   "cell_type": "code",
   "execution_count": 386,
   "id": "413682aa-b98f-4f37-937a-3220d5cc1620",
   "metadata": {},
   "outputs": [
    {
     "name": "stdout",
     "output_type": "stream",
     "text": [
      "Writing systemexitexample.py\n"
     ]
    }
   ],
   "source": [
    "%%writefile systemexitexample.py\n",
    "\n",
    "import sys\n",
    "sys.exit()"
   ]
  },
  {
   "cell_type": "code",
   "execution_count": 387,
   "id": "fc576ff6-f411-4e43-8a95-b94935802b42",
   "metadata": {},
   "outputs": [],
   "source": [
    "!python systemexitexample.py"
   ]
  },
  {
   "cell_type": "code",
   "execution_count": 23,
   "id": "e63914c5-c5c0-46ea-ade4-6c0933c11126",
   "metadata": {},
   "outputs": [],
   "source": [
    "# 1 + \"1\""
   ]
  },
  {
   "cell_type": "code",
   "execution_count": 24,
   "id": "58917252-c5a7-42f4-a780-c9d84ef9ffbc",
   "metadata": {},
   "outputs": [
    {
     "data": {
      "text/plain": [
       "2.0"
      ]
     },
     "execution_count": 24,
     "metadata": {},
     "output_type": "execute_result"
    }
   ],
   "source": [
    "1 + 1.0"
   ]
  },
  {
   "cell_type": "code",
   "execution_count": 25,
   "id": "5b07c500-ba14-4b81-ab88-0e80d6e56018",
   "metadata": {},
   "outputs": [],
   "source": [
    "# int(\"xx\")"
   ]
  },
  {
   "cell_type": "code",
   "execution_count": 401,
   "id": "97458b5d-181e-4dba-acd6-14cc46c1c46f",
   "metadata": {},
   "outputs": [],
   "source": [
    "class MyException(Exception):\n",
    "    pass\n",
    "\n",
    "def funkcja():\n",
    "    1 + \"1\"\n",
    "    raise MyException(\"to tekst mojego błedu\")"
   ]
  },
  {
   "cell_type": "code",
   "execution_count": 424,
   "id": "a8bc1a2d-4041-490b-b50a-cfb8038d5bf6",
   "metadata": {},
   "outputs": [
    {
     "name": "stdout",
     "output_type": "stream",
     "text": [
      "loguję, zę coś posżło nie tak: unsupported operand type(s) for +: 'int' and 'str'\n"
     ]
    },
    {
     "ename": "TypeError",
     "evalue": "unsupported operand type(s) for +: 'int' and 'str'",
     "output_type": "error",
     "traceback": [
      "\u001b[0;31m---------------------------------------------------------------------------\u001b[0m",
      "\u001b[0;31mTypeError\u001b[0m                                 Traceback (most recent call last)",
      "Cell \u001b[0;32mIn[424], line 9\u001b[0m\n\u001b[1;32m      7\u001b[0m \u001b[38;5;28;01mexcept\u001b[39;00m \u001b[38;5;167;01mException\u001b[39;00m \u001b[38;5;28;01mas\u001b[39;00m e:\n\u001b[1;32m      8\u001b[0m     \u001b[38;5;28mprint\u001b[39m(\u001b[38;5;124mf\u001b[39m\u001b[38;5;124m\"\u001b[39m\u001b[38;5;124mloguję, zę coś posżło nie tak: \u001b[39m\u001b[38;5;132;01m{\u001b[39;00me\u001b[38;5;132;01m}\u001b[39;00m\u001b[38;5;124m\"\u001b[39m)\n\u001b[0;32m----> 9\u001b[0m     \u001b[38;5;28;01mraise\u001b[39;00m e\n",
      "Cell \u001b[0;32mIn[424], line 2\u001b[0m\n\u001b[1;32m      1\u001b[0m \u001b[38;5;28;01mtry\u001b[39;00m:\n\u001b[0;32m----> 2\u001b[0m     \u001b[43mfunkcja\u001b[49m\u001b[43m(\u001b[49m\u001b[43m)\u001b[49m\n\u001b[1;32m      3\u001b[0m \u001b[38;5;28;01mexcept\u001b[39;00m MyException:\n\u001b[1;32m      4\u001b[0m     \u001b[38;5;28mprint\u001b[39m(\u001b[38;5;124m\"\u001b[39m\u001b[38;5;124mcos złego sie wydarzyło\u001b[39m\u001b[38;5;124m\"\u001b[39m)\n",
      "Cell \u001b[0;32mIn[401], line 5\u001b[0m, in \u001b[0;36mfunkcja\u001b[0;34m()\u001b[0m\n\u001b[1;32m      4\u001b[0m \u001b[38;5;28;01mdef\u001b[39;00m \u001b[38;5;21mfunkcja\u001b[39m():\n\u001b[0;32m----> 5\u001b[0m     \u001b[38;5;241;43m1\u001b[39;49m\u001b[43m \u001b[49m\u001b[38;5;241;43m+\u001b[39;49m\u001b[43m \u001b[49m\u001b[38;5;124;43m\"\u001b[39;49m\u001b[38;5;124;43m1\u001b[39;49m\u001b[38;5;124;43m\"\u001b[39;49m\n\u001b[1;32m      6\u001b[0m     \u001b[38;5;28;01mraise\u001b[39;00m MyException(\u001b[38;5;124m\"\u001b[39m\u001b[38;5;124mto tekst mojego błedu\u001b[39m\u001b[38;5;124m\"\u001b[39m)\n",
      "\u001b[0;31mTypeError\u001b[0m: unsupported operand type(s) for +: 'int' and 'str'"
     ]
    }
   ],
   "source": [
    "\n",
    "try:\n",
    "    funkcja()\n",
    "except MyException:\n",
    "    print(\"cos złego sie wydarzyło\")\n",
    "except ZeroDivisionError:\n",
    "    print(\"NIe dziel przez zero\")\n",
    "except Exception as e:\n",
    "    print(f\"loguję, zę coś posżło nie tak: {e}\")\n",
    "    raise e\n",
    "    "
   ]
  },
  {
   "cell_type": "code",
   "execution_count": 408,
   "id": "d5464046-2809-49fd-aba5-4ac3929dfc08",
   "metadata": {},
   "outputs": [
    {
     "name": "stdout",
     "output_type": "stream",
     "text": [
      "to wykona się zawsze\n"
     ]
    },
    {
     "ename": "TypeError",
     "evalue": "unsupported operand type(s) for +: 'int' and 'str'",
     "output_type": "error",
     "traceback": [
      "\u001b[0;31m---------------------------------------------------------------------------\u001b[0m",
      "\u001b[0;31mZeroDivisionError\u001b[0m                         Traceback (most recent call last)",
      "Cell \u001b[0;32mIn[408], line 2\u001b[0m\n\u001b[1;32m      1\u001b[0m \u001b[38;5;28;01mtry\u001b[39;00m:\n\u001b[0;32m----> 2\u001b[0m     \u001b[38;5;241;43m1\u001b[39;49m\u001b[38;5;241;43m/\u001b[39;49m\u001b[38;5;241;43m0\u001b[39;49m\n\u001b[1;32m      3\u001b[0m \u001b[38;5;28;01mexcept\u001b[39;00m:\n",
      "\u001b[0;31mZeroDivisionError\u001b[0m: division by zero",
      "\nDuring handling of the above exception, another exception occurred:\n",
      "\u001b[0;31mTypeError\u001b[0m                                 Traceback (most recent call last)",
      "Cell \u001b[0;32mIn[408], line 4\u001b[0m\n\u001b[1;32m      2\u001b[0m     \u001b[38;5;241m1\u001b[39m\u001b[38;5;241m/\u001b[39m\u001b[38;5;241m0\u001b[39m\n\u001b[1;32m      3\u001b[0m \u001b[38;5;28;01mexcept\u001b[39;00m:\n\u001b[0;32m----> 4\u001b[0m     \u001b[38;5;241;43m1\u001b[39;49m\u001b[43m \u001b[49m\u001b[38;5;241;43m+\u001b[39;49m\u001b[43m \u001b[49m\u001b[38;5;124;43m\"\u001b[39;49m\u001b[38;5;124;43m1\u001b[39;49m\u001b[38;5;124;43m\"\u001b[39;49m\n\u001b[1;32m      5\u001b[0m     \u001b[38;5;28mprint\u001b[39m(\u001b[38;5;124m\"\u001b[39m\u001b[38;5;124mObsługa wyjątku\u001b[39m\u001b[38;5;124m\"\u001b[39m)\n\u001b[1;32m      6\u001b[0m \u001b[38;5;28;01mfinally\u001b[39;00m:\n",
      "\u001b[0;31mTypeError\u001b[0m: unsupported operand type(s) for +: 'int' and 'str'"
     ]
    }
   ],
   "source": [
    "try:\n",
    "    1/0\n",
    "except:\n",
    "    1 + \"1\"\n",
    "    print(\"Obsługa wyjątku\")\n",
    "finally:\n",
    "    print(\"to wykona się zawsze\")"
   ]
  },
  {
   "cell_type": "code",
   "execution_count": 26,
   "id": "3fde328c-61b1-4aab-8793-3dc43bcea80f",
   "metadata": {},
   "outputs": [
    {
     "data": {
      "text/plain": [
       "['__cause__',\n",
       " '__class__',\n",
       " '__context__',\n",
       " '__delattr__',\n",
       " '__dict__',\n",
       " '__dir__',\n",
       " '__doc__',\n",
       " '__eq__',\n",
       " '__format__',\n",
       " '__ge__',\n",
       " '__getattribute__',\n",
       " '__gt__',\n",
       " '__hash__',\n",
       " '__init__',\n",
       " '__init_subclass__',\n",
       " '__le__',\n",
       " '__lt__',\n",
       " '__ne__',\n",
       " '__new__',\n",
       " '__reduce__',\n",
       " '__reduce_ex__',\n",
       " '__repr__',\n",
       " '__setattr__',\n",
       " '__setstate__',\n",
       " '__sizeof__',\n",
       " '__str__',\n",
       " '__subclasshook__',\n",
       " '__suppress_context__',\n",
       " '__traceback__',\n",
       " 'args',\n",
       " 'with_traceback']"
      ]
     },
     "execution_count": 26,
     "metadata": {},
     "output_type": "execute_result"
    }
   ],
   "source": [
    "e = ValueError(\"message\")\n",
    "dir(e)"
   ]
  },
  {
   "cell_type": "code",
   "execution_count": 426,
   "id": "25a0e075-7271-4cd4-bd29-3fec2f03e96b",
   "metadata": {},
   "outputs": [
    {
     "data": {
      "text/plain": [
       "'message'"
      ]
     },
     "execution_count": 426,
     "metadata": {},
     "output_type": "execute_result"
    }
   ],
   "source": [
    "e.args[0]"
   ]
  },
  {
   "cell_type": "code",
   "execution_count": 417,
   "id": "dc38eb08-5fb1-48c9-bac8-2710ff9d3c6a",
   "metadata": {},
   "outputs": [],
   "source": [
    "import logging\n",
    "\n",
    "logger = logging.getLogger()"
   ]
  },
  {
   "cell_type": "code",
   "execution_count": 418,
   "id": "05eee017-d8b0-482e-8457-265d25504796",
   "metadata": {},
   "outputs": [
    {
     "name": "stderr",
     "output_type": "stream",
     "text": [
      "xx\n"
     ]
    }
   ],
   "source": [
    "logger.warning(\"xx\")"
   ]
  },
  {
   "cell_type": "code",
   "execution_count": 421,
   "id": "e7d45531-b4e3-4874-8077-71902db3899b",
   "metadata": {},
   "outputs": [
    {
     "name": "stderr",
     "output_type": "stream",
     "text": [
      "błąd:\n",
      "Traceback (most recent call last):\n",
      "  File \"/var/folders/8l/t3zs7y694s5g088bzybz9czc0000gn/T/ipykernel_32406/3612252656.py\", line 2, in <module>\n",
      "    1 + \"1\"\n",
      "TypeError: unsupported operand type(s) for +: 'int' and 'str'\n"
     ]
    }
   ],
   "source": [
    "try:\n",
    "    1 + \"1\"\n",
    "except TypeError as e:\n",
    "    logger.error(\"błąd:\", exc_info=True)"
   ]
  },
  {
   "cell_type": "code",
   "execution_count": 422,
   "id": "ec39ebe6-0b65-47c5-9b8c-80f31419a383",
   "metadata": {},
   "outputs": [
    {
     "ename": "NameError",
     "evalue": "name 'e' is not defined",
     "output_type": "error",
     "traceback": [
      "\u001b[0;31m---------------------------------------------------------------------------\u001b[0m",
      "\u001b[0;31mNameError\u001b[0m                                 Traceback (most recent call last)",
      "Cell \u001b[0;32mIn[422], line 1\u001b[0m\n\u001b[0;32m----> 1\u001b[0m \u001b[43me\u001b[49m\u001b[38;5;241m.\u001b[39margs[\u001b[38;5;241m0\u001b[39m]\n",
      "\u001b[0;31mNameError\u001b[0m: name 'e' is not defined"
     ]
    }
   ],
   "source": [
    "e.args[0]"
   ]
  },
  {
   "cell_type": "code",
   "execution_count": null,
   "id": "b16c481f-a91a-42d3-b4bb-ba6940490616",
   "metadata": {},
   "outputs": [],
   "source": []
  }
 ],
 "metadata": {
  "kernelspec": {
   "display_name": "Python 3 (ipykernel)",
   "language": "python",
   "name": "python3"
  },
  "language_info": {
   "codemirror_mode": {
    "name": "ipython",
    "version": 3
   },
   "file_extension": ".py",
   "mimetype": "text/x-python",
   "name": "python",
   "nbconvert_exporter": "python",
   "pygments_lexer": "ipython3",
   "version": "3.10.7"
  }
 },
 "nbformat": 4,
 "nbformat_minor": 5
}
